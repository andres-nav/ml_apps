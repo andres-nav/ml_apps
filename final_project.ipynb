{
  "cells": [
    {
      "cell_type": "code",
      "source": [
        "# Only for collab\n",
        "!pip install langdetect\n",
        "from google.colab import drive\n",
        "import pandas as pd\n",
        "drive.mount(\"/content/drive\")\n",
        "df = pd.read_csv('/content/drive/MyDrive/full_merged_dataset15.csv', encoding='utf-8')"
      ],
      "metadata": {
        "id": "iYOq9AgIoAvA",
        "outputId": "d2c9a7fa-9ada-4894-b3a8-c9918a677f18",
        "colab": {
          "base_uri": "https://localhost:8080/",
          "height": 69
        }
      },
      "execution_count": 50,
      "outputs": [
        {
          "output_type": "display_data",
          "data": {
            "text/plain": [
              "<IPython.core.display.HTML object>"
            ],
            "text/html": [
              "\n",
              "  <style>\n",
              "    pre {\n",
              "        white-space: pre-wrap;\n",
              "    }\n",
              "  </style>\n",
              "  "
            ]
          },
          "metadata": {}
        },
        {
          "output_type": "stream",
          "name": "stdout",
          "text": [
            "Requirement already satisfied: langdetect in /usr/local/lib/python3.10/dist-packages (1.0.9)\n",
            "Requirement already satisfied: six in /usr/local/lib/python3.10/dist-packages (from langdetect) (1.16.0)\n",
            "Drive already mounted at /content/drive; to attempt to forcibly remount, call drive.mount(\"/content/drive\", force_remount=True).\n"
          ]
        }
      ]
    },
    {
      "cell_type": "code",
      "execution_count": null,
      "metadata": {
        "id": "GE7ciAjDnzhm"
      },
      "outputs": [],
      "source": [
        "import pandas as pd\n",
        "import os\n",
        "import numpy as np\n",
        "from termcolor import colored\n",
        "import seaborn as sns\n",
        "import matplotlib.pyplot as plt\n",
        "import html\n",
        "from langdetect import detect\n",
        "from nltk.stem import SnowballStemmer\n",
        "from nltk.stem import WordNetLemmatizer"
      ]
    },
    {
      "cell_type": "code",
      "source": [
        "from IPython.display import HTML, display\n",
        "\n",
        "def set_css():\n",
        "  display(HTML('''\n",
        "  <style>\n",
        "    pre {\n",
        "        white-space: pre-wrap;\n",
        "    }\n",
        "  </style>\n",
        "  '''))\n",
        "get_ipython().events.register('pre_run_cell', set_css)"
      ],
      "metadata": {
        "id": "ZV0z0gowXbnf"
      },
      "execution_count": null,
      "outputs": []
    },
    {
      "cell_type": "code",
      "execution_count": null,
      "metadata": {
        "id": "j41v3jfHnzhq",
        "colab": {
          "base_uri": "https://localhost:8080/",
          "height": 17
        },
        "outputId": "bbf5746f-e28a-42d0-9a65-34f0343bf6cf"
      },
      "outputs": [
        {
          "output_type": "display_data",
          "data": {
            "text/plain": [
              "<IPython.core.display.HTML object>"
            ],
            "text/html": [
              "\n",
              "  <style>\n",
              "    pre {\n",
              "        white-space: pre-wrap;\n",
              "    }\n",
              "  </style>\n",
              "  "
            ]
          },
          "metadata": {}
        }
      ],
      "source": [
        "#df = pd.read_csv('full_merged_dataset15.csv', encoding='utf-8')"
      ]
    },
    {
      "cell_type": "code",
      "execution_count": null,
      "metadata": {
        "id": "kXt7hnYknzhs",
        "outputId": "64de22d9-19a9-43bc-92fd-948dffc5dd93",
        "colab": {
          "base_uri": "https://localhost:8080/",
          "height": 206
        }
      },
      "outputs": [
        {
          "output_type": "display_data",
          "data": {
            "text/plain": [
              "<IPython.core.display.HTML object>"
            ],
            "text/html": [
              "\n",
              "  <style>\n",
              "    pre {\n",
              "        white-space: pre-wrap;\n",
              "    }\n",
              "  </style>\n",
              "  "
            ]
          },
          "metadata": {}
        },
        {
          "output_type": "execute_result",
          "data": {
            "text/plain": [
              "       id                         title                   author  \\\n",
              "0  162275   The 80&rsquo;s Miracle Diet          By Melvin Dixon   \n",
              "1  162250             All Saints&rsquo;  By Corey Van Landingham   \n",
              "2  162279  And These Are Just a Few ...          By Melvin Dixon   \n",
              "3  162248                          ASMR  By Corey Van Landingham   \n",
              "4  162249                          ASMR  By Corey Van Landingham   \n",
              "\n",
              "                                             snippet  \\\n",
              "0                      Yours free without the asking   \n",
              "1    CaravaggioÃ¢â‚¬â„¢s face in the sunken pumpkin.   \n",
              "2  This poem is for the epidemic dead and the liv...   \n",
              "3                      Why not climb up the mountain   \n",
              "4                               HelloÃ¢â‚¬â€Tonight   \n",
              "\n",
              "                                                link  \\\n",
              "0  https://www.poetryfoundation.org/poetrymagazin...   \n",
              "1  https://www.poetryfoundation.org/poetrymagazin...   \n",
              "2  https://www.poetryfoundation.org/poetrymagazin...   \n",
              "3  https://www.poetryfoundation.org/poetrymagazin...   \n",
              "4  https://www.poetryfoundation.org/poetrymagazin...   \n",
              "\n",
              "                                          categories  \\\n",
              "0                     ['Living', 'Health & Illness']   \n",
              "1                                                 []   \n",
              "2  ['Living', 'Health & Illness', 'Social Comment...   \n",
              "3                                                 []   \n",
              "4                                                 []   \n",
              "\n",
              "                                                poem  \n",
              "0  Yours free without the asking Quick delivery v...  \n",
              "1  CaravaggioÃ¢â‚¬â„¢s face in the sunken pumpkin...  \n",
              "2  This poem is for the epidemic dead and the liv...  \n",
              "3  Why not climb up the mountain of delight? To t...  \n",
              "4  HelloÃ¢â‚¬â€Tonight weÃ¢â‚¬â„¢ll trace the st...  "
            ],
            "text/html": [
              "\n",
              "  <div id=\"df-86c5ba64-55a5-473b-939b-f72b517977bc\" class=\"colab-df-container\">\n",
              "    <div>\n",
              "<style scoped>\n",
              "    .dataframe tbody tr th:only-of-type {\n",
              "        vertical-align: middle;\n",
              "    }\n",
              "\n",
              "    .dataframe tbody tr th {\n",
              "        vertical-align: top;\n",
              "    }\n",
              "\n",
              "    .dataframe thead th {\n",
              "        text-align: right;\n",
              "    }\n",
              "</style>\n",
              "<table border=\"1\" class=\"dataframe\">\n",
              "  <thead>\n",
              "    <tr style=\"text-align: right;\">\n",
              "      <th></th>\n",
              "      <th>id</th>\n",
              "      <th>title</th>\n",
              "      <th>author</th>\n",
              "      <th>snippet</th>\n",
              "      <th>link</th>\n",
              "      <th>categories</th>\n",
              "      <th>poem</th>\n",
              "    </tr>\n",
              "  </thead>\n",
              "  <tbody>\n",
              "    <tr>\n",
              "      <th>0</th>\n",
              "      <td>162275</td>\n",
              "      <td>The 80&amp;rsquo;s Miracle Diet</td>\n",
              "      <td>By Melvin Dixon</td>\n",
              "      <td>Yours free without the asking</td>\n",
              "      <td>https://www.poetryfoundation.org/poetrymagazin...</td>\n",
              "      <td>['Living', 'Health &amp; Illness']</td>\n",
              "      <td>Yours free without the asking Quick delivery v...</td>\n",
              "    </tr>\n",
              "    <tr>\n",
              "      <th>1</th>\n",
              "      <td>162250</td>\n",
              "      <td>All Saints&amp;rsquo;</td>\n",
              "      <td>By Corey Van Landingham</td>\n",
              "      <td>CaravaggioÃ¢â‚¬â„¢s face in the sunken pumpkin.</td>\n",
              "      <td>https://www.poetryfoundation.org/poetrymagazin...</td>\n",
              "      <td>[]</td>\n",
              "      <td>CaravaggioÃ¢â‚¬â„¢s face in the sunken pumpkin...</td>\n",
              "    </tr>\n",
              "    <tr>\n",
              "      <th>2</th>\n",
              "      <td>162279</td>\n",
              "      <td>And These Are Just a Few ...</td>\n",
              "      <td>By Melvin Dixon</td>\n",
              "      <td>This poem is for the epidemic dead and the liv...</td>\n",
              "      <td>https://www.poetryfoundation.org/poetrymagazin...</td>\n",
              "      <td>['Living', 'Health &amp; Illness', 'Social Comment...</td>\n",
              "      <td>This poem is for the epidemic dead and the liv...</td>\n",
              "    </tr>\n",
              "    <tr>\n",
              "      <th>3</th>\n",
              "      <td>162248</td>\n",
              "      <td>ASMR</td>\n",
              "      <td>By Corey Van Landingham</td>\n",
              "      <td>Why not climb up the mountain</td>\n",
              "      <td>https://www.poetryfoundation.org/poetrymagazin...</td>\n",
              "      <td>[]</td>\n",
              "      <td>Why not climb up the mountain of delight? To t...</td>\n",
              "    </tr>\n",
              "    <tr>\n",
              "      <th>4</th>\n",
              "      <td>162249</td>\n",
              "      <td>ASMR</td>\n",
              "      <td>By Corey Van Landingham</td>\n",
              "      <td>HelloÃ¢â‚¬â€Tonight</td>\n",
              "      <td>https://www.poetryfoundation.org/poetrymagazin...</td>\n",
              "      <td>[]</td>\n",
              "      <td>HelloÃ¢â‚¬â€Tonight weÃ¢â‚¬â„¢ll trace the st...</td>\n",
              "    </tr>\n",
              "  </tbody>\n",
              "</table>\n",
              "</div>\n",
              "    <div class=\"colab-df-buttons\">\n",
              "\n",
              "  <div class=\"colab-df-container\">\n",
              "    <button class=\"colab-df-convert\" onclick=\"convertToInteractive('df-86c5ba64-55a5-473b-939b-f72b517977bc')\"\n",
              "            title=\"Convert this dataframe to an interactive table.\"\n",
              "            style=\"display:none;\">\n",
              "\n",
              "  <svg xmlns=\"http://www.w3.org/2000/svg\" height=\"24px\" viewBox=\"0 -960 960 960\">\n",
              "    <path d=\"M120-120v-720h720v720H120Zm60-500h600v-160H180v160Zm220 220h160v-160H400v160Zm0 220h160v-160H400v160ZM180-400h160v-160H180v160Zm440 0h160v-160H620v160ZM180-180h160v-160H180v160Zm440 0h160v-160H620v160Z\"/>\n",
              "  </svg>\n",
              "    </button>\n",
              "\n",
              "  <style>\n",
              "    .colab-df-container {\n",
              "      display:flex;\n",
              "      gap: 12px;\n",
              "    }\n",
              "\n",
              "    .colab-df-convert {\n",
              "      background-color: #E8F0FE;\n",
              "      border: none;\n",
              "      border-radius: 50%;\n",
              "      cursor: pointer;\n",
              "      display: none;\n",
              "      fill: #1967D2;\n",
              "      height: 32px;\n",
              "      padding: 0 0 0 0;\n",
              "      width: 32px;\n",
              "    }\n",
              "\n",
              "    .colab-df-convert:hover {\n",
              "      background-color: #E2EBFA;\n",
              "      box-shadow: 0px 1px 2px rgba(60, 64, 67, 0.3), 0px 1px 3px 1px rgba(60, 64, 67, 0.15);\n",
              "      fill: #174EA6;\n",
              "    }\n",
              "\n",
              "    .colab-df-buttons div {\n",
              "      margin-bottom: 4px;\n",
              "    }\n",
              "\n",
              "    [theme=dark] .colab-df-convert {\n",
              "      background-color: #3B4455;\n",
              "      fill: #D2E3FC;\n",
              "    }\n",
              "\n",
              "    [theme=dark] .colab-df-convert:hover {\n",
              "      background-color: #434B5C;\n",
              "      box-shadow: 0px 1px 3px 1px rgba(0, 0, 0, 0.15);\n",
              "      filter: drop-shadow(0px 1px 2px rgba(0, 0, 0, 0.3));\n",
              "      fill: #FFFFFF;\n",
              "    }\n",
              "  </style>\n",
              "\n",
              "    <script>\n",
              "      const buttonEl =\n",
              "        document.querySelector('#df-86c5ba64-55a5-473b-939b-f72b517977bc button.colab-df-convert');\n",
              "      buttonEl.style.display =\n",
              "        google.colab.kernel.accessAllowed ? 'block' : 'none';\n",
              "\n",
              "      async function convertToInteractive(key) {\n",
              "        const element = document.querySelector('#df-86c5ba64-55a5-473b-939b-f72b517977bc');\n",
              "        const dataTable =\n",
              "          await google.colab.kernel.invokeFunction('convertToInteractive',\n",
              "                                                    [key], {});\n",
              "        if (!dataTable) return;\n",
              "\n",
              "        const docLinkHtml = 'Like what you see? Visit the ' +\n",
              "          '<a target=\"_blank\" href=https://colab.research.google.com/notebooks/data_table.ipynb>data table notebook</a>'\n",
              "          + ' to learn more about interactive tables.';\n",
              "        element.innerHTML = '';\n",
              "        dataTable['output_type'] = 'display_data';\n",
              "        await google.colab.output.renderOutput(dataTable, element);\n",
              "        const docLink = document.createElement('div');\n",
              "        docLink.innerHTML = docLinkHtml;\n",
              "        element.appendChild(docLink);\n",
              "      }\n",
              "    </script>\n",
              "  </div>\n",
              "\n",
              "\n",
              "<div id=\"df-8c9700c3-9a4c-4a70-b8ad-07ccd040429e\">\n",
              "  <button class=\"colab-df-quickchart\" onclick=\"quickchart('df-8c9700c3-9a4c-4a70-b8ad-07ccd040429e')\"\n",
              "            title=\"Suggest charts\"\n",
              "            style=\"display:none;\">\n",
              "\n",
              "<svg xmlns=\"http://www.w3.org/2000/svg\" height=\"24px\"viewBox=\"0 0 24 24\"\n",
              "     width=\"24px\">\n",
              "    <g>\n",
              "        <path d=\"M19 3H5c-1.1 0-2 .9-2 2v14c0 1.1.9 2 2 2h14c1.1 0 2-.9 2-2V5c0-1.1-.9-2-2-2zM9 17H7v-7h2v7zm4 0h-2V7h2v10zm4 0h-2v-4h2v4z\"/>\n",
              "    </g>\n",
              "</svg>\n",
              "  </button>\n",
              "\n",
              "<style>\n",
              "  .colab-df-quickchart {\n",
              "      --bg-color: #E8F0FE;\n",
              "      --fill-color: #1967D2;\n",
              "      --hover-bg-color: #E2EBFA;\n",
              "      --hover-fill-color: #174EA6;\n",
              "      --disabled-fill-color: #AAA;\n",
              "      --disabled-bg-color: #DDD;\n",
              "  }\n",
              "\n",
              "  [theme=dark] .colab-df-quickchart {\n",
              "      --bg-color: #3B4455;\n",
              "      --fill-color: #D2E3FC;\n",
              "      --hover-bg-color: #434B5C;\n",
              "      --hover-fill-color: #FFFFFF;\n",
              "      --disabled-bg-color: #3B4455;\n",
              "      --disabled-fill-color: #666;\n",
              "  }\n",
              "\n",
              "  .colab-df-quickchart {\n",
              "    background-color: var(--bg-color);\n",
              "    border: none;\n",
              "    border-radius: 50%;\n",
              "    cursor: pointer;\n",
              "    display: none;\n",
              "    fill: var(--fill-color);\n",
              "    height: 32px;\n",
              "    padding: 0;\n",
              "    width: 32px;\n",
              "  }\n",
              "\n",
              "  .colab-df-quickchart:hover {\n",
              "    background-color: var(--hover-bg-color);\n",
              "    box-shadow: 0 1px 2px rgba(60, 64, 67, 0.3), 0 1px 3px 1px rgba(60, 64, 67, 0.15);\n",
              "    fill: var(--button-hover-fill-color);\n",
              "  }\n",
              "\n",
              "  .colab-df-quickchart-complete:disabled,\n",
              "  .colab-df-quickchart-complete:disabled:hover {\n",
              "    background-color: var(--disabled-bg-color);\n",
              "    fill: var(--disabled-fill-color);\n",
              "    box-shadow: none;\n",
              "  }\n",
              "\n",
              "  .colab-df-spinner {\n",
              "    border: 2px solid var(--fill-color);\n",
              "    border-color: transparent;\n",
              "    border-bottom-color: var(--fill-color);\n",
              "    animation:\n",
              "      spin 1s steps(1) infinite;\n",
              "  }\n",
              "\n",
              "  @keyframes spin {\n",
              "    0% {\n",
              "      border-color: transparent;\n",
              "      border-bottom-color: var(--fill-color);\n",
              "      border-left-color: var(--fill-color);\n",
              "    }\n",
              "    20% {\n",
              "      border-color: transparent;\n",
              "      border-left-color: var(--fill-color);\n",
              "      border-top-color: var(--fill-color);\n",
              "    }\n",
              "    30% {\n",
              "      border-color: transparent;\n",
              "      border-left-color: var(--fill-color);\n",
              "      border-top-color: var(--fill-color);\n",
              "      border-right-color: var(--fill-color);\n",
              "    }\n",
              "    40% {\n",
              "      border-color: transparent;\n",
              "      border-right-color: var(--fill-color);\n",
              "      border-top-color: var(--fill-color);\n",
              "    }\n",
              "    60% {\n",
              "      border-color: transparent;\n",
              "      border-right-color: var(--fill-color);\n",
              "    }\n",
              "    80% {\n",
              "      border-color: transparent;\n",
              "      border-right-color: var(--fill-color);\n",
              "      border-bottom-color: var(--fill-color);\n",
              "    }\n",
              "    90% {\n",
              "      border-color: transparent;\n",
              "      border-bottom-color: var(--fill-color);\n",
              "    }\n",
              "  }\n",
              "</style>\n",
              "\n",
              "  <script>\n",
              "    async function quickchart(key) {\n",
              "      const quickchartButtonEl =\n",
              "        document.querySelector('#' + key + ' button');\n",
              "      quickchartButtonEl.disabled = true;  // To prevent multiple clicks.\n",
              "      quickchartButtonEl.classList.add('colab-df-spinner');\n",
              "      try {\n",
              "        const charts = await google.colab.kernel.invokeFunction(\n",
              "            'suggestCharts', [key], {});\n",
              "      } catch (error) {\n",
              "        console.error('Error during call to suggestCharts:', error);\n",
              "      }\n",
              "      quickchartButtonEl.classList.remove('colab-df-spinner');\n",
              "      quickchartButtonEl.classList.add('colab-df-quickchart-complete');\n",
              "    }\n",
              "    (() => {\n",
              "      let quickchartButtonEl =\n",
              "        document.querySelector('#df-8c9700c3-9a4c-4a70-b8ad-07ccd040429e button');\n",
              "      quickchartButtonEl.style.display =\n",
              "        google.colab.kernel.accessAllowed ? 'block' : 'none';\n",
              "    })();\n",
              "  </script>\n",
              "</div>\n",
              "    </div>\n",
              "  </div>\n"
            ],
            "application/vnd.google.colaboratory.intrinsic+json": {
              "type": "dataframe",
              "variable_name": "df",
              "summary": "{\n  \"name\": \"df\",\n  \"rows\": 46446,\n  \"fields\": [\n    {\n      \"column\": \"id\",\n      \"properties\": {\n        \"dtype\": \"string\",\n        \"num_unique_values\": 44732,\n        \"samples\": [\n          \"27567\",\n          \"25173\",\n          \"37033.0\"\n        ],\n        \"semantic_type\": \"\",\n        \"description\": \"\"\n      }\n    },\n    {\n      \"column\": \"title\",\n      \"properties\": {\n        \"dtype\": \"string\",\n        \"num_unique_values\": 40029,\n        \"samples\": [\n          \"Ars Poetica #100: I Believe\",\n          \"On Hearing the Testimony of Those Revived after Cardiac Arrest\",\n          \"Preferential Treatment\"\n        ],\n        \"semantic_type\": \"\",\n        \"description\": \"\"\n      }\n    },\n    {\n      \"column\": \"author\",\n      \"properties\": {\n        \"dtype\": \"category\",\n        \"num_unique_values\": 8534,\n        \"samples\": [\n          \"By John Lundberg\",\n          \"By Santee Frazier\",\n          \"By Mary Weston Fordham\"\n        ],\n        \"semantic_type\": \"\",\n        \"description\": \"\"\n      }\n    },\n    {\n      \"column\": \"snippet\",\n      \"properties\": {\n        \"dtype\": \"category\",\n        \"num_unique_values\": 19321,\n        \"samples\": [\n          \"\\u00c2\\u00a0 A comped piano lifted the leaves in\",\n          \"What is it to grow old?\",\n          \"Lord, with what care hast thou begirt us round!\\n\"\n        ],\n        \"semantic_type\": \"\",\n        \"description\": \"\"\n      }\n    },\n    {\n      \"column\": \"link\",\n      \"properties\": {\n        \"dtype\": \"string\",\n        \"num_unique_values\": 44163,\n        \"samples\": [\n          \"https://www.poetryfoundation.org/poetrymagazine/poems/149256/from-terrestrials\",\n          \"https://www.poetryfoundation.org/poems/48924/the-summer-image\",\n          \"https://www.poetryfoundation.org/poetrymagazine/poems/37016/the-doors\"\n        ],\n        \"semantic_type\": \"\",\n        \"description\": \"\"\n      }\n    },\n    {\n      \"column\": \"categories\",\n      \"properties\": {\n        \"dtype\": \"category\",\n        \"num_unique_values\": 12371,\n        \"samples\": [\n          \"['Living', 'Life Choices', 'Nature', 'Animals', 'Tercet']\",\n          \"['Arts & Sciences', 'Reading & Books', 'Social Commentaries', 'History & Politics', 'War & Conflict', 'Prose Poem']\",\n          \"['Love', 'Classic Love', 'Relationships', 'Men & Women', 'Social Commentaries', 'Gender & Sexuality', 'Rhymed Stanza']\"\n        ],\n        \"semantic_type\": \"\",\n        \"description\": \"\"\n      }\n    },\n    {\n      \"column\": \"poem\",\n      \"properties\": {\n        \"dtype\": \"string\",\n        \"num_unique_values\": 40346,\n        \"samples\": [\n          \"Chased by Chinese troops, the monks blinked like owls in the sun sheen abandoning their burning temple where the obdurate slumped over altars with bullet-hole Third Eyes oozing gunpowder and pineal, black blood. With blizzards choking the high passes they huddled in the cliff caves while trusting you to lead them through, a 600-year-old boy, who was coming from behind his back and was going in the direction he faced . The Chinese prowled behind like wolves as snow squalls filled your tracks. As weeks passed, peasants and monks boiled their saddled bags and ate them, drove yaks ahead to breach the snowdrifts and then men when the beasts perished. By a blue lake in a Himalayan valley where only the yeti had ever stood upright you meditated on the dharma path. Rinpoche, I glimpsed you once hailing a cab on Madison Avenue. Where were you going?\",\n          \"for Aya We never met, but I knew her. By that ray of life that passed into her son, brilliant as sky through cane fields, casting pastel shadows on a j\\u00c3\\u00adbaro\\u00e2\\u20ac\\u2122s balc\\u00c3\\u00b3n, abundant fruit and flower scented from an ancient caribbean, full of spirit y la vida india. I never heard her cry, but I was there, at the birth, when the hurricane growled, fierce and terrible, screaming, as she listened to its thunder within herself, her womb stretching, pushing out the manchild she offered the world, not in regret, but full of remembrances, of land-plowing farmers, pl\\u00c3\\u00a1tano covered rainforests, asphalt paths carved in slavery through migrant jungles and concrete mountains. I never saw the high curve of her ta\\u00c3\\u00adno face with its delicate brown cheek, or felt the caress of her motherly hands. But I knew her, recognized in emanating points of vision from a craftmaker\\u00e2\\u20ac\\u2122s fingertips, in precision woven tapestries, like gifts from ancestors, marking borderlines where families become whole. We never spoke, or shared a conversation, but I can still hear the music composed in the black latino brew of her kitchen. Smells and leftover renditions of creole beans and salsa, of mam\\u00c3\\u00a1-cooking ladles tapping three/two clave from sinks to pots to laundry machines in survival ritual symphonies. We never exchanged a word, yet she whispered to my soul, the way mother teachers son to love his child, the way father shares with daughter the meaning of abuela, the way bonds are secured, like a sunday afternoon banquet at the table of Orisha where all food is nourished, love-seasoned. I never knew her, yet she reached out, as sister, woman, teacher, as mother, a gentle wind, touching me. Becoming mine.\",\n          \"Rinky-dink kale feeding guinea pig Fonky bag uh cornchips plastic shoe Wearing crinkle-fry bastard . . . up in here TONIGHT Wanchu go head mister plinth butt And roll ya dumb ass a lavender Cigarette don't make me slap a freeze On this wart-o-matic bullshit Get me a rancorous tinker toy N turn this motherfucker out\"\n        ],\n        \"semantic_type\": \"\",\n        \"description\": \"\"\n      }\n    }\n  ]\n}"
            }
          },
          "metadata": {},
          "execution_count": 5
        }
      ],
      "source": [
        "df.head()"
      ]
    },
    {
      "cell_type": "markdown",
      "source": [
        "We can remove the id, snippet and link as they are useless for the tasks we have to do."
      ],
      "metadata": {
        "id": "PpKSURCos_fn"
      }
    },
    {
      "cell_type": "code",
      "source": [
        "columns_to_drop = [\"id\", \"snippet\", \"link\"]\n",
        "df.drop(columns=columns_to_drop, inplace=True)"
      ],
      "metadata": {
        "id": "f5nphNeWtObf",
        "colab": {
          "base_uri": "https://localhost:8080/",
          "height": 17
        },
        "outputId": "001617e7-747e-4143-daa3-adc3b9676cc2"
      },
      "execution_count": null,
      "outputs": [
        {
          "output_type": "display_data",
          "data": {
            "text/plain": [
              "<IPython.core.display.HTML object>"
            ],
            "text/html": [
              "\n",
              "  <style>\n",
              "    pre {\n",
              "        white-space: pre-wrap;\n",
              "    }\n",
              "  </style>\n",
              "  "
            ]
          },
          "metadata": {}
        }
      ]
    },
    {
      "cell_type": "markdown",
      "source": [
        "Codificar bien el texto"
      ],
      "metadata": {
        "id": "qcGoqEndG5ls"
      }
    },
    {
      "cell_type": "code",
      "source": [
        "df.head()"
      ],
      "metadata": {
        "id": "F-KPX8k_HgAW",
        "outputId": "a5129e85-91fe-467e-b601-07451e0f25c8",
        "colab": {
          "base_uri": "https://localhost:8080/",
          "height": 206
        }
      },
      "execution_count": null,
      "outputs": [
        {
          "output_type": "display_data",
          "data": {
            "text/plain": [
              "<IPython.core.display.HTML object>"
            ],
            "text/html": [
              "\n",
              "  <style>\n",
              "    pre {\n",
              "        white-space: pre-wrap;\n",
              "    }\n",
              "  </style>\n",
              "  "
            ]
          },
          "metadata": {}
        },
        {
          "output_type": "execute_result",
          "data": {
            "text/plain": [
              "                          title                   author  \\\n",
              "0   The 80&rsquo;s Miracle Diet          By Melvin Dixon   \n",
              "1             All Saints&rsquo;  By Corey Van Landingham   \n",
              "2  And These Are Just a Few ...          By Melvin Dixon   \n",
              "3                          ASMR  By Corey Van Landingham   \n",
              "4                          ASMR  By Corey Van Landingham   \n",
              "\n",
              "                                          categories  \\\n",
              "0                     ['Living', 'Health & Illness']   \n",
              "1                                                 []   \n",
              "2  ['Living', 'Health & Illness', 'Social Comment...   \n",
              "3                                                 []   \n",
              "4                                                 []   \n",
              "\n",
              "                                                poem  \n",
              "0  Yours free without the asking Quick delivery v...  \n",
              "1  CaravaggioÃ¢â‚¬â„¢s face in the sunken pumpkin...  \n",
              "2  This poem is for the epidemic dead and the liv...  \n",
              "3  Why not climb up the mountain of delight? To t...  \n",
              "4  HelloÃ¢â‚¬â€Tonight weÃ¢â‚¬â„¢ll trace the st...  "
            ],
            "text/html": [
              "\n",
              "  <div id=\"df-c5f353f8-3194-4ee7-aac0-6dfd4e7090fa\" class=\"colab-df-container\">\n",
              "    <div>\n",
              "<style scoped>\n",
              "    .dataframe tbody tr th:only-of-type {\n",
              "        vertical-align: middle;\n",
              "    }\n",
              "\n",
              "    .dataframe tbody tr th {\n",
              "        vertical-align: top;\n",
              "    }\n",
              "\n",
              "    .dataframe thead th {\n",
              "        text-align: right;\n",
              "    }\n",
              "</style>\n",
              "<table border=\"1\" class=\"dataframe\">\n",
              "  <thead>\n",
              "    <tr style=\"text-align: right;\">\n",
              "      <th></th>\n",
              "      <th>title</th>\n",
              "      <th>author</th>\n",
              "      <th>categories</th>\n",
              "      <th>poem</th>\n",
              "    </tr>\n",
              "  </thead>\n",
              "  <tbody>\n",
              "    <tr>\n",
              "      <th>0</th>\n",
              "      <td>The 80&amp;rsquo;s Miracle Diet</td>\n",
              "      <td>By Melvin Dixon</td>\n",
              "      <td>['Living', 'Health &amp; Illness']</td>\n",
              "      <td>Yours free without the asking Quick delivery v...</td>\n",
              "    </tr>\n",
              "    <tr>\n",
              "      <th>1</th>\n",
              "      <td>All Saints&amp;rsquo;</td>\n",
              "      <td>By Corey Van Landingham</td>\n",
              "      <td>[]</td>\n",
              "      <td>CaravaggioÃ¢â‚¬â„¢s face in the sunken pumpkin...</td>\n",
              "    </tr>\n",
              "    <tr>\n",
              "      <th>2</th>\n",
              "      <td>And These Are Just a Few ...</td>\n",
              "      <td>By Melvin Dixon</td>\n",
              "      <td>['Living', 'Health &amp; Illness', 'Social Comment...</td>\n",
              "      <td>This poem is for the epidemic dead and the liv...</td>\n",
              "    </tr>\n",
              "    <tr>\n",
              "      <th>3</th>\n",
              "      <td>ASMR</td>\n",
              "      <td>By Corey Van Landingham</td>\n",
              "      <td>[]</td>\n",
              "      <td>Why not climb up the mountain of delight? To t...</td>\n",
              "    </tr>\n",
              "    <tr>\n",
              "      <th>4</th>\n",
              "      <td>ASMR</td>\n",
              "      <td>By Corey Van Landingham</td>\n",
              "      <td>[]</td>\n",
              "      <td>HelloÃ¢â‚¬â€Tonight weÃ¢â‚¬â„¢ll trace the st...</td>\n",
              "    </tr>\n",
              "  </tbody>\n",
              "</table>\n",
              "</div>\n",
              "    <div class=\"colab-df-buttons\">\n",
              "\n",
              "  <div class=\"colab-df-container\">\n",
              "    <button class=\"colab-df-convert\" onclick=\"convertToInteractive('df-c5f353f8-3194-4ee7-aac0-6dfd4e7090fa')\"\n",
              "            title=\"Convert this dataframe to an interactive table.\"\n",
              "            style=\"display:none;\">\n",
              "\n",
              "  <svg xmlns=\"http://www.w3.org/2000/svg\" height=\"24px\" viewBox=\"0 -960 960 960\">\n",
              "    <path d=\"M120-120v-720h720v720H120Zm60-500h600v-160H180v160Zm220 220h160v-160H400v160Zm0 220h160v-160H400v160ZM180-400h160v-160H180v160Zm440 0h160v-160H620v160ZM180-180h160v-160H180v160Zm440 0h160v-160H620v160Z\"/>\n",
              "  </svg>\n",
              "    </button>\n",
              "\n",
              "  <style>\n",
              "    .colab-df-container {\n",
              "      display:flex;\n",
              "      gap: 12px;\n",
              "    }\n",
              "\n",
              "    .colab-df-convert {\n",
              "      background-color: #E8F0FE;\n",
              "      border: none;\n",
              "      border-radius: 50%;\n",
              "      cursor: pointer;\n",
              "      display: none;\n",
              "      fill: #1967D2;\n",
              "      height: 32px;\n",
              "      padding: 0 0 0 0;\n",
              "      width: 32px;\n",
              "    }\n",
              "\n",
              "    .colab-df-convert:hover {\n",
              "      background-color: #E2EBFA;\n",
              "      box-shadow: 0px 1px 2px rgba(60, 64, 67, 0.3), 0px 1px 3px 1px rgba(60, 64, 67, 0.15);\n",
              "      fill: #174EA6;\n",
              "    }\n",
              "\n",
              "    .colab-df-buttons div {\n",
              "      margin-bottom: 4px;\n",
              "    }\n",
              "\n",
              "    [theme=dark] .colab-df-convert {\n",
              "      background-color: #3B4455;\n",
              "      fill: #D2E3FC;\n",
              "    }\n",
              "\n",
              "    [theme=dark] .colab-df-convert:hover {\n",
              "      background-color: #434B5C;\n",
              "      box-shadow: 0px 1px 3px 1px rgba(0, 0, 0, 0.15);\n",
              "      filter: drop-shadow(0px 1px 2px rgba(0, 0, 0, 0.3));\n",
              "      fill: #FFFFFF;\n",
              "    }\n",
              "  </style>\n",
              "\n",
              "    <script>\n",
              "      const buttonEl =\n",
              "        document.querySelector('#df-c5f353f8-3194-4ee7-aac0-6dfd4e7090fa button.colab-df-convert');\n",
              "      buttonEl.style.display =\n",
              "        google.colab.kernel.accessAllowed ? 'block' : 'none';\n",
              "\n",
              "      async function convertToInteractive(key) {\n",
              "        const element = document.querySelector('#df-c5f353f8-3194-4ee7-aac0-6dfd4e7090fa');\n",
              "        const dataTable =\n",
              "          await google.colab.kernel.invokeFunction('convertToInteractive',\n",
              "                                                    [key], {});\n",
              "        if (!dataTable) return;\n",
              "\n",
              "        const docLinkHtml = 'Like what you see? Visit the ' +\n",
              "          '<a target=\"_blank\" href=https://colab.research.google.com/notebooks/data_table.ipynb>data table notebook</a>'\n",
              "          + ' to learn more about interactive tables.';\n",
              "        element.innerHTML = '';\n",
              "        dataTable['output_type'] = 'display_data';\n",
              "        await google.colab.output.renderOutput(dataTable, element);\n",
              "        const docLink = document.createElement('div');\n",
              "        docLink.innerHTML = docLinkHtml;\n",
              "        element.appendChild(docLink);\n",
              "      }\n",
              "    </script>\n",
              "  </div>\n",
              "\n",
              "\n",
              "<div id=\"df-888eda8b-5d95-400f-ad09-3020b352a1c9\">\n",
              "  <button class=\"colab-df-quickchart\" onclick=\"quickchart('df-888eda8b-5d95-400f-ad09-3020b352a1c9')\"\n",
              "            title=\"Suggest charts\"\n",
              "            style=\"display:none;\">\n",
              "\n",
              "<svg xmlns=\"http://www.w3.org/2000/svg\" height=\"24px\"viewBox=\"0 0 24 24\"\n",
              "     width=\"24px\">\n",
              "    <g>\n",
              "        <path d=\"M19 3H5c-1.1 0-2 .9-2 2v14c0 1.1.9 2 2 2h14c1.1 0 2-.9 2-2V5c0-1.1-.9-2-2-2zM9 17H7v-7h2v7zm4 0h-2V7h2v10zm4 0h-2v-4h2v4z\"/>\n",
              "    </g>\n",
              "</svg>\n",
              "  </button>\n",
              "\n",
              "<style>\n",
              "  .colab-df-quickchart {\n",
              "      --bg-color: #E8F0FE;\n",
              "      --fill-color: #1967D2;\n",
              "      --hover-bg-color: #E2EBFA;\n",
              "      --hover-fill-color: #174EA6;\n",
              "      --disabled-fill-color: #AAA;\n",
              "      --disabled-bg-color: #DDD;\n",
              "  }\n",
              "\n",
              "  [theme=dark] .colab-df-quickchart {\n",
              "      --bg-color: #3B4455;\n",
              "      --fill-color: #D2E3FC;\n",
              "      --hover-bg-color: #434B5C;\n",
              "      --hover-fill-color: #FFFFFF;\n",
              "      --disabled-bg-color: #3B4455;\n",
              "      --disabled-fill-color: #666;\n",
              "  }\n",
              "\n",
              "  .colab-df-quickchart {\n",
              "    background-color: var(--bg-color);\n",
              "    border: none;\n",
              "    border-radius: 50%;\n",
              "    cursor: pointer;\n",
              "    display: none;\n",
              "    fill: var(--fill-color);\n",
              "    height: 32px;\n",
              "    padding: 0;\n",
              "    width: 32px;\n",
              "  }\n",
              "\n",
              "  .colab-df-quickchart:hover {\n",
              "    background-color: var(--hover-bg-color);\n",
              "    box-shadow: 0 1px 2px rgba(60, 64, 67, 0.3), 0 1px 3px 1px rgba(60, 64, 67, 0.15);\n",
              "    fill: var(--button-hover-fill-color);\n",
              "  }\n",
              "\n",
              "  .colab-df-quickchart-complete:disabled,\n",
              "  .colab-df-quickchart-complete:disabled:hover {\n",
              "    background-color: var(--disabled-bg-color);\n",
              "    fill: var(--disabled-fill-color);\n",
              "    box-shadow: none;\n",
              "  }\n",
              "\n",
              "  .colab-df-spinner {\n",
              "    border: 2px solid var(--fill-color);\n",
              "    border-color: transparent;\n",
              "    border-bottom-color: var(--fill-color);\n",
              "    animation:\n",
              "      spin 1s steps(1) infinite;\n",
              "  }\n",
              "\n",
              "  @keyframes spin {\n",
              "    0% {\n",
              "      border-color: transparent;\n",
              "      border-bottom-color: var(--fill-color);\n",
              "      border-left-color: var(--fill-color);\n",
              "    }\n",
              "    20% {\n",
              "      border-color: transparent;\n",
              "      border-left-color: var(--fill-color);\n",
              "      border-top-color: var(--fill-color);\n",
              "    }\n",
              "    30% {\n",
              "      border-color: transparent;\n",
              "      border-left-color: var(--fill-color);\n",
              "      border-top-color: var(--fill-color);\n",
              "      border-right-color: var(--fill-color);\n",
              "    }\n",
              "    40% {\n",
              "      border-color: transparent;\n",
              "      border-right-color: var(--fill-color);\n",
              "      border-top-color: var(--fill-color);\n",
              "    }\n",
              "    60% {\n",
              "      border-color: transparent;\n",
              "      border-right-color: var(--fill-color);\n",
              "    }\n",
              "    80% {\n",
              "      border-color: transparent;\n",
              "      border-right-color: var(--fill-color);\n",
              "      border-bottom-color: var(--fill-color);\n",
              "    }\n",
              "    90% {\n",
              "      border-color: transparent;\n",
              "      border-bottom-color: var(--fill-color);\n",
              "    }\n",
              "  }\n",
              "</style>\n",
              "\n",
              "  <script>\n",
              "    async function quickchart(key) {\n",
              "      const quickchartButtonEl =\n",
              "        document.querySelector('#' + key + ' button');\n",
              "      quickchartButtonEl.disabled = true;  // To prevent multiple clicks.\n",
              "      quickchartButtonEl.classList.add('colab-df-spinner');\n",
              "      try {\n",
              "        const charts = await google.colab.kernel.invokeFunction(\n",
              "            'suggestCharts', [key], {});\n",
              "      } catch (error) {\n",
              "        console.error('Error during call to suggestCharts:', error);\n",
              "      }\n",
              "      quickchartButtonEl.classList.remove('colab-df-spinner');\n",
              "      quickchartButtonEl.classList.add('colab-df-quickchart-complete');\n",
              "    }\n",
              "    (() => {\n",
              "      let quickchartButtonEl =\n",
              "        document.querySelector('#df-888eda8b-5d95-400f-ad09-3020b352a1c9 button');\n",
              "      quickchartButtonEl.style.display =\n",
              "        google.colab.kernel.accessAllowed ? 'block' : 'none';\n",
              "    })();\n",
              "  </script>\n",
              "</div>\n",
              "    </div>\n",
              "  </div>\n"
            ],
            "application/vnd.google.colaboratory.intrinsic+json": {
              "type": "dataframe",
              "variable_name": "df",
              "summary": "{\n  \"name\": \"df\",\n  \"rows\": 46446,\n  \"fields\": [\n    {\n      \"column\": \"title\",\n      \"properties\": {\n        \"dtype\": \"string\",\n        \"num_unique_values\": 40029,\n        \"samples\": [\n          \"Ars Poetica #100: I Believe\",\n          \"On Hearing the Testimony of Those Revived after Cardiac Arrest\",\n          \"Preferential Treatment\"\n        ],\n        \"semantic_type\": \"\",\n        \"description\": \"\"\n      }\n    },\n    {\n      \"column\": \"author\",\n      \"properties\": {\n        \"dtype\": \"category\",\n        \"num_unique_values\": 8534,\n        \"samples\": [\n          \"By John Lundberg\",\n          \"By Santee Frazier\",\n          \"By Mary Weston Fordham\"\n        ],\n        \"semantic_type\": \"\",\n        \"description\": \"\"\n      }\n    },\n    {\n      \"column\": \"categories\",\n      \"properties\": {\n        \"dtype\": \"category\",\n        \"num_unique_values\": 12371,\n        \"samples\": [\n          \"['Living', 'Life Choices', 'Nature', 'Animals', 'Tercet']\",\n          \"['Arts & Sciences', 'Reading & Books', 'Social Commentaries', 'History & Politics', 'War & Conflict', 'Prose Poem']\",\n          \"['Love', 'Classic Love', 'Relationships', 'Men & Women', 'Social Commentaries', 'Gender & Sexuality', 'Rhymed Stanza']\"\n        ],\n        \"semantic_type\": \"\",\n        \"description\": \"\"\n      }\n    },\n    {\n      \"column\": \"poem\",\n      \"properties\": {\n        \"dtype\": \"string\",\n        \"num_unique_values\": 40346,\n        \"samples\": [\n          \"Chased by Chinese troops, the monks blinked like owls in the sun sheen abandoning their burning temple where the obdurate slumped over altars with bullet-hole Third Eyes oozing gunpowder and pineal, black blood. With blizzards choking the high passes they huddled in the cliff caves while trusting you to lead them through, a 600-year-old boy, who was coming from behind his back and was going in the direction he faced . The Chinese prowled behind like wolves as snow squalls filled your tracks. As weeks passed, peasants and monks boiled their saddled bags and ate them, drove yaks ahead to breach the snowdrifts and then men when the beasts perished. By a blue lake in a Himalayan valley where only the yeti had ever stood upright you meditated on the dharma path. Rinpoche, I glimpsed you once hailing a cab on Madison Avenue. Where were you going?\",\n          \"for Aya We never met, but I knew her. By that ray of life that passed into her son, brilliant as sky through cane fields, casting pastel shadows on a j\\u00c3\\u00adbaro\\u00e2\\u20ac\\u2122s balc\\u00c3\\u00b3n, abundant fruit and flower scented from an ancient caribbean, full of spirit y la vida india. I never heard her cry, but I was there, at the birth, when the hurricane growled, fierce and terrible, screaming, as she listened to its thunder within herself, her womb stretching, pushing out the manchild she offered the world, not in regret, but full of remembrances, of land-plowing farmers, pl\\u00c3\\u00a1tano covered rainforests, asphalt paths carved in slavery through migrant jungles and concrete mountains. I never saw the high curve of her ta\\u00c3\\u00adno face with its delicate brown cheek, or felt the caress of her motherly hands. But I knew her, recognized in emanating points of vision from a craftmaker\\u00e2\\u20ac\\u2122s fingertips, in precision woven tapestries, like gifts from ancestors, marking borderlines where families become whole. We never spoke, or shared a conversation, but I can still hear the music composed in the black latino brew of her kitchen. Smells and leftover renditions of creole beans and salsa, of mam\\u00c3\\u00a1-cooking ladles tapping three/two clave from sinks to pots to laundry machines in survival ritual symphonies. We never exchanged a word, yet she whispered to my soul, the way mother teachers son to love his child, the way father shares with daughter the meaning of abuela, the way bonds are secured, like a sunday afternoon banquet at the table of Orisha where all food is nourished, love-seasoned. I never knew her, yet she reached out, as sister, woman, teacher, as mother, a gentle wind, touching me. Becoming mine.\",\n          \"Rinky-dink kale feeding guinea pig Fonky bag uh cornchips plastic shoe Wearing crinkle-fry bastard . . . up in here TONIGHT Wanchu go head mister plinth butt And roll ya dumb ass a lavender Cigarette don't make me slap a freeze On this wart-o-matic bullshit Get me a rancorous tinker toy N turn this motherfucker out\"\n        ],\n        \"semantic_type\": \"\",\n        \"description\": \"\"\n      }\n    }\n  ]\n}"
            }
          },
          "metadata": {},
          "execution_count": 7
        }
      ]
    },
    {
      "cell_type": "code",
      "execution_count": null,
      "metadata": {
        "id": "CfqpPS9Rnzhv",
        "outputId": "1fe1a459-fe7a-446e-8ee2-70f51eb374f2",
        "colab": {
          "base_uri": "https://localhost:8080/",
          "height": 329
        }
      },
      "outputs": [
        {
          "output_type": "display_data",
          "data": {
            "text/plain": [
              "<IPython.core.display.HTML object>"
            ],
            "text/html": [
              "\n",
              "  <style>\n",
              "    pre {\n",
              "        white-space: pre-wrap;\n",
              "    }\n",
              "  </style>\n",
              "  "
            ]
          },
          "metadata": {}
        },
        {
          "output_type": "stream",
          "name": "stderr",
          "text": [
            "[nltk_data] Downloading package punkt to /root/nltk_data...\n",
            "[nltk_data]   Unzipping tokenizers/punkt.zip.\n",
            "[nltk_data] Downloading package stopwords to /root/nltk_data...\n",
            "[nltk_data]   Unzipping corpora/stopwords.zip.\n",
            "[nltk_data] Downloading package omw-1.4 to /root/nltk_data...\n",
            "[nltk_data] Downloading package wordnet to /root/nltk_data...\n"
          ]
        },
        {
          "output_type": "stream",
          "name": "stdout",
          "text": [
            "Collecting contractions\n",
            "  Downloading contractions-0.1.73-py2.py3-none-any.whl (8.7 kB)\n",
            "Collecting textsearch>=0.0.21 (from contractions)\n",
            "  Downloading textsearch-0.0.24-py2.py3-none-any.whl (7.6 kB)\n",
            "Collecting anyascii (from textsearch>=0.0.21->contractions)\n",
            "  Downloading anyascii-0.3.2-py3-none-any.whl (289 kB)\n",
            "\u001b[2K     \u001b[90m━━━━━━━━━━━━━━━━━━━━━━━━━━━━━━━━━━━━━━━━\u001b[0m \u001b[32m289.9/289.9 kB\u001b[0m \u001b[31m4.9 MB/s\u001b[0m eta \u001b[36m0:00:00\u001b[0m\n",
            "\u001b[?25hCollecting pyahocorasick (from textsearch>=0.0.21->contractions)\n",
            "  Downloading pyahocorasick-2.1.0-cp310-cp310-manylinux_2_5_x86_64.manylinux1_x86_64.manylinux_2_12_x86_64.manylinux2010_x86_64.whl (110 kB)\n",
            "\u001b[2K     \u001b[90m━━━━━━━━━━━━━━━━━━━━━━━━━━━━━━━━━━━━━━━━\u001b[0m \u001b[32m110.7/110.7 kB\u001b[0m \u001b[31m9.7 MB/s\u001b[0m eta \u001b[36m0:00:00\u001b[0m\n",
            "\u001b[?25hInstalling collected packages: pyahocorasick, anyascii, textsearch, contractions\n",
            "Successfully installed anyascii-0.3.2 contractions-0.1.73 pyahocorasick-2.1.0 textsearch-0.0.24\n"
          ]
        }
      ],
      "source": [
        "import re\n",
        "import nltk\n",
        "\n",
        "def check_nltk_packages():\n",
        "  packages = ['punkt','stopwords','omw-1.4','wordnet']\n",
        "\n",
        "  for package in packages:\n",
        "    try:\n",
        "      nltk.data.find('tokenizers/' + package)\n",
        "    except LookupError:\n",
        "      nltk.download(package)\n",
        "check_nltk_packages()\n",
        "\n",
        "try:\n",
        "  import lxml\n",
        "except ModuleNotFoundError:\n",
        "  %pip install lxml\n",
        "\n",
        "try:\n",
        "  import contractions\n",
        "except ModuleNotFoundError:\n",
        "  %pip install contractions\n",
        "  import contractions\n",
        "\n",
        "from bs4 import BeautifulSoup\n",
        "import re"
      ]
    },
    {
      "cell_type": "code",
      "execution_count": null,
      "metadata": {
        "id": "tSfzRU8cnzhw",
        "colab": {
          "base_uri": "https://localhost:8080/",
          "height": 17
        },
        "outputId": "ad46e9e2-fae1-4af9-ba4c-33191dda409a"
      },
      "outputs": [
        {
          "output_type": "display_data",
          "data": {
            "text/plain": [
              "<IPython.core.display.HTML object>"
            ],
            "text/html": [
              "\n",
              "  <style>\n",
              "    pre {\n",
              "        white-space: pre-wrap;\n",
              "    }\n",
              "  </style>\n",
              "  "
            ]
          },
          "metadata": {}
        }
      ],
      "source": [
        "\n",
        "def separate_language(df, text_column):\n",
        "    \"\"\"\n",
        "    Separate observations in a DataFrame based on the language detected in a text column.\n",
        "\n",
        "    Args:\n",
        "        df (pandas.DataFrame): Input DataFrame.\n",
        "        text_column (str): Name of the column containing text data.\n",
        "\n",
        "    Returns:\n",
        "        tuple: A tuple containing two DataFrames. The first DataFrame contains observations in English,\n",
        "               and the second DataFrame contains observations in other languages.\n",
        "    \"\"\"\n",
        "    # Initialize lists to store data\n",
        "    english_data = []\n",
        "    other_language_data = []\n",
        "\n",
        "    # Loop through each row in the dataset\n",
        "    for index, row in df.iterrows():\n",
        "        text = row[text_column]\n",
        "        try:\n",
        "            # Detect language of the text\n",
        "            lang = detect(text)\n",
        "\n",
        "            # Append entire row data to respective lists\n",
        "            if lang == 'en':\n",
        "                english_data.append(row)\n",
        "            else:\n",
        "                other_language_data.append(row)\n",
        "        except:\n",
        "            # Handle exceptions in language detection (e.g., short texts)\n",
        "            pass\n",
        "\n",
        "    # Create dataframes from lists\n",
        "    english_df = pd.DataFrame(english_data)\n",
        "    other_language_df = pd.DataFrame(other_language_data)\n",
        "\n",
        "    return english_df, other_language_df"
      ]
    },
    {
      "cell_type": "code",
      "execution_count": null,
      "metadata": {
        "id": "qFqBJ3f-nzhx",
        "colab": {
          "base_uri": "https://localhost:8080/",
          "height": 17
        },
        "outputId": "1abbffd0-39ac-48f7-adbf-18de781e103a"
      },
      "outputs": [
        {
          "output_type": "display_data",
          "data": {
            "text/plain": [
              "<IPython.core.display.HTML object>"
            ],
            "text/html": [
              "\n",
              "  <style>\n",
              "    pre {\n",
              "        white-space: pre-wrap;\n",
              "    }\n",
              "  </style>\n",
              "  "
            ]
          },
          "metadata": {}
        }
      ],
      "source": [
        "# Call the function to separate language\n",
        "english_df, other_language_df = separate_language(df, 'poem')"
      ]
    },
    {
      "cell_type": "code",
      "execution_count": null,
      "metadata": {
        "id": "VmTH6rzInzhy",
        "outputId": "a4a8b406-6dd2-493b-cf39-6b1c9c78dc90",
        "colab": {
          "base_uri": "https://localhost:8080/",
          "height": 52
        }
      },
      "outputs": [
        {
          "output_type": "display_data",
          "data": {
            "text/plain": [
              "<IPython.core.display.HTML object>"
            ],
            "text/html": [
              "\n",
              "  <style>\n",
              "    pre {\n",
              "        white-space: pre-wrap;\n",
              "    }\n",
              "  </style>\n",
              "  "
            ]
          },
          "metadata": {}
        },
        {
          "output_type": "stream",
          "name": "stdout",
          "text": [
            "(44865, 4)\n",
            "(423, 4)\n"
          ]
        }
      ],
      "source": [
        "# i want to check the size of both dfs\n",
        "print(english_df.shape)\n",
        "print(other_language_df.shape)"
      ]
    },
    {
      "cell_type": "markdown",
      "source": [
        "Only 426 poems are not in english and we know that most of them have been translated to english. Note that this value changes as expected"
      ],
      "metadata": {
        "id": "_qqZFMhOo6N9"
      }
    },
    {
      "cell_type": "code",
      "execution_count": null,
      "metadata": {
        "id": "KuR5Rr9Anzh0",
        "outputId": "3d124278-b8ad-4c07-faf2-fd44612bcb69",
        "colab": {
          "base_uri": "https://localhost:8080/",
          "height": 206
        }
      },
      "outputs": [
        {
          "output_type": "display_data",
          "data": {
            "text/plain": [
              "<IPython.core.display.HTML object>"
            ],
            "text/html": [
              "\n",
              "  <style>\n",
              "    pre {\n",
              "        white-space: pre-wrap;\n",
              "    }\n",
              "  </style>\n",
              "  "
            ]
          },
          "metadata": {}
        },
        {
          "output_type": "execute_result",
          "data": {
            "text/plain": [
              "                          title                   author  \\\n",
              "0   The 80&rsquo;s Miracle Diet          By Melvin Dixon   \n",
              "1             All Saints&rsquo;  By Corey Van Landingham   \n",
              "2  And These Are Just a Few ...          By Melvin Dixon   \n",
              "3                          ASMR  By Corey Van Landingham   \n",
              "4                          ASMR  By Corey Van Landingham   \n",
              "\n",
              "                                          categories  \\\n",
              "0                     ['Living', 'Health & Illness']   \n",
              "1                                                 []   \n",
              "2  ['Living', 'Health & Illness', 'Social Comment...   \n",
              "3                                                 []   \n",
              "4                                                 []   \n",
              "\n",
              "                                                poem  \n",
              "0  Yours free without the asking Quick delivery v...  \n",
              "1  CaravaggioÃ¢â‚¬â„¢s face in the sunken pumpkin...  \n",
              "2  This poem is for the epidemic dead and the liv...  \n",
              "3  Why not climb up the mountain of delight? To t...  \n",
              "4  HelloÃ¢â‚¬â€Tonight weÃ¢â‚¬â„¢ll trace the st...  "
            ],
            "text/html": [
              "\n",
              "  <div id=\"df-d1476f84-7b8d-4f56-a13c-e9d3c0b5fc33\" class=\"colab-df-container\">\n",
              "    <div>\n",
              "<style scoped>\n",
              "    .dataframe tbody tr th:only-of-type {\n",
              "        vertical-align: middle;\n",
              "    }\n",
              "\n",
              "    .dataframe tbody tr th {\n",
              "        vertical-align: top;\n",
              "    }\n",
              "\n",
              "    .dataframe thead th {\n",
              "        text-align: right;\n",
              "    }\n",
              "</style>\n",
              "<table border=\"1\" class=\"dataframe\">\n",
              "  <thead>\n",
              "    <tr style=\"text-align: right;\">\n",
              "      <th></th>\n",
              "      <th>title</th>\n",
              "      <th>author</th>\n",
              "      <th>categories</th>\n",
              "      <th>poem</th>\n",
              "    </tr>\n",
              "  </thead>\n",
              "  <tbody>\n",
              "    <tr>\n",
              "      <th>0</th>\n",
              "      <td>The 80&amp;rsquo;s Miracle Diet</td>\n",
              "      <td>By Melvin Dixon</td>\n",
              "      <td>['Living', 'Health &amp; Illness']</td>\n",
              "      <td>Yours free without the asking Quick delivery v...</td>\n",
              "    </tr>\n",
              "    <tr>\n",
              "      <th>1</th>\n",
              "      <td>All Saints&amp;rsquo;</td>\n",
              "      <td>By Corey Van Landingham</td>\n",
              "      <td>[]</td>\n",
              "      <td>CaravaggioÃ¢â‚¬â„¢s face in the sunken pumpkin...</td>\n",
              "    </tr>\n",
              "    <tr>\n",
              "      <th>2</th>\n",
              "      <td>And These Are Just a Few ...</td>\n",
              "      <td>By Melvin Dixon</td>\n",
              "      <td>['Living', 'Health &amp; Illness', 'Social Comment...</td>\n",
              "      <td>This poem is for the epidemic dead and the liv...</td>\n",
              "    </tr>\n",
              "    <tr>\n",
              "      <th>3</th>\n",
              "      <td>ASMR</td>\n",
              "      <td>By Corey Van Landingham</td>\n",
              "      <td>[]</td>\n",
              "      <td>Why not climb up the mountain of delight? To t...</td>\n",
              "    </tr>\n",
              "    <tr>\n",
              "      <th>4</th>\n",
              "      <td>ASMR</td>\n",
              "      <td>By Corey Van Landingham</td>\n",
              "      <td>[]</td>\n",
              "      <td>HelloÃ¢â‚¬â€Tonight weÃ¢â‚¬â„¢ll trace the st...</td>\n",
              "    </tr>\n",
              "  </tbody>\n",
              "</table>\n",
              "</div>\n",
              "    <div class=\"colab-df-buttons\">\n",
              "\n",
              "  <div class=\"colab-df-container\">\n",
              "    <button class=\"colab-df-convert\" onclick=\"convertToInteractive('df-d1476f84-7b8d-4f56-a13c-e9d3c0b5fc33')\"\n",
              "            title=\"Convert this dataframe to an interactive table.\"\n",
              "            style=\"display:none;\">\n",
              "\n",
              "  <svg xmlns=\"http://www.w3.org/2000/svg\" height=\"24px\" viewBox=\"0 -960 960 960\">\n",
              "    <path d=\"M120-120v-720h720v720H120Zm60-500h600v-160H180v160Zm220 220h160v-160H400v160Zm0 220h160v-160H400v160ZM180-400h160v-160H180v160Zm440 0h160v-160H620v160ZM180-180h160v-160H180v160Zm440 0h160v-160H620v160Z\"/>\n",
              "  </svg>\n",
              "    </button>\n",
              "\n",
              "  <style>\n",
              "    .colab-df-container {\n",
              "      display:flex;\n",
              "      gap: 12px;\n",
              "    }\n",
              "\n",
              "    .colab-df-convert {\n",
              "      background-color: #E8F0FE;\n",
              "      border: none;\n",
              "      border-radius: 50%;\n",
              "      cursor: pointer;\n",
              "      display: none;\n",
              "      fill: #1967D2;\n",
              "      height: 32px;\n",
              "      padding: 0 0 0 0;\n",
              "      width: 32px;\n",
              "    }\n",
              "\n",
              "    .colab-df-convert:hover {\n",
              "      background-color: #E2EBFA;\n",
              "      box-shadow: 0px 1px 2px rgba(60, 64, 67, 0.3), 0px 1px 3px 1px rgba(60, 64, 67, 0.15);\n",
              "      fill: #174EA6;\n",
              "    }\n",
              "\n",
              "    .colab-df-buttons div {\n",
              "      margin-bottom: 4px;\n",
              "    }\n",
              "\n",
              "    [theme=dark] .colab-df-convert {\n",
              "      background-color: #3B4455;\n",
              "      fill: #D2E3FC;\n",
              "    }\n",
              "\n",
              "    [theme=dark] .colab-df-convert:hover {\n",
              "      background-color: #434B5C;\n",
              "      box-shadow: 0px 1px 3px 1px rgba(0, 0, 0, 0.15);\n",
              "      filter: drop-shadow(0px 1px 2px rgba(0, 0, 0, 0.3));\n",
              "      fill: #FFFFFF;\n",
              "    }\n",
              "  </style>\n",
              "\n",
              "    <script>\n",
              "      const buttonEl =\n",
              "        document.querySelector('#df-d1476f84-7b8d-4f56-a13c-e9d3c0b5fc33 button.colab-df-convert');\n",
              "      buttonEl.style.display =\n",
              "        google.colab.kernel.accessAllowed ? 'block' : 'none';\n",
              "\n",
              "      async function convertToInteractive(key) {\n",
              "        const element = document.querySelector('#df-d1476f84-7b8d-4f56-a13c-e9d3c0b5fc33');\n",
              "        const dataTable =\n",
              "          await google.colab.kernel.invokeFunction('convertToInteractive',\n",
              "                                                    [key], {});\n",
              "        if (!dataTable) return;\n",
              "\n",
              "        const docLinkHtml = 'Like what you see? Visit the ' +\n",
              "          '<a target=\"_blank\" href=https://colab.research.google.com/notebooks/data_table.ipynb>data table notebook</a>'\n",
              "          + ' to learn more about interactive tables.';\n",
              "        element.innerHTML = '';\n",
              "        dataTable['output_type'] = 'display_data';\n",
              "        await google.colab.output.renderOutput(dataTable, element);\n",
              "        const docLink = document.createElement('div');\n",
              "        docLink.innerHTML = docLinkHtml;\n",
              "        element.appendChild(docLink);\n",
              "      }\n",
              "    </script>\n",
              "  </div>\n",
              "\n",
              "\n",
              "<div id=\"df-d82a74d8-52b9-417c-a5de-ca04f1552ff0\">\n",
              "  <button class=\"colab-df-quickchart\" onclick=\"quickchart('df-d82a74d8-52b9-417c-a5de-ca04f1552ff0')\"\n",
              "            title=\"Suggest charts\"\n",
              "            style=\"display:none;\">\n",
              "\n",
              "<svg xmlns=\"http://www.w3.org/2000/svg\" height=\"24px\"viewBox=\"0 0 24 24\"\n",
              "     width=\"24px\">\n",
              "    <g>\n",
              "        <path d=\"M19 3H5c-1.1 0-2 .9-2 2v14c0 1.1.9 2 2 2h14c1.1 0 2-.9 2-2V5c0-1.1-.9-2-2-2zM9 17H7v-7h2v7zm4 0h-2V7h2v10zm4 0h-2v-4h2v4z\"/>\n",
              "    </g>\n",
              "</svg>\n",
              "  </button>\n",
              "\n",
              "<style>\n",
              "  .colab-df-quickchart {\n",
              "      --bg-color: #E8F0FE;\n",
              "      --fill-color: #1967D2;\n",
              "      --hover-bg-color: #E2EBFA;\n",
              "      --hover-fill-color: #174EA6;\n",
              "      --disabled-fill-color: #AAA;\n",
              "      --disabled-bg-color: #DDD;\n",
              "  }\n",
              "\n",
              "  [theme=dark] .colab-df-quickchart {\n",
              "      --bg-color: #3B4455;\n",
              "      --fill-color: #D2E3FC;\n",
              "      --hover-bg-color: #434B5C;\n",
              "      --hover-fill-color: #FFFFFF;\n",
              "      --disabled-bg-color: #3B4455;\n",
              "      --disabled-fill-color: #666;\n",
              "  }\n",
              "\n",
              "  .colab-df-quickchart {\n",
              "    background-color: var(--bg-color);\n",
              "    border: none;\n",
              "    border-radius: 50%;\n",
              "    cursor: pointer;\n",
              "    display: none;\n",
              "    fill: var(--fill-color);\n",
              "    height: 32px;\n",
              "    padding: 0;\n",
              "    width: 32px;\n",
              "  }\n",
              "\n",
              "  .colab-df-quickchart:hover {\n",
              "    background-color: var(--hover-bg-color);\n",
              "    box-shadow: 0 1px 2px rgba(60, 64, 67, 0.3), 0 1px 3px 1px rgba(60, 64, 67, 0.15);\n",
              "    fill: var(--button-hover-fill-color);\n",
              "  }\n",
              "\n",
              "  .colab-df-quickchart-complete:disabled,\n",
              "  .colab-df-quickchart-complete:disabled:hover {\n",
              "    background-color: var(--disabled-bg-color);\n",
              "    fill: var(--disabled-fill-color);\n",
              "    box-shadow: none;\n",
              "  }\n",
              "\n",
              "  .colab-df-spinner {\n",
              "    border: 2px solid var(--fill-color);\n",
              "    border-color: transparent;\n",
              "    border-bottom-color: var(--fill-color);\n",
              "    animation:\n",
              "      spin 1s steps(1) infinite;\n",
              "  }\n",
              "\n",
              "  @keyframes spin {\n",
              "    0% {\n",
              "      border-color: transparent;\n",
              "      border-bottom-color: var(--fill-color);\n",
              "      border-left-color: var(--fill-color);\n",
              "    }\n",
              "    20% {\n",
              "      border-color: transparent;\n",
              "      border-left-color: var(--fill-color);\n",
              "      border-top-color: var(--fill-color);\n",
              "    }\n",
              "    30% {\n",
              "      border-color: transparent;\n",
              "      border-left-color: var(--fill-color);\n",
              "      border-top-color: var(--fill-color);\n",
              "      border-right-color: var(--fill-color);\n",
              "    }\n",
              "    40% {\n",
              "      border-color: transparent;\n",
              "      border-right-color: var(--fill-color);\n",
              "      border-top-color: var(--fill-color);\n",
              "    }\n",
              "    60% {\n",
              "      border-color: transparent;\n",
              "      border-right-color: var(--fill-color);\n",
              "    }\n",
              "    80% {\n",
              "      border-color: transparent;\n",
              "      border-right-color: var(--fill-color);\n",
              "      border-bottom-color: var(--fill-color);\n",
              "    }\n",
              "    90% {\n",
              "      border-color: transparent;\n",
              "      border-bottom-color: var(--fill-color);\n",
              "    }\n",
              "  }\n",
              "</style>\n",
              "\n",
              "  <script>\n",
              "    async function quickchart(key) {\n",
              "      const quickchartButtonEl =\n",
              "        document.querySelector('#' + key + ' button');\n",
              "      quickchartButtonEl.disabled = true;  // To prevent multiple clicks.\n",
              "      quickchartButtonEl.classList.add('colab-df-spinner');\n",
              "      try {\n",
              "        const charts = await google.colab.kernel.invokeFunction(\n",
              "            'suggestCharts', [key], {});\n",
              "      } catch (error) {\n",
              "        console.error('Error during call to suggestCharts:', error);\n",
              "      }\n",
              "      quickchartButtonEl.classList.remove('colab-df-spinner');\n",
              "      quickchartButtonEl.classList.add('colab-df-quickchart-complete');\n",
              "    }\n",
              "    (() => {\n",
              "      let quickchartButtonEl =\n",
              "        document.querySelector('#df-d82a74d8-52b9-417c-a5de-ca04f1552ff0 button');\n",
              "      quickchartButtonEl.style.display =\n",
              "        google.colab.kernel.accessAllowed ? 'block' : 'none';\n",
              "    })();\n",
              "  </script>\n",
              "</div>\n",
              "    </div>\n",
              "  </div>\n"
            ],
            "application/vnd.google.colaboratory.intrinsic+json": {
              "type": "dataframe",
              "variable_name": "english_df",
              "summary": "{\n  \"name\": \"english_df\",\n  \"rows\": 44865,\n  \"fields\": [\n    {\n      \"column\": \"title\",\n      \"properties\": {\n        \"dtype\": \"string\",\n        \"num_unique_values\": 38611,\n        \"samples\": [\n          \"Discards\",\n          \"The Summer\",\n          \"Pigskin Abbey\"\n        ],\n        \"semantic_type\": \"\",\n        \"description\": \"\"\n      }\n    },\n    {\n      \"column\": \"author\",\n      \"properties\": {\n        \"dtype\": \"category\",\n        \"num_unique_values\": 7989,\n        \"samples\": [\n          \"By Gerald Jonas\",\n          \"By Richard Duerden\",\n          \"By Ellen Tifft\"\n        ],\n        \"semantic_type\": \"\",\n        \"description\": \"\"\n      }\n    },\n    {\n      \"column\": \"categories\",\n      \"properties\": {\n        \"dtype\": \"category\",\n        \"num_unique_values\": 12311,\n        \"samples\": [\n          \"['Nature', 'Stars, Planets, Heavens', 'Mythology & Folklore', 'Ghosts & the Supernatural']\",\n          \"['Living', 'Life Choices', 'Time & Brevity', 'Activities', 'Travels & Journeys', 'Rhymed Stanza', 'Quatrain']\",\n          \"['Love', 'Desire', 'Romantic Love', 'Unrequited Love', 'Nature', 'Fall', 'Trees & Flowers']\"\n        ],\n        \"semantic_type\": \"\",\n        \"description\": \"\"\n      }\n    },\n    {\n      \"column\": \"poem\",\n      \"properties\": {\n        \"dtype\": \"string\",\n        \"num_unique_values\": 40034,\n        \"samples\": [\n          \"POETRY: 4 Magazine of Verse  Where Europe has found peace Where Europe finds the magical colloquies  I can no longer look at these spasms of dying This delirium of the slow decomposition I hear rain pattering on the frontier-town And the night shaking with tears Eug\\u00e9ne Jolas  FOR ARCHIE WREN: TRAITOR  Here lies old Archie Wren, A traitor to man\\u2019s cause; He turned in mountain men For breaking crazy laws. Archie was once respected Until he spied on stills; His grave is much neglected Among his own good hills. Jesse Stuart  [186] \",\n          \"PHILIP MILLER  DEATH CAMP DOCUMENTARY IN GRAY AND WHITE  At the time of the liberation  Gray men wander among the piled, milk-white corpses at Belsen,  near a pit where SS officers  must bury the victims they carry slung over their backs  or drag along the ground:  scene after scene\\u2014ashy faced  men recede, fade to specks;  layers of bodies grow, brightening  as if their skin drew in all the light left.  A British narrator intones,  describes camp after camp:  cut to map peppered with locations pronounced firmly as a conductor listing distant stations a train will reach: close-ups of more corpses, eyes  stuck open, but something frozen there is still alive and stares.  Cut to another camp, everybody dead, snow softly falling,  covering bodies with a thin  white powder as they lie like pressed eras of rock on a sheer mountain\\u2019s face.  Last footage: a child, his eyes, black wells with thin candle flames inside,  drinks soup among his liberators:  his thin, careful hands cradle the cup,  tip it high, his tongue rescuing from his lips each drop, every pearl.  141 \",\n          \"POETRY  BARON WORMSER  SHARDS  It seems sometimes as if they left all of a sudden,  A scant hour or two ahead of marauding troops Or a hurricane\\u2014but that is only how it seems.  In fact, they were mired in their half-baked dreams.  America, after all, has never been  A country for invasions; no one has had to fight  For his home as if tomorrow it might be sacked.  Our trepidations have always been more abstract.  These people were not menaced. Their lives were Interrupted only by a prosperity that did not  For some reason or other include them.  All these people knew\\u2014and knew it like the phlegm  In their throats or the warts on the backs of their hands\\u2014 Was that they had been robbed, although they didn\\u2019t know By whom. The fact sufficed\\u2014they\\u2019d been robbed.  And so they opened the back door and lobbed  Their busted crockery out into the night,  Letting it fall where it would. There was no point In bothering with a broken piece of clay.  It was as expendable as the next day  Or the day after that. They were stubborn  People and poor and now there is nothing  Of their place but what they threw out. The detritus has remained  While the cellar hole is a sea of raspberry canes  And the elm trees are dead and the cistern has filled Up with mice and leaves. Bits of cups, kettles, and bowls  232 \"\n        ],\n        \"semantic_type\": \"\",\n        \"description\": \"\"\n      }\n    }\n  ]\n}"
            }
          },
          "metadata": {},
          "execution_count": 12
        }
      ],
      "source": [
        "english_df.head()\n"
      ]
    },
    {
      "cell_type": "code",
      "execution_count": null,
      "metadata": {
        "id": "_093nio7nzh1",
        "outputId": "05e90efc-849b-4978-918d-25bb5e7c29fe",
        "colab": {
          "base_uri": "https://localhost:8080/",
          "height": 206
        }
      },
      "outputs": [
        {
          "output_type": "display_data",
          "data": {
            "text/plain": [
              "<IPython.core.display.HTML object>"
            ],
            "text/html": [
              "\n",
              "  <style>\n",
              "    pre {\n",
              "        white-space: pre-wrap;\n",
              "    }\n",
              "  </style>\n",
              "  "
            ]
          },
          "metadata": {}
        },
        {
          "output_type": "execute_result",
          "data": {
            "text/plain": [
              "                 title              author  \\\n",
              "10              Fosfor  By Kacper Bartczak   \n",
              "29  PieÃ…â€ºÃ…â€ž tego  By Kacper Bartczak   \n",
              "32       Prawda obrazu  By Kacper Bartczak   \n",
              "35   regenportr&auml;t       By Jan Wagner   \n",
              "37              reifen       By Jan Wagner   \n",
              "\n",
              "                                        categories  \\\n",
              "10                                              []   \n",
              "29                                              []   \n",
              "32                                              []   \n",
              "35                                      ['Nature']   \n",
              "37  ['Social Commentaries', 'Cities & Urban Life']   \n",
              "\n",
              "                                                 poem  \n",
              "10  w terrarium jesteÃ…â€º czarna skrzyneczka rzec...  \n",
              "29  perÃ…â€šo Ã…â€ºwiata wymiocino wieprzu jestem ...  \n",
              "32  Kobieta naprzeciwko czyta Ã¢â‚¬Å¾NajwiÃ„â„¢ksz...  \n",
              "35  erscheint als handkuÃƒÅ¸, als sanfter stubser,...  \n",
              "37  dort, wo die stadt versickert, beim bahndamm, ...  "
            ],
            "text/html": [
              "\n",
              "  <div id=\"df-83e7b225-430f-4728-ac9e-cf79630dee3f\" class=\"colab-df-container\">\n",
              "    <div>\n",
              "<style scoped>\n",
              "    .dataframe tbody tr th:only-of-type {\n",
              "        vertical-align: middle;\n",
              "    }\n",
              "\n",
              "    .dataframe tbody tr th {\n",
              "        vertical-align: top;\n",
              "    }\n",
              "\n",
              "    .dataframe thead th {\n",
              "        text-align: right;\n",
              "    }\n",
              "</style>\n",
              "<table border=\"1\" class=\"dataframe\">\n",
              "  <thead>\n",
              "    <tr style=\"text-align: right;\">\n",
              "      <th></th>\n",
              "      <th>title</th>\n",
              "      <th>author</th>\n",
              "      <th>categories</th>\n",
              "      <th>poem</th>\n",
              "    </tr>\n",
              "  </thead>\n",
              "  <tbody>\n",
              "    <tr>\n",
              "      <th>10</th>\n",
              "      <td>Fosfor</td>\n",
              "      <td>By Kacper Bartczak</td>\n",
              "      <td>[]</td>\n",
              "      <td>w terrarium jesteÃ…â€º czarna skrzyneczka rzec...</td>\n",
              "    </tr>\n",
              "    <tr>\n",
              "      <th>29</th>\n",
              "      <td>PieÃ…â€ºÃ…â€ž tego</td>\n",
              "      <td>By Kacper Bartczak</td>\n",
              "      <td>[]</td>\n",
              "      <td>perÃ…â€šo Ã…â€ºwiata wymiocino wieprzu jestem ...</td>\n",
              "    </tr>\n",
              "    <tr>\n",
              "      <th>32</th>\n",
              "      <td>Prawda obrazu</td>\n",
              "      <td>By Kacper Bartczak</td>\n",
              "      <td>[]</td>\n",
              "      <td>Kobieta naprzeciwko czyta Ã¢â‚¬Å¾NajwiÃ„â„¢ksz...</td>\n",
              "    </tr>\n",
              "    <tr>\n",
              "      <th>35</th>\n",
              "      <td>regenportr&amp;auml;t</td>\n",
              "      <td>By Jan Wagner</td>\n",
              "      <td>['Nature']</td>\n",
              "      <td>erscheint als handkuÃƒÅ¸, als sanfter stubser,...</td>\n",
              "    </tr>\n",
              "    <tr>\n",
              "      <th>37</th>\n",
              "      <td>reifen</td>\n",
              "      <td>By Jan Wagner</td>\n",
              "      <td>['Social Commentaries', 'Cities &amp; Urban Life']</td>\n",
              "      <td>dort, wo die stadt versickert, beim bahndamm, ...</td>\n",
              "    </tr>\n",
              "  </tbody>\n",
              "</table>\n",
              "</div>\n",
              "    <div class=\"colab-df-buttons\">\n",
              "\n",
              "  <div class=\"colab-df-container\">\n",
              "    <button class=\"colab-df-convert\" onclick=\"convertToInteractive('df-83e7b225-430f-4728-ac9e-cf79630dee3f')\"\n",
              "            title=\"Convert this dataframe to an interactive table.\"\n",
              "            style=\"display:none;\">\n",
              "\n",
              "  <svg xmlns=\"http://www.w3.org/2000/svg\" height=\"24px\" viewBox=\"0 -960 960 960\">\n",
              "    <path d=\"M120-120v-720h720v720H120Zm60-500h600v-160H180v160Zm220 220h160v-160H400v160Zm0 220h160v-160H400v160ZM180-400h160v-160H180v160Zm440 0h160v-160H620v160ZM180-180h160v-160H180v160Zm440 0h160v-160H620v160Z\"/>\n",
              "  </svg>\n",
              "    </button>\n",
              "\n",
              "  <style>\n",
              "    .colab-df-container {\n",
              "      display:flex;\n",
              "      gap: 12px;\n",
              "    }\n",
              "\n",
              "    .colab-df-convert {\n",
              "      background-color: #E8F0FE;\n",
              "      border: none;\n",
              "      border-radius: 50%;\n",
              "      cursor: pointer;\n",
              "      display: none;\n",
              "      fill: #1967D2;\n",
              "      height: 32px;\n",
              "      padding: 0 0 0 0;\n",
              "      width: 32px;\n",
              "    }\n",
              "\n",
              "    .colab-df-convert:hover {\n",
              "      background-color: #E2EBFA;\n",
              "      box-shadow: 0px 1px 2px rgba(60, 64, 67, 0.3), 0px 1px 3px 1px rgba(60, 64, 67, 0.15);\n",
              "      fill: #174EA6;\n",
              "    }\n",
              "\n",
              "    .colab-df-buttons div {\n",
              "      margin-bottom: 4px;\n",
              "    }\n",
              "\n",
              "    [theme=dark] .colab-df-convert {\n",
              "      background-color: #3B4455;\n",
              "      fill: #D2E3FC;\n",
              "    }\n",
              "\n",
              "    [theme=dark] .colab-df-convert:hover {\n",
              "      background-color: #434B5C;\n",
              "      box-shadow: 0px 1px 3px 1px rgba(0, 0, 0, 0.15);\n",
              "      filter: drop-shadow(0px 1px 2px rgba(0, 0, 0, 0.3));\n",
              "      fill: #FFFFFF;\n",
              "    }\n",
              "  </style>\n",
              "\n",
              "    <script>\n",
              "      const buttonEl =\n",
              "        document.querySelector('#df-83e7b225-430f-4728-ac9e-cf79630dee3f button.colab-df-convert');\n",
              "      buttonEl.style.display =\n",
              "        google.colab.kernel.accessAllowed ? 'block' : 'none';\n",
              "\n",
              "      async function convertToInteractive(key) {\n",
              "        const element = document.querySelector('#df-83e7b225-430f-4728-ac9e-cf79630dee3f');\n",
              "        const dataTable =\n",
              "          await google.colab.kernel.invokeFunction('convertToInteractive',\n",
              "                                                    [key], {});\n",
              "        if (!dataTable) return;\n",
              "\n",
              "        const docLinkHtml = 'Like what you see? Visit the ' +\n",
              "          '<a target=\"_blank\" href=https://colab.research.google.com/notebooks/data_table.ipynb>data table notebook</a>'\n",
              "          + ' to learn more about interactive tables.';\n",
              "        element.innerHTML = '';\n",
              "        dataTable['output_type'] = 'display_data';\n",
              "        await google.colab.output.renderOutput(dataTable, element);\n",
              "        const docLink = document.createElement('div');\n",
              "        docLink.innerHTML = docLinkHtml;\n",
              "        element.appendChild(docLink);\n",
              "      }\n",
              "    </script>\n",
              "  </div>\n",
              "\n",
              "\n",
              "<div id=\"df-823a5866-2ce3-4815-bb3b-9632b4dc98da\">\n",
              "  <button class=\"colab-df-quickchart\" onclick=\"quickchart('df-823a5866-2ce3-4815-bb3b-9632b4dc98da')\"\n",
              "            title=\"Suggest charts\"\n",
              "            style=\"display:none;\">\n",
              "\n",
              "<svg xmlns=\"http://www.w3.org/2000/svg\" height=\"24px\"viewBox=\"0 0 24 24\"\n",
              "     width=\"24px\">\n",
              "    <g>\n",
              "        <path d=\"M19 3H5c-1.1 0-2 .9-2 2v14c0 1.1.9 2 2 2h14c1.1 0 2-.9 2-2V5c0-1.1-.9-2-2-2zM9 17H7v-7h2v7zm4 0h-2V7h2v10zm4 0h-2v-4h2v4z\"/>\n",
              "    </g>\n",
              "</svg>\n",
              "  </button>\n",
              "\n",
              "<style>\n",
              "  .colab-df-quickchart {\n",
              "      --bg-color: #E8F0FE;\n",
              "      --fill-color: #1967D2;\n",
              "      --hover-bg-color: #E2EBFA;\n",
              "      --hover-fill-color: #174EA6;\n",
              "      --disabled-fill-color: #AAA;\n",
              "      --disabled-bg-color: #DDD;\n",
              "  }\n",
              "\n",
              "  [theme=dark] .colab-df-quickchart {\n",
              "      --bg-color: #3B4455;\n",
              "      --fill-color: #D2E3FC;\n",
              "      --hover-bg-color: #434B5C;\n",
              "      --hover-fill-color: #FFFFFF;\n",
              "      --disabled-bg-color: #3B4455;\n",
              "      --disabled-fill-color: #666;\n",
              "  }\n",
              "\n",
              "  .colab-df-quickchart {\n",
              "    background-color: var(--bg-color);\n",
              "    border: none;\n",
              "    border-radius: 50%;\n",
              "    cursor: pointer;\n",
              "    display: none;\n",
              "    fill: var(--fill-color);\n",
              "    height: 32px;\n",
              "    padding: 0;\n",
              "    width: 32px;\n",
              "  }\n",
              "\n",
              "  .colab-df-quickchart:hover {\n",
              "    background-color: var(--hover-bg-color);\n",
              "    box-shadow: 0 1px 2px rgba(60, 64, 67, 0.3), 0 1px 3px 1px rgba(60, 64, 67, 0.15);\n",
              "    fill: var(--button-hover-fill-color);\n",
              "  }\n",
              "\n",
              "  .colab-df-quickchart-complete:disabled,\n",
              "  .colab-df-quickchart-complete:disabled:hover {\n",
              "    background-color: var(--disabled-bg-color);\n",
              "    fill: var(--disabled-fill-color);\n",
              "    box-shadow: none;\n",
              "  }\n",
              "\n",
              "  .colab-df-spinner {\n",
              "    border: 2px solid var(--fill-color);\n",
              "    border-color: transparent;\n",
              "    border-bottom-color: var(--fill-color);\n",
              "    animation:\n",
              "      spin 1s steps(1) infinite;\n",
              "  }\n",
              "\n",
              "  @keyframes spin {\n",
              "    0% {\n",
              "      border-color: transparent;\n",
              "      border-bottom-color: var(--fill-color);\n",
              "      border-left-color: var(--fill-color);\n",
              "    }\n",
              "    20% {\n",
              "      border-color: transparent;\n",
              "      border-left-color: var(--fill-color);\n",
              "      border-top-color: var(--fill-color);\n",
              "    }\n",
              "    30% {\n",
              "      border-color: transparent;\n",
              "      border-left-color: var(--fill-color);\n",
              "      border-top-color: var(--fill-color);\n",
              "      border-right-color: var(--fill-color);\n",
              "    }\n",
              "    40% {\n",
              "      border-color: transparent;\n",
              "      border-right-color: var(--fill-color);\n",
              "      border-top-color: var(--fill-color);\n",
              "    }\n",
              "    60% {\n",
              "      border-color: transparent;\n",
              "      border-right-color: var(--fill-color);\n",
              "    }\n",
              "    80% {\n",
              "      border-color: transparent;\n",
              "      border-right-color: var(--fill-color);\n",
              "      border-bottom-color: var(--fill-color);\n",
              "    }\n",
              "    90% {\n",
              "      border-color: transparent;\n",
              "      border-bottom-color: var(--fill-color);\n",
              "    }\n",
              "  }\n",
              "</style>\n",
              "\n",
              "  <script>\n",
              "    async function quickchart(key) {\n",
              "      const quickchartButtonEl =\n",
              "        document.querySelector('#' + key + ' button');\n",
              "      quickchartButtonEl.disabled = true;  // To prevent multiple clicks.\n",
              "      quickchartButtonEl.classList.add('colab-df-spinner');\n",
              "      try {\n",
              "        const charts = await google.colab.kernel.invokeFunction(\n",
              "            'suggestCharts', [key], {});\n",
              "      } catch (error) {\n",
              "        console.error('Error during call to suggestCharts:', error);\n",
              "      }\n",
              "      quickchartButtonEl.classList.remove('colab-df-spinner');\n",
              "      quickchartButtonEl.classList.add('colab-df-quickchart-complete');\n",
              "    }\n",
              "    (() => {\n",
              "      let quickchartButtonEl =\n",
              "        document.querySelector('#df-823a5866-2ce3-4815-bb3b-9632b4dc98da button');\n",
              "      quickchartButtonEl.style.display =\n",
              "        google.colab.kernel.accessAllowed ? 'block' : 'none';\n",
              "    })();\n",
              "  </script>\n",
              "</div>\n",
              "    </div>\n",
              "  </div>\n"
            ],
            "application/vnd.google.colaboratory.intrinsic+json": {
              "type": "dataframe",
              "variable_name": "other_language_df",
              "summary": "{\n  \"name\": \"other_language_df\",\n  \"rows\": 423,\n  \"fields\": [\n    {\n      \"column\": \"title\",\n      \"properties\": {\n        \"dtype\": \"string\",\n        \"num_unique_values\": 421,\n        \"samples\": [\n          \"Carla (Tr. by John Frederick Nims)\",\n          \"(\\\"Tes soleils sont de houx...\\\")\",\n          \"La vita... &egrave; ricordarsi di un risveglio/ Life... Is Remembering Having Wakened\"\n        ],\n        \"semantic_type\": \"\",\n        \"description\": \"\"\n      }\n    },\n    {\n      \"column\": \"author\",\n      \"properties\": {\n        \"dtype\": \"category\",\n        \"num_unique_values\": 199,\n        \"samples\": [\n          \"By Giuseppe Conte\",\n          \"By Miron Bia\\u00c3\\u2026\\u00e2\\u20ac\\u0161oszewski\",\n          \"By Dominique Fourcade\"\n        ],\n        \"semantic_type\": \"\",\n        \"description\": \"\"\n      }\n    },\n    {\n      \"column\": \"categories\",\n      \"properties\": {\n        \"dtype\": \"category\",\n        \"num_unique_values\": 31,\n        \"samples\": [\n          \"['Love', 'Desire', 'Relationships', 'Rhymed Stanza']\",\n          \"['Nature', 'Stars, Planets, Heavens', 'Religion', 'God & the Divine', 'Free Verse']\",\n          \"['Relationships', 'Pets', 'Nature', 'Animals', 'Trees & Flowers', 'Free Verse']\"\n        ],\n        \"semantic_type\": \"\",\n        \"description\": \"\"\n      }\n    },\n    {\n      \"column\": \"poem\",\n      \"properties\": {\n        \"dtype\": \"string\",\n        \"num_unique_values\": 313,\n        \"samples\": [\n          \"Votre mari vous n\\u00c3\\u0192\\u00c2\\u00a9glige? Invitez sa m\\u00c3\\u0192\\u00c2\\u00a8re \\u00c3\\u0192\\u00c2\\u00a0 passer la nuit dans votre chambre Puis affal\\u00c3\\u0192\\u00c2\\u00a9e dans l\\u00c3\\u00a2\\u00e2\\u201a\\u00ac\\u00e2\\u201e\\u00a2armoire pr\\u00c3\\u0192\\u00c2\\u00a8s du lit Projetez votre om\\u00c3\\u0192\\u00c2\\u00a9ga plus une poign\\u00c3\\u0192\\u00c2\\u00a9e de salamandres Dans le miroir o\\u00c3\\u0192\\u00c2\\u00b9 l\\u00c3\\u00a2\\u00e2\\u201a\\u00ac\\u00e2\\u201e\\u00a2ombre se dandine Votre mari vous \\u00c3\\u0192\\u00c2\\u00a9chappe? Le c\\u00c3\\u0192\\u00c2\\u00a9leste directeur a besoin d\\u00c3\\u00a2\\u00e2\\u201a\\u00ac\\u00e2\\u201e\\u00a2un r\\u00c3\\u0192\\u00c2\\u00a9gime Urinez dans sa soupe quand heureux pr\\u00c3\\u0192\\u00c2\\u00a8s de vous il s\\u00c3\\u00a2\\u00e2\\u201a\\u00ac\\u00e2\\u201e\\u00a2allonge Soyez douce mais habile \\u00c3\\u0192\\u00c2\\u00a0 farcir l\\u00c3\\u00a2\\u00e2\\u201a\\u00ac\\u00e2\\u201e\\u00a2oie grasse De poulpes de messages Et de poils de mandragore Taquinez ses penchants avec un blaireau de soie Saupoudrez son phal\\u00c3\\u0192\\u00c2\\u00a8ne de sang et de suie Et surtout souriez quand dans vos bras il se meurt Malgr\\u00c3\\u0192\\u00c2\\u00a9 lui c\\u00c3\\u00a2\\u00e2\\u201a\\u00ac\\u00e2\\u201e\\u00a2est \\u00c3\\u0192\\u00c2\\u00a0 vous qu\\u00c3\\u00a2\\u00e2\\u201a\\u00ac\\u00e2\\u201e\\u00a2il pensera _____ Je ne connais pas l\\u00c3\\u00a2\\u00e2\\u201a\\u00ac\\u00e2\\u201e\\u00a2enfer Mais mon corps br\\u00c3\\u0192\\u00c2\\u00bble depuis ma naissance Aucun diable n\\u00c3\\u00a2\\u00e2\\u201a\\u00ac\\u00e2\\u201e\\u00a2attise ma haine Aucun satyre ne me poursuit Mais le verbe se transforme en vermine entre mes l\\u00c3\\u0192\\u00c2\\u00a8vres Et mon pubis trop sensible \\u00c3\\u0192\\u00c2\\u00a0 la pluie Immobile comme un mollusque flatulent de musique Se cramponne au t\\u00c3\\u0192\\u00c2\\u00a9l\\u00c3\\u0192\\u00c2\\u00a9phone Et pleure Malgr\\u00c3\\u0192\\u00c2\\u00a9 moi ma charogne fanatise avec ton vieux sexe d\\u00c3\\u0192\\u00c2\\u00a9busqu\\u00c3\\u0192\\u00c2\\u00a9 Qui dort\",\n          \"Agua de medusas, agua l\\u00c3\\u0192\\u00c2\\u00a1ctea, sinuosa, agua de bordes l\\u00c3\\u0192\\u00c2\\u00babricos; espesura vidriante\\u00c3\\u00a2\\u00e2\\u201a\\u00ac\\u00e2\\u20ac\\u009dDelicuescencia entre contornos deleitosos. Agua\\u00c3\\u00a2\\u00e2\\u201a\\u00ac\\u00e2\\u20ac\\u009dagua suntuosa de involuci\\u00c3\\u0192\\u00c2\\u00b3n, de languidez en densidades pl\\u00c3\\u0192\\u00c2\\u00a1cidas. Agua, agua sedosa y pl\\u00c3\\u0192\\u00c2\\u00bambea en opacidad, en peso\\u00c3\\u00a2\\u00e2\\u201a\\u00ac\\u00e2\\u20ac\\u009dMercurial; agua en vilo, agua lenta. El alga acu\\u00c3\\u0192\\u00c2\\u00a1tica de los brillos\\u00c3\\u00a2\\u00e2\\u201a\\u00ac\\u00e2\\u20ac\\u009dEn las ubres del gozo. El alga, el h\\u00c3\\u0192\\u00c2\\u00a1lito de su cima; \\u00c3\\u00a2\\u00e2\\u201a\\u00ac\\u00e2\\u20ac\\u009dsobre el silencio arqueante, sobre los istmos del basalto; el alga, el h\\u00c3\\u0192\\u00c2\\u00a1bito de su roce, su deslizarse. Agua luz, agua pez; el aura, el \\u00c3\\u0192\\u00c2\\u00a1gata, sus desbordes luminosos; Fuego rastreante el alce huidizo\\u00c3\\u00a2\\u00e2\\u201a\\u00ac\\u00e2\\u20ac\\u009dEntre la ceiba, entre el cardumen; llama pulsante; agua lince, agua sargo (El jaspe s\\u00c3\\u0192\\u00c2\\u00babito). Lumbre entre medusas. \\u00c3\\u00a2\\u00e2\\u201a\\u00ac\\u00e2\\u20ac\\u009dOrla abierta, labiada; aura de bordes l\\u00c3\\u0192\\u00c2\\u00babricos, su lisura acunante, su eflorescerse al anidar; anfibia, l\\u00c3\\u0192\\u00c2\\u00a1bil -Agua, agua sedosa en imantaci\\u00c3\\u0192\\u00c2\\u00b3n; en ristre. Agua en vilo, agua lenta -El alumbrar lascivo en lo vadeante oleoso, sobre los vuelcos de basalto.\\u00c3\\u00a2\\u00e2\\u201a\\u00ac\\u00e2\\u20ac\\u009dReptar del \\u00c3\\u0192\\u00c2\\u00b3palo entre la luz, entre la llama interna.\\u00c3\\u00a2\\u00e2\\u201a\\u00ac\\u00e2\\u20ac\\u009dAgua de medusas. Agua blanda, lustrosa; agua sin huella; densa, mercurial su blancura acerada, su diluci\\u00c3\\u0192\\u00c2\\u00b3n en alzamientos de grafito, en despuntar de lisa; hurtante, suave. \\u00c3\\u00a2\\u00e2\\u201a\\u00ac\\u00e2\\u20ac\\u0153\\u00c3\\u00a2\\u00e2\\u201a\\u00ac\\u00e2\\u20ac\\u0153Agua viva su vientre sobre el testuz, volcado sol de bronce envolviendo \\u00c3\\u00a2\\u00e2\\u201a\\u00ac\\u00e2\\u20ac\\u0153\\u00c3\\u00a2\\u00e2\\u201a\\u00ac\\u00e2\\u20ac\\u0153agua blenda, brotante. Agua de medusas, agua t\\u00c3\\u0192\\u00c2\\u00a1ctil fundi\\u00c3\\u0192\\u00c2\\u00a9ndose en lo a\\u00c3\\u0192\\u00c2\\u00b1il untuoso, en su panal reverberante. Agua amianto, ulva El bagre en lo mullido \\u00c3\\u00a2\\u00e2\\u201a\\u00ac\\u00e2\\u20ac\\u0153\\u00c3\\u00a2\\u00e2\\u201a\\u00ac\\u00e2\\u20ac\\u0153libando; en el humor nutricio, entre su n\\u00c3\\u0192\\u00c2\\u00a9ctar delicado; el \\u00c3\\u0192\\u00c2\\u00a1ureo embalse, el limbo, lo transluce. Agua leve, aura adentro el \\u00c3\\u0192\\u00c2\\u00a1mbar \\u00c3\\u00a2\\u00e2\\u201a\\u00ac\\u00e2\\u20ac\\u0153\\u00c3\\u00a2\\u00e2\\u201a\\u00ac\\u00e2\\u20ac\\u0153el luminar ungido, esbelto; el tigre, su pleamar bajo la sombra vidriada. Agua linde, agua anguila laminendo su perfil, su transmigrar nocturno \\u00c3\\u00a2\\u00e2\\u201a\\u00ac\\u00e2\\u20ac\\u0153\\u00c3\\u00a2\\u00e2\\u201a\\u00ac\\u00e2\\u20ac\\u0153Entre las sedas matriciales; entre la salvia. \\u00c3\\u00a2\\u00e2\\u201a\\u00ac\\u00e2\\u20ac\\u0153\\u00c3\\u00a2\\u00e2\\u201a\\u00ac\\u00e2\\u20ac\\u0153Agua entre merluzas. Agua gr\\u00c3\\u0192\\u00c2\\u00a1vida (\\u00c3\\u00a2\\u00e2\\u201a\\u00ac\\u00e2\\u20ac\\u0153\\u00c3\\u00a2\\u00e2\\u201a\\u00ac\\u00e2\\u20ac\\u0153El calmo goce tibio; su irisable) \\u00c3\\u00a2\\u00e2\\u201a\\u00ac\\u00e2\\u20ac\\u0153\\u00c3\\u00a2\\u00e2\\u201a\\u00ac\\u00e2\\u20ac\\u0153Agua sus bordes \\u00c3\\u00a2\\u00e2\\u201a\\u00ac\\u00e2\\u20ac\\u0153\\u00c3\\u00a2\\u00e2\\u201a\\u00ac\\u00e2\\u20ac\\u0153Su lisura mutante, su embele\\u00c3\\u0192\\u00c2\\u00b1arse entre lo n\\u00c3\\u0192\\u00c2\\u00babil cadencioso. Agua, agua sedosa de involuci\\u00c3\\u0192\\u00c2\\u00b3n, de languidez en densidades pl\\u00c3\\u0192\\u00c2\\u00a1cidas. Agua, agua;\\u00c3\\u201a\\u00c2\\u00a0 \\u00c3\\u201a\\u00c2\\u00a0 \\u00c3\\u201a\\u00c2\\u00a0 \\u00c3\\u201a\\u00c2\\u00a0 \\u00c3\\u201a\\u00c2\\u00a0Su roce \\u00c3\\u00a2\\u00e2\\u201a\\u00ac\\u00e2\\u20ac\\u0153\\u00c3\\u00a2\\u00e2\\u201a\\u00ac\\u00e2\\u20ac\\u0153Agua nutria, agua pez. Agua de medusas agua l\\u00c3\\u0192\\u00c2\\u00a1ctea, sinuosa; Agua,\",\n          \"PAUL DE ROUX  LA RUE PROFONDE  Un grand pan de brume, si grand  qu\\u2019il t'enveloppe compl\\u00e9tement, toi  et la ville et l\\u2019origine des hommes :  manteau gluant d\\u2019humidit\\u00e9 ou, mieux,  tombeau ou sans cesse tu roules, quand bien m\\u00e9me on te verrait chaque jour rentrer par la m\\u00e9me rue, rue qui est pour toi une sentine f\\u00e9tide  quand le soleil du plein \\u00e9t\\u00e9 resplendit  sur les arbres et les Ames des hommes  qui ont port\\u00e9 la dalle de leur tombeau  comme le paralytique son grabat et soulev\\u00e9  du m\\u00e9me coup les nuages pour faire passer alentour la lumi\\u00e9re dans la rue profonde.  THE DEEP STREET  A patch of mist, large enough  to envelop you completely, you  and the city and the origins of men:  a coat sticky with moisture, or rather the tomb you turn in endlessly, even though it\\u2019s the street you walk home every day, and a fetid sink it is, for you,  when the high summer sun is shining on the trees and on the souls of men who have taken up their tombstone  as the cripple took up his bed  and with it lifted the clouds  to allow a passage for the light  round and into the deep street. \"\n        ],\n        \"semantic_type\": \"\",\n        \"description\": \"\"\n      }\n    }\n  ]\n}"
            }
          },
          "metadata": {},
          "execution_count": 13
        }
      ],
      "source": [
        "other_language_df.head()"
      ]
    },
    {
      "cell_type": "markdown",
      "metadata": {
        "id": "TSl8l3E6nzh3"
      },
      "source": [
        "### Save the english DataFrame and the rest of the data"
      ]
    },
    {
      "cell_type": "code",
      "execution_count": null,
      "metadata": {
        "id": "MGjqppp0nzh6",
        "colab": {
          "base_uri": "https://localhost:8080/",
          "height": 17
        },
        "outputId": "8d176ed8-9f32-43ef-81d1-3900030b9cc9"
      },
      "outputs": [
        {
          "output_type": "display_data",
          "data": {
            "text/plain": [
              "<IPython.core.display.HTML object>"
            ],
            "text/html": [
              "\n",
              "  <style>\n",
              "    pre {\n",
              "        white-space: pre-wrap;\n",
              "    }\n",
              "  </style>\n",
              "  "
            ]
          },
          "metadata": {}
        }
      ],
      "source": [
        "english_df.to_csv('english_df.csv', encoding='utf-8', index=False) # CAREFUL, you can overwrite your previous dataset, UPDATE the name when used\n",
        "#other languages dataset can not be codified and as we are not going to use it we dont care about it\n",
        "other_language_df.to_csv('other_language_df.csv',encoding='utf-8', index=False) # CAREFUL, you can overwrite your previous dataset, UPDATE the name when used\n"
      ]
    },
    {
      "cell_type": "markdown",
      "metadata": {
        "id": "88j4-5TJnzh7"
      },
      "source": [
        "# Small Case Text Preprocessing"
      ]
    },
    {
      "cell_type": "code",
      "execution_count": null,
      "metadata": {
        "id": "_f_nXKwWnzh7",
        "colab": {
          "base_uri": "https://localhost:8080/",
          "height": 17
        },
        "outputId": "7b554bc8-af95-4a26-be0a-b937334afa27"
      },
      "outputs": [
        {
          "output_type": "display_data",
          "data": {
            "text/plain": [
              "<IPython.core.display.HTML object>"
            ],
            "text/html": [
              "\n",
              "  <style>\n",
              "    pre {\n",
              "        white-space: pre-wrap;\n",
              "    }\n",
              "  </style>\n",
              "  "
            ]
          },
          "metadata": {}
        }
      ],
      "source": [
        "\n",
        "df = pd.read_csv('english_df.csv', encoding='utf-8')\n",
        "\n",
        "# Drop rows with missing values in the 'poem' column\n",
        "df = df.dropna(subset=['poem'])"
      ]
    },
    {
      "cell_type": "code",
      "source": [
        "df.head(5)"
      ],
      "metadata": {
        "id": "ImXb-V7fVJ7Z",
        "outputId": "dca7a6d0-2c0d-4a8f-a878-fd1d1c22d5c6",
        "colab": {
          "base_uri": "https://localhost:8080/",
          "height": 206
        }
      },
      "execution_count": null,
      "outputs": [
        {
          "output_type": "display_data",
          "data": {
            "text/plain": [
              "<IPython.core.display.HTML object>"
            ],
            "text/html": [
              "\n",
              "  <style>\n",
              "    pre {\n",
              "        white-space: pre-wrap;\n",
              "    }\n",
              "  </style>\n",
              "  "
            ]
          },
          "metadata": {}
        },
        {
          "output_type": "execute_result",
          "data": {
            "text/plain": [
              "                          title                   author  \\\n",
              "0   The 80&rsquo;s Miracle Diet          By Melvin Dixon   \n",
              "1             All Saints&rsquo;  By Corey Van Landingham   \n",
              "2  And These Are Just a Few ...          By Melvin Dixon   \n",
              "3                          ASMR  By Corey Van Landingham   \n",
              "4                          ASMR  By Corey Van Landingham   \n",
              "\n",
              "                                          categories  \\\n",
              "0                     ['Living', 'Health & Illness']   \n",
              "1                                                 []   \n",
              "2  ['Living', 'Health & Illness', 'Social Comment...   \n",
              "3                                                 []   \n",
              "4                                                 []   \n",
              "\n",
              "                                                poem  \n",
              "0  Yours free without the asking Quick delivery v...  \n",
              "1  CaravaggioÃ¢â‚¬â„¢s face in the sunken pumpkin...  \n",
              "2  This poem is for the epidemic dead and the liv...  \n",
              "3  Why not climb up the mountain of delight? To t...  \n",
              "4  HelloÃ¢â‚¬â€Tonight weÃ¢â‚¬â„¢ll trace the st...  "
            ],
            "text/html": [
              "\n",
              "  <div id=\"df-b946619a-32b1-49fb-a6d5-419bb1d29821\" class=\"colab-df-container\">\n",
              "    <div>\n",
              "<style scoped>\n",
              "    .dataframe tbody tr th:only-of-type {\n",
              "        vertical-align: middle;\n",
              "    }\n",
              "\n",
              "    .dataframe tbody tr th {\n",
              "        vertical-align: top;\n",
              "    }\n",
              "\n",
              "    .dataframe thead th {\n",
              "        text-align: right;\n",
              "    }\n",
              "</style>\n",
              "<table border=\"1\" class=\"dataframe\">\n",
              "  <thead>\n",
              "    <tr style=\"text-align: right;\">\n",
              "      <th></th>\n",
              "      <th>title</th>\n",
              "      <th>author</th>\n",
              "      <th>categories</th>\n",
              "      <th>poem</th>\n",
              "    </tr>\n",
              "  </thead>\n",
              "  <tbody>\n",
              "    <tr>\n",
              "      <th>0</th>\n",
              "      <td>The 80&amp;rsquo;s Miracle Diet</td>\n",
              "      <td>By Melvin Dixon</td>\n",
              "      <td>['Living', 'Health &amp; Illness']</td>\n",
              "      <td>Yours free without the asking Quick delivery v...</td>\n",
              "    </tr>\n",
              "    <tr>\n",
              "      <th>1</th>\n",
              "      <td>All Saints&amp;rsquo;</td>\n",
              "      <td>By Corey Van Landingham</td>\n",
              "      <td>[]</td>\n",
              "      <td>CaravaggioÃ¢â‚¬â„¢s face in the sunken pumpkin...</td>\n",
              "    </tr>\n",
              "    <tr>\n",
              "      <th>2</th>\n",
              "      <td>And These Are Just a Few ...</td>\n",
              "      <td>By Melvin Dixon</td>\n",
              "      <td>['Living', 'Health &amp; Illness', 'Social Comment...</td>\n",
              "      <td>This poem is for the epidemic dead and the liv...</td>\n",
              "    </tr>\n",
              "    <tr>\n",
              "      <th>3</th>\n",
              "      <td>ASMR</td>\n",
              "      <td>By Corey Van Landingham</td>\n",
              "      <td>[]</td>\n",
              "      <td>Why not climb up the mountain of delight? To t...</td>\n",
              "    </tr>\n",
              "    <tr>\n",
              "      <th>4</th>\n",
              "      <td>ASMR</td>\n",
              "      <td>By Corey Van Landingham</td>\n",
              "      <td>[]</td>\n",
              "      <td>HelloÃ¢â‚¬â€Tonight weÃ¢â‚¬â„¢ll trace the st...</td>\n",
              "    </tr>\n",
              "  </tbody>\n",
              "</table>\n",
              "</div>\n",
              "    <div class=\"colab-df-buttons\">\n",
              "\n",
              "  <div class=\"colab-df-container\">\n",
              "    <button class=\"colab-df-convert\" onclick=\"convertToInteractive('df-b946619a-32b1-49fb-a6d5-419bb1d29821')\"\n",
              "            title=\"Convert this dataframe to an interactive table.\"\n",
              "            style=\"display:none;\">\n",
              "\n",
              "  <svg xmlns=\"http://www.w3.org/2000/svg\" height=\"24px\" viewBox=\"0 -960 960 960\">\n",
              "    <path d=\"M120-120v-720h720v720H120Zm60-500h600v-160H180v160Zm220 220h160v-160H400v160Zm0 220h160v-160H400v160ZM180-400h160v-160H180v160Zm440 0h160v-160H620v160ZM180-180h160v-160H180v160Zm440 0h160v-160H620v160Z\"/>\n",
              "  </svg>\n",
              "    </button>\n",
              "\n",
              "  <style>\n",
              "    .colab-df-container {\n",
              "      display:flex;\n",
              "      gap: 12px;\n",
              "    }\n",
              "\n",
              "    .colab-df-convert {\n",
              "      background-color: #E8F0FE;\n",
              "      border: none;\n",
              "      border-radius: 50%;\n",
              "      cursor: pointer;\n",
              "      display: none;\n",
              "      fill: #1967D2;\n",
              "      height: 32px;\n",
              "      padding: 0 0 0 0;\n",
              "      width: 32px;\n",
              "    }\n",
              "\n",
              "    .colab-df-convert:hover {\n",
              "      background-color: #E2EBFA;\n",
              "      box-shadow: 0px 1px 2px rgba(60, 64, 67, 0.3), 0px 1px 3px 1px rgba(60, 64, 67, 0.15);\n",
              "      fill: #174EA6;\n",
              "    }\n",
              "\n",
              "    .colab-df-buttons div {\n",
              "      margin-bottom: 4px;\n",
              "    }\n",
              "\n",
              "    [theme=dark] .colab-df-convert {\n",
              "      background-color: #3B4455;\n",
              "      fill: #D2E3FC;\n",
              "    }\n",
              "\n",
              "    [theme=dark] .colab-df-convert:hover {\n",
              "      background-color: #434B5C;\n",
              "      box-shadow: 0px 1px 3px 1px rgba(0, 0, 0, 0.15);\n",
              "      filter: drop-shadow(0px 1px 2px rgba(0, 0, 0, 0.3));\n",
              "      fill: #FFFFFF;\n",
              "    }\n",
              "  </style>\n",
              "\n",
              "    <script>\n",
              "      const buttonEl =\n",
              "        document.querySelector('#df-b946619a-32b1-49fb-a6d5-419bb1d29821 button.colab-df-convert');\n",
              "      buttonEl.style.display =\n",
              "        google.colab.kernel.accessAllowed ? 'block' : 'none';\n",
              "\n",
              "      async function convertToInteractive(key) {\n",
              "        const element = document.querySelector('#df-b946619a-32b1-49fb-a6d5-419bb1d29821');\n",
              "        const dataTable =\n",
              "          await google.colab.kernel.invokeFunction('convertToInteractive',\n",
              "                                                    [key], {});\n",
              "        if (!dataTable) return;\n",
              "\n",
              "        const docLinkHtml = 'Like what you see? Visit the ' +\n",
              "          '<a target=\"_blank\" href=https://colab.research.google.com/notebooks/data_table.ipynb>data table notebook</a>'\n",
              "          + ' to learn more about interactive tables.';\n",
              "        element.innerHTML = '';\n",
              "        dataTable['output_type'] = 'display_data';\n",
              "        await google.colab.output.renderOutput(dataTable, element);\n",
              "        const docLink = document.createElement('div');\n",
              "        docLink.innerHTML = docLinkHtml;\n",
              "        element.appendChild(docLink);\n",
              "      }\n",
              "    </script>\n",
              "  </div>\n",
              "\n",
              "\n",
              "<div id=\"df-e4b90432-9321-40ce-9603-44e59dfff0f8\">\n",
              "  <button class=\"colab-df-quickchart\" onclick=\"quickchart('df-e4b90432-9321-40ce-9603-44e59dfff0f8')\"\n",
              "            title=\"Suggest charts\"\n",
              "            style=\"display:none;\">\n",
              "\n",
              "<svg xmlns=\"http://www.w3.org/2000/svg\" height=\"24px\"viewBox=\"0 0 24 24\"\n",
              "     width=\"24px\">\n",
              "    <g>\n",
              "        <path d=\"M19 3H5c-1.1 0-2 .9-2 2v14c0 1.1.9 2 2 2h14c1.1 0 2-.9 2-2V5c0-1.1-.9-2-2-2zM9 17H7v-7h2v7zm4 0h-2V7h2v10zm4 0h-2v-4h2v4z\"/>\n",
              "    </g>\n",
              "</svg>\n",
              "  </button>\n",
              "\n",
              "<style>\n",
              "  .colab-df-quickchart {\n",
              "      --bg-color: #E8F0FE;\n",
              "      --fill-color: #1967D2;\n",
              "      --hover-bg-color: #E2EBFA;\n",
              "      --hover-fill-color: #174EA6;\n",
              "      --disabled-fill-color: #AAA;\n",
              "      --disabled-bg-color: #DDD;\n",
              "  }\n",
              "\n",
              "  [theme=dark] .colab-df-quickchart {\n",
              "      --bg-color: #3B4455;\n",
              "      --fill-color: #D2E3FC;\n",
              "      --hover-bg-color: #434B5C;\n",
              "      --hover-fill-color: #FFFFFF;\n",
              "      --disabled-bg-color: #3B4455;\n",
              "      --disabled-fill-color: #666;\n",
              "  }\n",
              "\n",
              "  .colab-df-quickchart {\n",
              "    background-color: var(--bg-color);\n",
              "    border: none;\n",
              "    border-radius: 50%;\n",
              "    cursor: pointer;\n",
              "    display: none;\n",
              "    fill: var(--fill-color);\n",
              "    height: 32px;\n",
              "    padding: 0;\n",
              "    width: 32px;\n",
              "  }\n",
              "\n",
              "  .colab-df-quickchart:hover {\n",
              "    background-color: var(--hover-bg-color);\n",
              "    box-shadow: 0 1px 2px rgba(60, 64, 67, 0.3), 0 1px 3px 1px rgba(60, 64, 67, 0.15);\n",
              "    fill: var(--button-hover-fill-color);\n",
              "  }\n",
              "\n",
              "  .colab-df-quickchart-complete:disabled,\n",
              "  .colab-df-quickchart-complete:disabled:hover {\n",
              "    background-color: var(--disabled-bg-color);\n",
              "    fill: var(--disabled-fill-color);\n",
              "    box-shadow: none;\n",
              "  }\n",
              "\n",
              "  .colab-df-spinner {\n",
              "    border: 2px solid var(--fill-color);\n",
              "    border-color: transparent;\n",
              "    border-bottom-color: var(--fill-color);\n",
              "    animation:\n",
              "      spin 1s steps(1) infinite;\n",
              "  }\n",
              "\n",
              "  @keyframes spin {\n",
              "    0% {\n",
              "      border-color: transparent;\n",
              "      border-bottom-color: var(--fill-color);\n",
              "      border-left-color: var(--fill-color);\n",
              "    }\n",
              "    20% {\n",
              "      border-color: transparent;\n",
              "      border-left-color: var(--fill-color);\n",
              "      border-top-color: var(--fill-color);\n",
              "    }\n",
              "    30% {\n",
              "      border-color: transparent;\n",
              "      border-left-color: var(--fill-color);\n",
              "      border-top-color: var(--fill-color);\n",
              "      border-right-color: var(--fill-color);\n",
              "    }\n",
              "    40% {\n",
              "      border-color: transparent;\n",
              "      border-right-color: var(--fill-color);\n",
              "      border-top-color: var(--fill-color);\n",
              "    }\n",
              "    60% {\n",
              "      border-color: transparent;\n",
              "      border-right-color: var(--fill-color);\n",
              "    }\n",
              "    80% {\n",
              "      border-color: transparent;\n",
              "      border-right-color: var(--fill-color);\n",
              "      border-bottom-color: var(--fill-color);\n",
              "    }\n",
              "    90% {\n",
              "      border-color: transparent;\n",
              "      border-bottom-color: var(--fill-color);\n",
              "    }\n",
              "  }\n",
              "</style>\n",
              "\n",
              "  <script>\n",
              "    async function quickchart(key) {\n",
              "      const quickchartButtonEl =\n",
              "        document.querySelector('#' + key + ' button');\n",
              "      quickchartButtonEl.disabled = true;  // To prevent multiple clicks.\n",
              "      quickchartButtonEl.classList.add('colab-df-spinner');\n",
              "      try {\n",
              "        const charts = await google.colab.kernel.invokeFunction(\n",
              "            'suggestCharts', [key], {});\n",
              "      } catch (error) {\n",
              "        console.error('Error during call to suggestCharts:', error);\n",
              "      }\n",
              "      quickchartButtonEl.classList.remove('colab-df-spinner');\n",
              "      quickchartButtonEl.classList.add('colab-df-quickchart-complete');\n",
              "    }\n",
              "    (() => {\n",
              "      let quickchartButtonEl =\n",
              "        document.querySelector('#df-e4b90432-9321-40ce-9603-44e59dfff0f8 button');\n",
              "      quickchartButtonEl.style.display =\n",
              "        google.colab.kernel.accessAllowed ? 'block' : 'none';\n",
              "    })();\n",
              "  </script>\n",
              "</div>\n",
              "    </div>\n",
              "  </div>\n"
            ],
            "application/vnd.google.colaboratory.intrinsic+json": {
              "type": "dataframe",
              "variable_name": "df",
              "summary": "{\n  \"name\": \"df\",\n  \"rows\": 44865,\n  \"fields\": [\n    {\n      \"column\": \"title\",\n      \"properties\": {\n        \"dtype\": \"string\",\n        \"num_unique_values\": 38611,\n        \"samples\": [\n          \"Discards\",\n          \"The Summer\",\n          \"Pigskin Abbey\"\n        ],\n        \"semantic_type\": \"\",\n        \"description\": \"\"\n      }\n    },\n    {\n      \"column\": \"author\",\n      \"properties\": {\n        \"dtype\": \"category\",\n        \"num_unique_values\": 7989,\n        \"samples\": [\n          \"By Gerald Jonas\",\n          \"By Richard Duerden\",\n          \"By Ellen Tifft\"\n        ],\n        \"semantic_type\": \"\",\n        \"description\": \"\"\n      }\n    },\n    {\n      \"column\": \"categories\",\n      \"properties\": {\n        \"dtype\": \"category\",\n        \"num_unique_values\": 12311,\n        \"samples\": [\n          \"['Nature', 'Stars, Planets, Heavens', 'Mythology & Folklore', 'Ghosts & the Supernatural']\",\n          \"['Living', 'Life Choices', 'Time & Brevity', 'Activities', 'Travels & Journeys', 'Rhymed Stanza', 'Quatrain']\",\n          \"['Love', 'Desire', 'Romantic Love', 'Unrequited Love', 'Nature', 'Fall', 'Trees & Flowers']\"\n        ],\n        \"semantic_type\": \"\",\n        \"description\": \"\"\n      }\n    },\n    {\n      \"column\": \"poem\",\n      \"properties\": {\n        \"dtype\": \"string\",\n        \"num_unique_values\": 40034,\n        \"samples\": [\n          \"POETRY: 4 Magazine of Verse  Where Europe has found peace Where Europe finds the magical colloquies  I can no longer look at these spasms of dying This delirium of the slow decomposition I hear rain pattering on the frontier-town And the night shaking with tears Eug\\u00e9ne Jolas  FOR ARCHIE WREN: TRAITOR  Here lies old Archie Wren, A traitor to man\\u2019s cause; He turned in mountain men For breaking crazy laws. Archie was once respected Until he spied on stills; His grave is much neglected Among his own good hills. Jesse Stuart  [186] \",\n          \"PHILIP MILLER  DEATH CAMP DOCUMENTARY IN GRAY AND WHITE  At the time of the liberation  Gray men wander among the piled, milk-white corpses at Belsen,  near a pit where SS officers  must bury the victims they carry slung over their backs  or drag along the ground:  scene after scene\\u2014ashy faced  men recede, fade to specks;  layers of bodies grow, brightening  as if their skin drew in all the light left.  A British narrator intones,  describes camp after camp:  cut to map peppered with locations pronounced firmly as a conductor listing distant stations a train will reach: close-ups of more corpses, eyes  stuck open, but something frozen there is still alive and stares.  Cut to another camp, everybody dead, snow softly falling,  covering bodies with a thin  white powder as they lie like pressed eras of rock on a sheer mountain\\u2019s face.  Last footage: a child, his eyes, black wells with thin candle flames inside,  drinks soup among his liberators:  his thin, careful hands cradle the cup,  tip it high, his tongue rescuing from his lips each drop, every pearl.  141 \",\n          \"POETRY  BARON WORMSER  SHARDS  It seems sometimes as if they left all of a sudden,  A scant hour or two ahead of marauding troops Or a hurricane\\u2014but that is only how it seems.  In fact, they were mired in their half-baked dreams.  America, after all, has never been  A country for invasions; no one has had to fight  For his home as if tomorrow it might be sacked.  Our trepidations have always been more abstract.  These people were not menaced. Their lives were Interrupted only by a prosperity that did not  For some reason or other include them.  All these people knew\\u2014and knew it like the phlegm  In their throats or the warts on the backs of their hands\\u2014 Was that they had been robbed, although they didn\\u2019t know By whom. The fact sufficed\\u2014they\\u2019d been robbed.  And so they opened the back door and lobbed  Their busted crockery out into the night,  Letting it fall where it would. There was no point In bothering with a broken piece of clay.  It was as expendable as the next day  Or the day after that. They were stubborn  People and poor and now there is nothing  Of their place but what they threw out. The detritus has remained  While the cellar hole is a sea of raspberry canes  And the elm trees are dead and the cistern has filled Up with mice and leaves. Bits of cups, kettles, and bowls  232 \"\n        ],\n        \"semantic_type\": \"\",\n        \"description\": \"\"\n      }\n    }\n  ]\n}"
            }
          },
          "metadata": {},
          "execution_count": 16
        }
      ]
    },
    {
      "cell_type": "code",
      "execution_count": null,
      "metadata": {
        "id": "ywzuvQaknzh8",
        "outputId": "af8807cd-8da8-4b7f-917c-3c4b930d18f2",
        "colab": {
          "base_uri": "https://localhost:8080/",
          "height": 34
        }
      },
      "outputs": [
        {
          "output_type": "display_data",
          "data": {
            "text/plain": [
              "<IPython.core.display.HTML object>"
            ],
            "text/html": [
              "\n",
              "  <style>\n",
              "    pre {\n",
              "        white-space: pre-wrap;\n",
              "    }\n",
              "  </style>\n",
              "  "
            ]
          },
          "metadata": {}
        },
        {
          "output_type": "stream",
          "name": "stdout",
          "text": [
            "(44865, 4)\n"
          ]
        }
      ],
      "source": [
        "print(df.shape)\n"
      ]
    },
    {
      "cell_type": "markdown",
      "source": [
        "As the poems were not well-encoded we have to substitude the bad encoding to an apostrophe (also some other characters), and expand the contractions."
      ],
      "metadata": {
        "id": "IjGBlxUFpolE"
      }
    },
    {
      "cell_type": "code",
      "execution_count": null,
      "metadata": {
        "id": "VOb6gm2Rnzh9",
        "colab": {
          "base_uri": "https://localhost:8080/",
          "height": 17
        },
        "outputId": "dd7e0805-734c-477b-d86d-2a50e927f045"
      },
      "outputs": [
        {
          "output_type": "display_data",
          "data": {
            "text/plain": [
              "<IPython.core.display.HTML object>"
            ],
            "text/html": [
              "\n",
              "  <style>\n",
              "    pre {\n",
              "        white-space: pre-wrap;\n",
              "    }\n",
              "  </style>\n",
              "  "
            ]
          },
          "metadata": {}
        }
      ],
      "source": [
        "# Pre-compile the patterns for efficiency\n",
        "url_pattern = re.compile(r'https://\\S+|www\\.\\S+')\n",
        "\n",
        "chars_to_replace_by_apostrophe = re.compile(r'ÃƒÂ¢Ã¢â€šÂ¬Ã¢â€žÂ¢|Ã¢â‚¬â„¢')\n",
        "chars_to_replace_by_a = re.compile(r'&aacute')\n",
        "\n",
        "unwanted_chars_pattern = re.compile(r'Ã¢â‚¬Å|Ã¢â‚¬â„¢|Ã¢â‚¬â€|â‚¬Âº|ÃƒÂ¢Ã¢â€šÂ¬Ã|Ã|¬|¢|š|€||âº|â|Âº|Ã¢|Ãƒâ€|¬ÂºÃƒâ€¦Ã¢â|¬|Å|¾|Âº|Ã¢|Âº|Ã¢â‚¬ÂºÃƒâ€')\n",
        "\n",
        "def wrangle_text(text):\n",
        "\n",
        "    # Decode HTML entities\n",
        "    text = html.unescape(text)\n",
        "\n",
        "    # Remove HTML tags\n",
        "    text = BeautifulSoup(text, \"lxml\").text\n",
        "\n",
        "    # Replace by apostrophe\n",
        "    text = chars_to_replace_by_apostrophe.sub(\"'\", text)\n",
        "\n",
        "    # Replace by a\n",
        "    text = chars_to_replace_by_a.sub('á', text)\n",
        "\n",
        "    # Fix specific character issues in one go\n",
        "\n",
        "    text = unwanted_chars_pattern.sub(' ', text)\n",
        "\n",
        "    # Expand contractions once, after all substitutions\n",
        "    text = contractions.fix(text)\n",
        "\n",
        "    return text"
      ]
    },
    {
      "cell_type": "code",
      "execution_count": null,
      "metadata": {
        "id": "UaIehzrCnzh-",
        "outputId": "3b972bfd-3294-4e9b-b771-9e084e70d05e",
        "colab": {
          "base_uri": "https://localhost:8080/",
          "height": 260
        }
      },
      "outputs": [
        {
          "output_type": "display_data",
          "data": {
            "text/plain": [
              "<IPython.core.display.HTML object>"
            ],
            "text/html": [
              "\n",
              "  <style>\n",
              "    pre {\n",
              "        white-space: pre-wrap;\n",
              "    }\n",
              "  </style>\n",
              "  "
            ]
          },
          "metadata": {}
        },
        {
          "output_type": "stream",
          "name": "stdout",
          "text": [
            "\n",
            "============= First poem in corpus =============\n",
            "I want to believe IÃ¢â‚¬â„¢m on my last life. What is nirvana if not a kind of death? In a past life, a stranger asked the Buddha for his children. The Buddha offered him his eyes. Then, pulling the children, screaming, from the shivering rice barrels, he gave them away. Did the children ever forgive him? Did they have to because he was the Buddha? I stay awake, listening to my brotherÃ¢â‚¬â„¢s breath as he sleeps in my corridor. A 6 am flight, a half-hug in the parking lot. I want one more life. This is the problem with reincarnation: you donÃ¢â‚¬â„¢t know if what youÃ¢â‚¬â„¢ve lost is lost forever. Unless, I guess, youÃ¢â‚¬â„¢re the Buddha. His children escaped, by the way. Hid from their possessor in the cane grass, the silk reeds, and wove their way back home. I think they hugged their mother. I think the Buddha demanded understanding. I had to, he likely said. I wonder who they became in their next life. I wonder if the siblings stayed together, across this ever-shortening thread, never striving for nirvana because to achieve it would mean a kind of forsaking. And they learnedÃ¢â‚¬â€ learned too young that fathers arenÃ¢â‚¬â„¢t to be trusted. In each life, the same karmic cycle. Silk reeds become waves become veranda floors. Then: the learned leaving. My brother and I are always looking for the ones left behind, even as weÃ¢â‚¬â„¢re leaving. DonÃ¢â‚¬â„¢t worry. The Buddha is not the forgiving kind. We donÃ¢â‚¬â„¢t care to be forgiven.\n",
            "\n",
            "============= After wrangling result =============\n",
            "I want to believe I am on my last life. What is nirvana if not a kind of death? In a past life, a stranger asked the Buddha for his children. The Buddha offered him his eyes. Then, pulling the children, screaming, from the shivering rice barrels, he gave them away. Did the children ever forgive him? Did they have to because he was the Buddha? I stay awake, listening to my brother's breath as he sleeps in my corridor. A 6 am flight, a half-hug in the parking lot. I want one more life. This is the problem with reincarnation: you do not know if what you have lost is lost forever. Unless, I guess, you are the Buddha. His children escaped, by the way. Hid from their possessor in the cane grass, the silk reeds, and wove their way back home. I think they hugged their mother. I think the Buddha demanded understanding. I had to, he likely said. I wonder who they became in their next life. I wonder if the siblings stayed together, across this ever-shortening thread, never striving for nirvana because to achieve it would mean a kind of forsaking. And they learned  learned too young that fathers are not to be trusted. In each life, the same karmic cycle. Silk reeds become waves become veranda floors. Then: the learned leaving. My brother and I are always looking for the ones left behind, even as we are leaving. Do not worry. The Buddha is not the forgiving kind. We do not care to be forgiven.\n"
          ]
        }
      ],
      "source": [
        "poem = df['poem'].iloc[84] # This is the 84th poem\n",
        "wrangled_poem = wrangle_text(poem)\n",
        "print(colored('\\n============= First poem in corpus =============', 'blue'))\n",
        "print(poem)\n",
        "print(colored('\\n============= After wrangling result =============', 'green'))\n",
        "print(wrangled_poem)"
      ]
    },
    {
      "cell_type": "markdown",
      "source": [
        "Now we are going to tokenize the poems by words and by sentences"
      ],
      "metadata": {
        "id": "BAdJNjqFqRh6"
      }
    },
    {
      "cell_type": "code",
      "execution_count": null,
      "metadata": {
        "id": "93dwxW90nzh-",
        "outputId": "006f2bf5-72c9-4fbb-8fa1-8789fcee2309",
        "colab": {
          "base_uri": "https://localhost:8080/",
          "height": 434
        }
      },
      "outputs": [
        {
          "output_type": "display_data",
          "data": {
            "text/plain": [
              "<IPython.core.display.HTML object>"
            ],
            "text/html": [
              "\n",
              "  <style>\n",
              "    pre {\n",
              "        white-space: pre-wrap;\n",
              "    }\n",
              "  </style>\n",
              "  "
            ]
          },
          "metadata": {}
        },
        {
          "output_type": "stream",
          "name": "stdout",
          "text": [
            "\n",
            "============= First poem in data =============\n",
            "I want to believe I am on my last life. What is nirvana if not a kind of death? In a past life, a stranger asked the Buddha for his children. The Buddha offered him his eyes. Then, pulling the children, screaming, from the shivering rice barrels, he gave them away. Did the children ever forgive him? Did they have to because he was the Buddha? I stay awake, listening to my brother's breath as he sleeps in my corridor. A 6 am flight, a half-hug in the parking lot. I want one more life. This is the problem with reincarnation: you do not know if what you have lost is lost forever. Unless, I guess, you are the Buddha. His children escaped, by the way. Hid from their possessor in the cane grass, the silk reeds, and wove their way back home. I think they hugged their mother. I think the Buddha demanded understanding. I had to, he likely said. I wonder who they became in their next life. I wonder if the siblings stayed together, across this ever-shortening thread, never striving for nirvana because to achieve it would mean a kind of forsaking. And they learned  learned too young that fathers are not to be trusted. In each life, the same karmic cycle. Silk reeds become waves become veranda floors. Then: the learned leaving. My brother and I are always looking for the ones left behind, even as we are leaving. Do not worry. The Buddha is not the forgiving kind. We do not care to be forgiven.\n",
            "\n",
            "============= First poem (tokens) =============\n",
            "['I', 'want', 'to', 'believe', 'I', 'am', 'on', 'my', 'last', 'life', '.', 'What', 'is', 'nirvana', 'if', 'not', 'a', 'kind', 'of', 'death', '?', 'In', 'a', 'past', 'life', ',', 'a', 'stranger', 'asked', 'the', 'Buddha', 'for', 'his', 'children', '.', 'The', 'Buddha', 'offered', 'him', 'his', 'eyes', '.', 'Then', ',', 'pulling', 'the', 'children', ',', 'screaming', ',', 'from', 'the', 'shivering', 'rice', 'barrels', ',', 'he', 'gave', 'them', 'away', '.', 'Did', 'the', 'children', 'ever', 'forgive', 'him', '?', 'Did', 'they', 'have', 'to', 'because', 'he', 'was', 'the', 'Buddha', '?', 'I', 'stay', 'awake', ',', 'listening', 'to', 'my', 'brother', \"'\", 's', 'breath', 'as', 'he', 'sleeps', 'in', 'my', 'corridor', '.', 'A', '6', 'am', 'flight', ',', 'a', 'half', '-', 'hug', 'in', 'the', 'parking', 'lot', '.', 'I', 'want', 'one', 'more', 'life', '.', 'This', 'is', 'the', 'problem', 'with', 'reincarnation', ':', 'you', 'do', 'not', 'know', 'if', 'what', 'you', 'have', 'lost', 'is', 'lost', 'forever', '.', 'Unless', ',', 'I', 'guess', ',', 'you', 'are', 'the', 'Buddha', '.', 'His', 'children', 'escaped', ',', 'by', 'the', 'way', '.', 'Hid', 'from', 'their', 'possessor', 'in', 'the', 'cane', 'grass', ',', 'the', 'silk', 'reeds', ',', 'and', 'wove', 'their', 'way', 'back', 'home', '.', 'I', 'think', 'they', 'hugged', 'their', 'mother', '.', 'I', 'think', 'the', 'Buddha', 'demanded', 'understanding', '.', 'I', 'had', 'to', ',', 'he', 'likely', 'said', '.', 'I', 'wonder', 'who', 'they', 'became', 'in', 'their', 'next', 'life', '.', 'I', 'wonder', 'if', 'the', 'siblings', 'stayed', 'together', ',', 'across', 'this', 'ever', '-', 'shortening', 'thread', ',', 'never', 'striving', 'for', 'nirvana', 'because', 'to', 'achieve', 'it', 'would', 'mean', 'a', 'kind', 'of', 'forsaking', '.', 'And', 'they', 'learned', 'learned', 'too', 'young', 'that', 'fathers', 'are', 'not', 'to', 'be', 'trusted', '.', 'In', 'each', 'life', ',', 'the', 'same', 'karmic', 'cycle', '.', 'Silk', 'reeds', 'become', 'waves', 'become', 'veranda', 'floors', '.', 'Then', ':', 'the', 'learned', 'leaving', '.', 'My', 'brother', 'and', 'I', 'are', 'always', 'looking', 'for', 'the', 'ones', 'left', 'behind', ',', 'even', 'as', 'we', 'are', 'leaving', '.', 'Do', 'not', 'worry', '.', 'The', 'Buddha', 'is', 'not', 'the', 'forgiving', 'kind', '.', 'We', 'do', 'not', 'care', 'to', 'be', 'forgiven', '.']\n",
            "\n",
            "============= First poem (tokens sent level) =============\n",
            "['I want to believe I am on my last life.', 'What is nirvana if not a kind of death?', 'In a past life, a stranger asked the Buddha for his children.', 'The Buddha offered him his eyes.', 'Then, pulling the children, screaming, from the shivering rice barrels, he gave them away.', 'Did the children ever forgive him?', 'Did they have to because he was the Buddha?', \"I stay awake, listening to my brother's breath as he sleeps in my corridor.\", 'A 6 am flight, a half-hug in the parking lot.', 'I want one more life.', 'This is the problem with reincarnation: you do not know if what you have lost is lost forever.', 'Unless, I guess, you are the Buddha.', 'His children escaped, by the way.', 'Hid from their possessor in the cane grass, the silk reeds, and wove their way back home.', 'I think they hugged their mother.', 'I think the Buddha demanded understanding.', 'I had to, he likely said.', 'I wonder who they became in their next life.', 'I wonder if the siblings stayed together, across this ever-shortening thread, never striving for nirvana because to achieve it would mean a kind of forsaking.', 'And they learned  learned too young that fathers are not to be trusted.', 'In each life, the same karmic cycle.', 'Silk reeds become waves become veranda floors.', 'Then: the learned leaving.', 'My brother and I are always looking for the ones left behind, even as we are leaving.', 'Do not worry.', 'The Buddha is not the forgiving kind.', 'We do not care to be forgiven.']\n"
          ]
        }
      ],
      "source": [
        "from nltk.tokenize import wordpunct_tokenize\n",
        "from nltk.tokenize import sent_tokenize\n",
        "\n",
        "\n",
        "print(colored('\\n============= First poem in data =============', 'blue'))\n",
        "print(wrangled_poem)\n",
        "\n",
        "# Tokenize the review\n",
        "poem_tokens = wordpunct_tokenize(wrangled_poem)\n",
        "# Tokenize the review at the sentence level\n",
        "poem_tokens_sent = sent_tokenize(wrangled_poem)\n",
        "\n",
        "print(colored('\\n============= First poem (tokens) =============', 'green'))\n",
        "print(poem_tokens)\n",
        "\n",
        "print(colored('\\n============= First poem (tokens sent level) =============', 'red'))\n",
        "print(poem_tokens_sent)"
      ]
    },
    {
      "cell_type": "markdown",
      "metadata": {
        "id": "6yptYRNZnzh_"
      },
      "source": [
        "### Converting into lower case & removing non alphanumeric:"
      ]
    },
    {
      "cell_type": "code",
      "execution_count": null,
      "metadata": {
        "id": "37Kc2Ru_nziA",
        "outputId": "d4584836-d48a-4e30-c2ff-8353b98209a3",
        "colab": {
          "base_uri": "https://localhost:8080/",
          "height": 347
        }
      },
      "outputs": [
        {
          "output_type": "display_data",
          "data": {
            "text/plain": [
              "<IPython.core.display.HTML object>"
            ],
            "text/html": [
              "\n",
              "  <style>\n",
              "    pre {\n",
              "        white-space: pre-wrap;\n",
              "    }\n",
              "  </style>\n",
              "  "
            ]
          },
          "metadata": {}
        },
        {
          "output_type": "stream",
          "name": "stdout",
          "text": [
            "\n",
            "============= First poem (tokens) =============\n",
            "['I', 'want', 'to', 'believe', 'I', 'am', 'on', 'my', 'last', 'life', '.', 'What', 'is', 'nirvana', 'if', 'not', 'a', 'kind', 'of', 'death', '?', 'In', 'a', 'past', 'life', ',', 'a', 'stranger', 'asked', 'the', 'Buddha', 'for', 'his', 'children', '.', 'The', 'Buddha', 'offered', 'him', 'his', 'eyes', '.', 'Then', ',', 'pulling', 'the', 'children', ',', 'screaming', ',', 'from', 'the', 'shivering', 'rice', 'barrels', ',', 'he', 'gave', 'them', 'away', '.', 'Did', 'the', 'children', 'ever', 'forgive', 'him', '?', 'Did', 'they', 'have', 'to', 'because', 'he', 'was', 'the', 'Buddha', '?', 'I', 'stay', 'awake', ',', 'listening', 'to', 'my', 'brother', \"'\", 's', 'breath', 'as', 'he', 'sleeps', 'in', 'my', 'corridor', '.', 'A', '6', 'am', 'flight', ',', 'a', 'half', '-', 'hug', 'in', 'the', 'parking', 'lot', '.', 'I', 'want', 'one', 'more', 'life', '.', 'This', 'is', 'the', 'problem', 'with', 'reincarnation', ':', 'you', 'do', 'not', 'know', 'if', 'what', 'you', 'have', 'lost', 'is', 'lost', 'forever', '.', 'Unless', ',', 'I', 'guess', ',', 'you', 'are', 'the', 'Buddha', '.', 'His', 'children', 'escaped', ',', 'by', 'the', 'way', '.', 'Hid', 'from', 'their', 'possessor', 'in', 'the', 'cane', 'grass', ',', 'the', 'silk', 'reeds', ',', 'and', 'wove', 'their', 'way', 'back', 'home', '.', 'I', 'think', 'they', 'hugged', 'their', 'mother', '.', 'I', 'think', 'the', 'Buddha', 'demanded', 'understanding', '.', 'I', 'had', 'to', ',', 'he', 'likely', 'said', '.', 'I', 'wonder', 'who', 'they', 'became', 'in', 'their', 'next', 'life', '.', 'I', 'wonder', 'if', 'the', 'siblings', 'stayed', 'together', ',', 'across', 'this', 'ever', '-', 'shortening', 'thread', ',', 'never', 'striving', 'for', 'nirvana', 'because', 'to', 'achieve', 'it', 'would', 'mean', 'a', 'kind', 'of', 'forsaking', '.', 'And', 'they', 'learned', 'learned', 'too', 'young', 'that', 'fathers', 'are', 'not', 'to', 'be', 'trusted', '.', 'In', 'each', 'life', ',', 'the', 'same', 'karmic', 'cycle', '.', 'Silk', 'reeds', 'become', 'waves', 'become', 'veranda', 'floors', '.', 'Then', ':', 'the', 'learned', 'leaving', '.', 'My', 'brother', 'and', 'I', 'are', 'always', 'looking', 'for', 'the', 'ones', 'left', 'behind', ',', 'even', 'as', 'we', 'are', 'leaving', '.', 'Do', 'not', 'worry', '.', 'The', 'Buddha', 'is', 'not', 'the', 'forgiving', 'kind', '.', 'We', 'do', 'not', 'care', 'to', 'be', 'forgiven', '.']\n",
            "\n",
            "============= First poem (tokens filtered) =============\n",
            "['i', 'want', 'to', 'believe', 'i', 'am', 'on', 'my', 'last', 'life', 'what', 'is', 'nirvana', 'if', 'not', 'a', 'kind', 'of', 'death', 'in', 'a', 'past', 'life', 'a', 'stranger', 'asked', 'the', 'buddha', 'for', 'his', 'children', 'the', 'buddha', 'offered', 'him', 'his', 'eyes', 'then', 'pulling', 'the', 'children', 'screaming', 'from', 'the', 'shivering', 'rice', 'barrels', 'he', 'gave', 'them', 'away', 'did', 'the', 'children', 'ever', 'forgive', 'him', 'did', 'they', 'have', 'to', 'because', 'he', 'was', 'the', 'buddha', 'i', 'stay', 'awake', 'listening', 'to', 'my', 'brother', 's', 'breath', 'as', 'he', 'sleeps', 'in', 'my', 'corridor', 'a', '6', 'am', 'flight', 'a', 'half', 'hug', 'in', 'the', 'parking', 'lot', 'i', 'want', 'one', 'more', 'life', 'this', 'is', 'the', 'problem', 'with', 'reincarnation', 'you', 'do', 'not', 'know', 'if', 'what', 'you', 'have', 'lost', 'is', 'lost', 'forever', 'unless', 'i', 'guess', 'you', 'are', 'the', 'buddha', 'his', 'children', 'escaped', 'by', 'the', 'way', 'hid', 'from', 'their', 'possessor', 'in', 'the', 'cane', 'grass', 'the', 'silk', 'reeds', 'and', 'wove', 'their', 'way', 'back', 'home', 'i', 'think', 'they', 'hugged', 'their', 'mother', 'i', 'think', 'the', 'buddha', 'demanded', 'understanding', 'i', 'had', 'to', 'he', 'likely', 'said', 'i', 'wonder', 'who', 'they', 'became', 'in', 'their', 'next', 'life', 'i', 'wonder', 'if', 'the', 'siblings', 'stayed', 'together', 'across', 'this', 'ever', 'shortening', 'thread', 'never', 'striving', 'for', 'nirvana', 'because', 'to', 'achieve', 'it', 'would', 'mean', 'a', 'kind', 'of', 'forsaking', 'and', 'they', 'learned', 'learned', 'too', 'young', 'that', 'fathers', 'are', 'not', 'to', 'be', 'trusted', 'in', 'each', 'life', 'the', 'same', 'karmic', 'cycle', 'silk', 'reeds', 'become', 'waves', 'become', 'veranda', 'floors', 'then', 'the', 'learned', 'leaving', 'my', 'brother', 'and', 'i', 'are', 'always', 'looking', 'for', 'the', 'ones', 'left', 'behind', 'even', 'as', 'we', 'are', 'leaving', 'do', 'not', 'worry', 'the', 'buddha', 'is', 'not', 'the', 'forgiving', 'kind', 'we', 'do', 'not', 'care', 'to', 'be', 'forgiven']\n"
          ]
        }
      ],
      "source": [
        "poem_tokens_filtered = [token.lower() for token in poem_tokens if token.isalnum()]\n",
        "\n",
        "# The isalnum() method returns True if all characters in the string are\n",
        "# alphanumeric (either alphabets or numbers). If not, it returns False.\n",
        "\n",
        "print(colored('\\n============= First poem (tokens) =============', 'blue'))\n",
        "print(poem_tokens)\n",
        "\n",
        "print(colored('\\n============= First poem (tokens filtered) =============', 'green'))\n",
        "print(poem_tokens_filtered)"
      ]
    },
    {
      "cell_type": "markdown",
      "source": [
        "Now we use stemming or lemmatization."
      ],
      "metadata": {
        "id": "wyb-x_qBqhlv"
      }
    },
    {
      "cell_type": "code",
      "execution_count": null,
      "metadata": {
        "id": "5H9OUMMTnziA",
        "outputId": "8f02ff18-e975-439a-c8a6-a08fae376905",
        "colab": {
          "base_uri": "https://localhost:8080/",
          "height": 329
        }
      },
      "outputs": [
        {
          "output_type": "display_data",
          "data": {
            "text/plain": [
              "<IPython.core.display.HTML object>"
            ],
            "text/html": [
              "\n",
              "  <style>\n",
              "    pre {\n",
              "        white-space: pre-wrap;\n",
              "    }\n",
              "  </style>\n",
              "  "
            ]
          },
          "metadata": {}
        },
        {
          "output_type": "stream",
          "name": "stdout",
          "text": [
            "\n",
            "============= Stemmed review  =============\n",
            "['i', 'want', 'to', 'believ', 'i', 'am', 'on', 'my', 'last', 'life', 'what', 'is', 'nirvana', 'if', 'not', 'a', 'kind', 'of', 'death', 'in', 'a', 'past', 'life', 'a', 'stranger', 'ask', 'the', 'buddha', 'for', 'his', 'children', 'the', 'buddha', 'offer', 'him', 'his', 'eye', 'then', 'pull', 'the', 'children', 'scream', 'from', 'the', 'shiver', 'rice', 'barrel', 'he', 'gave', 'them', 'away', 'did', 'the', 'children', 'ever', 'forgiv', 'him', 'did', 'they', 'have', 'to', 'becaus', 'he', 'was', 'the', 'buddha', 'i', 'stay', 'awak', 'listen', 'to', 'my', 'brother', 's', 'breath', 'as', 'he', 'sleep', 'in', 'my', 'corridor', 'a', '6', 'am', 'flight', 'a', 'half', 'hug', 'in', 'the', 'park', 'lot', 'i', 'want', 'one', 'more', 'life', 'this', 'is', 'the', 'problem', 'with', 'reincarn', 'you', 'do', 'not', 'know', 'if', 'what', 'you', 'have', 'lost', 'is', 'lost', 'forev', 'unless', 'i', 'guess', 'you', 'are', 'the', 'buddha', 'his', 'children', 'escap', 'by', 'the', 'way', 'hid', 'from', 'their', 'possessor', 'in', 'the', 'cane', 'grass', 'the', 'silk', 'reed', 'and', 'wove', 'their', 'way', 'back', 'home', 'i', 'think', 'they', 'hug', 'their', 'mother', 'i', 'think', 'the', 'buddha', 'demand', 'understand', 'i', 'had', 'to', 'he', 'like', 'said', 'i', 'wonder', 'who', 'they', 'becam', 'in', 'their', 'next', 'life', 'i', 'wonder', 'if', 'the', 'sibl', 'stay', 'togeth', 'across', 'this', 'ever', 'shorten', 'thread', 'never', 'strive', 'for', 'nirvana', 'becaus', 'to', 'achiev', 'it', 'would', 'mean', 'a', 'kind', 'of', 'forsak', 'and', 'they', 'learn', 'learn', 'too', 'young', 'that', 'father', 'are', 'not', 'to', 'be', 'trust', 'in', 'each', 'life', 'the', 'same', 'karmic', 'cycl', 'silk', 'reed', 'becom', 'wave', 'becom', 'veranda', 'floor', 'then', 'the', 'learn', 'leav', 'my', 'brother', 'and', 'i', 'are', 'alway', 'look', 'for', 'the', 'one', 'left', 'behind', 'even', 'as', 'we', 'are', 'leav', 'do', 'not', 'worri', 'the', 'buddha', 'is', 'not', 'the', 'forgiv', 'kind', 'we', 'do', 'not', 'care', 'to', 'be', 'forgiven']\n",
            "\n",
            "============= Lemmatized review  =============\n",
            "['i', 'want', 'to', 'believe', 'i', 'am', 'on', 'my', 'last', 'life', 'what', 'is', 'nirvana', 'if', 'not', 'a', 'kind', 'of', 'death', 'in', 'a', 'past', 'life', 'a', 'stranger', 'asked', 'the', 'buddha', 'for', 'his', 'child', 'the', 'buddha', 'offered', 'him', 'his', 'eye', 'then', 'pulling', 'the', 'child', 'screaming', 'from', 'the', 'shivering', 'rice', 'barrel', 'he', 'gave', 'them', 'away', 'did', 'the', 'child', 'ever', 'forgive', 'him', 'did', 'they', 'have', 'to', 'because', 'he', 'wa', 'the', 'buddha', 'i', 'stay', 'awake', 'listening', 'to', 'my', 'brother', 's', 'breath', 'a', 'he', 'sleep', 'in', 'my', 'corridor', 'a', '6', 'am', 'flight', 'a', 'half', 'hug', 'in', 'the', 'parking', 'lot', 'i', 'want', 'one', 'more', 'life', 'this', 'is', 'the', 'problem', 'with', 'reincarnation', 'you', 'do', 'not', 'know', 'if', 'what', 'you', 'have', 'lost', 'is', 'lost', 'forever', 'unless', 'i', 'guess', 'you', 'are', 'the', 'buddha', 'his', 'child', 'escaped', 'by', 'the', 'way', 'hid', 'from', 'their', 'possessor', 'in', 'the', 'cane', 'grass', 'the', 'silk', 'reed', 'and', 'wove', 'their', 'way', 'back', 'home', 'i', 'think', 'they', 'hugged', 'their', 'mother', 'i', 'think', 'the', 'buddha', 'demanded', 'understanding', 'i', 'had', 'to', 'he', 'likely', 'said', 'i', 'wonder', 'who', 'they', 'became', 'in', 'their', 'next', 'life', 'i', 'wonder', 'if', 'the', 'sibling', 'stayed', 'together', 'across', 'this', 'ever', 'shortening', 'thread', 'never', 'striving', 'for', 'nirvana', 'because', 'to', 'achieve', 'it', 'would', 'mean', 'a', 'kind', 'of', 'forsaking', 'and', 'they', 'learned', 'learned', 'too', 'young', 'that', 'father', 'are', 'not', 'to', 'be', 'trusted', 'in', 'each', 'life', 'the', 'same', 'karmic', 'cycle', 'silk', 'reed', 'become', 'wave', 'become', 'veranda', 'floor', 'then', 'the', 'learned', 'leaving', 'my', 'brother', 'and', 'i', 'are', 'always', 'looking', 'for', 'the', 'one', 'left', 'behind', 'even', 'a', 'we', 'are', 'leaving', 'do', 'not', 'worry', 'the', 'buddha', 'is', 'not', 'the', 'forgiving', 'kind', 'we', 'do', 'not', 'care', 'to', 'be', 'forgiven']\n"
          ]
        }
      ],
      "source": [
        "stemmer = SnowballStemmer('english')\n",
        "wnl = WordNetLemmatizer()\n",
        "\n",
        "stemmed_poem = [stemmer.stem(el) for el in poem_tokens_filtered]\n",
        "print(colored('\\n============= Stemmed review  =============', 'blue'))\n",
        "print(stemmed_poem)\n",
        "\n",
        "lemmatized_poem = [wnl.lemmatize(el) for el in poem_tokens_filtered]\n",
        "print(colored('\\n============= Lemmatized review  =============', 'blue'))\n",
        "print(lemmatized_poem)\n",
        "\n",
        "# The difference between both is that the lemmatization process is more complex\n",
        "# and it involves resolving words to their base or root form.\n",
        "\n",
        "# Lemmatization: Lemmatization is the process of converting a word to its base form.\n",
        "# Stemming: Stemming is the process of reducing a word to its root form.\n",
        "\n",
        "# For example:\n",
        "# Lemmatization: The word \"better\" is converted to \"good\".\n",
        "# Stemming: The word \"better\" is converted to \"bet\"."
      ]
    },
    {
      "cell_type": "markdown",
      "metadata": {
        "id": "ygC6xIhvnziB"
      },
      "source": [
        "# Preprocessing of the whole dataset"
      ]
    },
    {
      "cell_type": "markdown",
      "source": [
        "Now we have added a stage where we remove stopwords"
      ],
      "metadata": {
        "id": "hCsrOcQasKqD"
      }
    },
    {
      "cell_type": "code",
      "execution_count": null,
      "metadata": {
        "id": "2u6BPvWInziB",
        "colab": {
          "base_uri": "https://localhost:8080/",
          "height": 17
        },
        "outputId": "7c24facf-169d-417e-c1e5-ff805ae11bdd"
      },
      "outputs": [
        {
          "output_type": "display_data",
          "data": {
            "text/plain": [
              "<IPython.core.display.HTML object>"
            ],
            "text/html": [
              "\n",
              "  <style>\n",
              "    pre {\n",
              "        white-space: pre-wrap;\n",
              "    }\n",
              "  </style>\n",
              "  "
            ]
          },
          "metadata": {}
        }
      ],
      "source": [
        "import numpy as np\n",
        "\n",
        "df = pd.read_csv('english_df.csv', encoding='utf-8')\n",
        "\n",
        "# Drop rows with missing values in the 'poem' column\n",
        "df = df.dropna(subset=['poem'])"
      ]
    },
    {
      "cell_type": "code",
      "execution_count": null,
      "metadata": {
        "id": "Rz_-d3VknziC",
        "outputId": "f81759dc-1384-4746-85c4-b73ae4f73b57",
        "colab": {
          "base_uri": "https://localhost:8080/",
          "height": 34
        }
      },
      "outputs": [
        {
          "output_type": "display_data",
          "data": {
            "text/plain": [
              "<IPython.core.display.HTML object>"
            ],
            "text/html": [
              "\n",
              "  <style>\n",
              "    pre {\n",
              "        white-space: pre-wrap;\n",
              "    }\n",
              "  </style>\n",
              "  "
            ]
          },
          "metadata": {}
        },
        {
          "output_type": "stream",
          "name": "stdout",
          "text": [
            "(44865, 4)\n"
          ]
        }
      ],
      "source": [
        "print(df.shape)"
      ]
    },
    {
      "cell_type": "code",
      "execution_count": null,
      "metadata": {
        "id": "6RD9YaG5nziC",
        "outputId": "0d366fd4-fd03-4411-eaf5-92a115523f7b",
        "colab": {
          "base_uri": "https://localhost:8080/",
          "height": 52
        }
      },
      "outputs": [
        {
          "output_type": "display_data",
          "data": {
            "text/plain": [
              "<IPython.core.display.HTML object>"
            ],
            "text/html": [
              "\n",
              "  <style>\n",
              "    pre {\n",
              "        white-space: pre-wrap;\n",
              "    }\n",
              "  </style>\n",
              "  "
            ]
          },
          "metadata": {}
        },
        {
          "output_type": "stream",
          "name": "stderr",
          "text": [
            "<ipython-input-18-eb8965b45236>:15: MarkupResemblesLocatorWarning: The input looks more like a filename than markup. You may want to open this file and pass the filehandle into Beautiful Soup.\n",
            "  text = BeautifulSoup(text, \"lxml\").text\n"
          ]
        }
      ],
      "source": [
        "df2 = df.copy()\n",
        "df2['poem'] = df['poem'].apply(lambda x: wrangle_text(x))"
      ]
    },
    {
      "cell_type": "code",
      "execution_count": null,
      "metadata": {
        "id": "EhzhdzIgnziD",
        "colab": {
          "base_uri": "https://localhost:8080/",
          "height": 17
        },
        "outputId": "119cb37b-e691-415e-88eb-7ca003337228"
      },
      "outputs": [
        {
          "output_type": "display_data",
          "data": {
            "text/plain": [
              "<IPython.core.display.HTML object>"
            ],
            "text/html": [
              "\n",
              "  <style>\n",
              "    pre {\n",
              "        white-space: pre-wrap;\n",
              "    }\n",
              "  </style>\n",
              "  "
            ]
          },
          "metadata": {}
        }
      ],
      "source": [
        "df2.to_csv('data_wrangled.csv',encoding='latin-1', errors='ignore', index=False) # CAREFUL, you can overwrite your previous dataset, UPDATE the name when used"
      ]
    },
    {
      "cell_type": "code",
      "execution_count": null,
      "metadata": {
        "id": "SLxBQTZZnziD",
        "colab": {
          "base_uri": "https://localhost:8080/",
          "height": 17
        },
        "outputId": "d0158613-3580-4cf9-a086-cee43ba18430"
      },
      "outputs": [
        {
          "output_type": "display_data",
          "data": {
            "text/plain": [
              "<IPython.core.display.HTML object>"
            ],
            "text/html": [
              "\n",
              "  <style>\n",
              "    pre {\n",
              "        white-space: pre-wrap;\n",
              "    }\n",
              "  </style>\n",
              "  "
            ]
          },
          "metadata": {}
        }
      ],
      "source": [
        "from nltk.corpus import stopwords\n",
        "# Initialize NLTK resources\n",
        "stopwords_en = set(stopwords.words('english'))\n",
        "wnl = WordNetLemmatizer()\n",
        "\n",
        "\n",
        "def prepare_data(text, tool='lemmatize'):\n",
        "\n",
        "    # Decode HTML entities\n",
        "    text = html.unescape(text)\n",
        "\n",
        "    # Wrangle text\n",
        "    text = wrangle_text(text)\n",
        "\n",
        "    # Tokenize text\n",
        "    tokens = wordpunct_tokenize(text)\n",
        "\n",
        "    # Filter tokens\n",
        "    tokens_filtered = [token.lower() for token in tokens if token.isalnum()]\n",
        "\n",
        "    if tool == 'stem':\n",
        "        # Stem tokens\n",
        "        tokens_filtered = [stemmer.stem(el) for el in tokens_filtered]\n",
        "    elif tool == 'lemmatize':\n",
        "        # Lemmatize tokens\n",
        "        tokens_filtered = [wnl.lemmatize(el) for el in tokens_filtered]\n",
        "    else:\n",
        "        raise ValueError('Invalid tool. Please select either \"stem\" or \"lemmatize\".')\n",
        "\n",
        "    # Remove stopwords\n",
        "    clean_tokens = [el for el in tokens_filtered if el not in stopwords_en]\n",
        "\n",
        "    return clean_tokens"
      ]
    },
    {
      "cell_type": "markdown",
      "metadata": {
        "id": "A-xARPFqnziF"
      },
      "source": [
        "### Processing of the poems column"
      ]
    },
    {
      "cell_type": "code",
      "execution_count": null,
      "metadata": {
        "id": "cdKcUPpinziF",
        "outputId": "22f8b66d-0527-4443-ce25-be4f072064e2",
        "colab": {
          "base_uri": "https://localhost:8080/",
          "height": 243
        }
      },
      "outputs": [
        {
          "output_type": "display_data",
          "data": {
            "text/plain": [
              "<IPython.core.display.HTML object>"
            ],
            "text/html": [
              "\n",
              "  <style>\n",
              "    pre {\n",
              "        white-space: pre-wrap;\n",
              "    }\n",
              "  </style>\n",
              "  "
            ]
          },
          "metadata": {}
        },
        {
          "output_type": "stream",
          "name": "stdout",
          "text": [
            "\n",
            "============= First review in corpus =============\n",
            "I want to believe I am on my last life. What is nirvana if not a kind of death? In a past life, a stranger asked the Buddha for his children. The Buddha offered him his eyes. Then, pulling the children, screaming, from the shivering rice barrels, he gave them away. Did the children ever forgive him? Did they have to because he was the Buddha? I stay awake, listening to my brother's breath as he sleeps in my corridor. A 6 am flight, a half-hug in the parking lot. I want one more life. This is the problem with reincarnation: you do not know if what you have lost is lost forever. Unless, I guess, you are the Buddha. His children escaped, by the way. Hid from their possessor in the cane grass, the silk reeds, and wove their way back home. I think they hugged their mother. I think the Buddha demanded understanding. I had to, he likely said. I wonder who they became in their next life. I wonder if the siblings stayed together, across this ever-shortening thread, never striving for nirvana because to achieve it would mean a kind of forsaking. And they learned  learned too young that fathers are not to be trusted. In each life, the same karmic cycle. Silk reeds become waves become veranda floors. Then: the learned leaving. My brother and I are always looking for the ones left behind, even as we are leaving. Do not worry. The Buddha is not the forgiving kind. We do not care to be forgiven.\n",
            "\n",
            "============= Clean tokens =============\n",
            "['want', 'believe', 'last', 'life', 'nirvana', 'kind', 'death', 'past', 'life', 'stranger', 'asked', 'buddha', 'child', 'buddha', 'offered', 'eye', 'pulling', 'child', 'screaming', 'shivering', 'rice', 'barrel', 'gave', 'away', 'child', 'ever', 'forgive', 'wa', 'buddha', 'stay', 'awake', 'listening', 'brother', 'breath', 'sleep', 'corridor', '6', 'flight', 'half', 'hug', 'parking', 'lot', 'want', 'one', 'life', 'problem', 'reincarnation', 'know', 'lost', 'lost', 'forever', 'unless', 'guess', 'buddha', 'child', 'escaped', 'way', 'hid', 'possessor', 'cane', 'grass', 'silk', 'reed', 'wove', 'way', 'back', 'home', 'think', 'hugged', 'mother', 'think', 'buddha', 'demanded', 'understanding', 'likely', 'said', 'wonder', 'became', 'next', 'life', 'wonder', 'sibling', 'stayed', 'together', 'across', 'ever', 'shortening', 'thread', 'never', 'striving', 'nirvana', 'achieve', 'would', 'mean', 'kind', 'forsaking', 'learned', 'learned', 'young', 'father', 'trusted', 'life', 'karmic', 'cycle', 'silk', 'reed', 'become', 'wave', 'become', 'veranda', 'floor', 'learned', 'leaving', 'brother', 'always', 'looking', 'one', 'left', 'behind', 'even', 'leaving', 'worry', 'buddha', 'forgiving', 'kind', 'care', 'forgiven']\n"
          ]
        }
      ],
      "source": [
        "# Now lets use the original text and check it:\n",
        "print(colored('\\n============= First review in corpus =============', 'blue'))\n",
        "poem = df2['poem'].iloc[84]\n",
        "print(poem)\n",
        "\n",
        "# Prepare the data\n",
        "clean_tokens = prepare_data(poem, tool = \"lemmatize\")\n",
        "print(colored('\\n============= Clean tokens =============', 'green'))\n",
        "print(clean_tokens)\n"
      ]
    },
    {
      "cell_type": "code",
      "execution_count": null,
      "metadata": {
        "id": "oGOna3WanziG",
        "outputId": "f0638679-b647-48df-876b-7f54ba8a4b0d",
        "colab": {
          "base_uri": "https://localhost:8080/",
          "height": 52
        }
      },
      "outputs": [
        {
          "output_type": "display_data",
          "data": {
            "text/plain": [
              "<IPython.core.display.HTML object>"
            ],
            "text/html": [
              "\n",
              "  <style>\n",
              "    pre {\n",
              "        white-space: pre-wrap;\n",
              "    }\n",
              "  </style>\n",
              "  "
            ]
          },
          "metadata": {}
        },
        {
          "output_type": "stream",
          "name": "stderr",
          "text": [
            "<ipython-input-18-eb8965b45236>:15: MarkupResemblesLocatorWarning: The input looks more like a filename than markup. You may want to open this file and pass the filehandle into Beautiful Soup.\n",
            "  text = BeautifulSoup(text, \"lxml\").text\n"
          ]
        }
      ],
      "source": [
        "# Apply the prepare_data function to clean the poems\n",
        "df2['clean_tokens'] = df2['poem'].apply(lambda x: prepare_data(x, tool='lemmatize'))"
      ]
    },
    {
      "cell_type": "code",
      "source": [
        "df2.head()"
      ],
      "metadata": {
        "id": "K33IPRNyYgEB",
        "outputId": "304ffd0e-0e42-4b8f-cc25-b3d76c66147b",
        "colab": {
          "base_uri": "https://localhost:8080/",
          "height": 206
        }
      },
      "execution_count": null,
      "outputs": [
        {
          "output_type": "display_data",
          "data": {
            "text/plain": [
              "<IPython.core.display.HTML object>"
            ],
            "text/html": [
              "\n",
              "  <style>\n",
              "    pre {\n",
              "        white-space: pre-wrap;\n",
              "    }\n",
              "  </style>\n",
              "  "
            ]
          },
          "metadata": {}
        },
        {
          "output_type": "execute_result",
          "data": {
            "text/plain": [
              "                          title                   author  \\\n",
              "0   The 80&rsquo;s Miracle Diet          By Melvin Dixon   \n",
              "1             All Saints&rsquo;  By Corey Van Landingham   \n",
              "2  And These Are Just a Few ...          By Melvin Dixon   \n",
              "3                          ASMR  By Corey Van Landingham   \n",
              "4                          ASMR  By Corey Van Landingham   \n",
              "\n",
              "                                          categories  \\\n",
              "0                     ['Living', 'Health & Illness']   \n",
              "1                                                 []   \n",
              "2  ['Living', 'Health & Illness', 'Social Comment...   \n",
              "3                                                 []   \n",
              "4                                                 []   \n",
              "\n",
              "                                                poem  \\\n",
              "0  Yours free without the asking Quick delivery v...   \n",
              "1  Caravaggio's face in the sunken pumpkin. Bulbs...   \n",
              "2  This poem is for the epidemic dead and the liv...   \n",
              "3  Why not climb up the mountain of delight? To t...   \n",
              "4  Hello Tonight we will trace the static bough, ...   \n",
              "\n",
              "                                        clean_tokens  \n",
              "0  [free, without, asking, quick, delivery, via, ...  \n",
              "1  [caravaggio, face, sunken, pumpkin, bulb, rott...  \n",
              "2  [poem, epidemic, dead, living, remember, neigh...  \n",
              "3  [climb, mountain, delight, world, thin, meridi...  \n",
              "4  [hello, tonight, trace, static, bough, tempora...  "
            ],
            "text/html": [
              "\n",
              "  <div id=\"df-2d1af95d-7098-4317-849b-e1ff1c50f3a1\" class=\"colab-df-container\">\n",
              "    <div>\n",
              "<style scoped>\n",
              "    .dataframe tbody tr th:only-of-type {\n",
              "        vertical-align: middle;\n",
              "    }\n",
              "\n",
              "    .dataframe tbody tr th {\n",
              "        vertical-align: top;\n",
              "    }\n",
              "\n",
              "    .dataframe thead th {\n",
              "        text-align: right;\n",
              "    }\n",
              "</style>\n",
              "<table border=\"1\" class=\"dataframe\">\n",
              "  <thead>\n",
              "    <tr style=\"text-align: right;\">\n",
              "      <th></th>\n",
              "      <th>title</th>\n",
              "      <th>author</th>\n",
              "      <th>categories</th>\n",
              "      <th>poem</th>\n",
              "      <th>clean_tokens</th>\n",
              "    </tr>\n",
              "  </thead>\n",
              "  <tbody>\n",
              "    <tr>\n",
              "      <th>0</th>\n",
              "      <td>The 80&amp;rsquo;s Miracle Diet</td>\n",
              "      <td>By Melvin Dixon</td>\n",
              "      <td>['Living', 'Health &amp; Illness']</td>\n",
              "      <td>Yours free without the asking Quick delivery v...</td>\n",
              "      <td>[free, without, asking, quick, delivery, via, ...</td>\n",
              "    </tr>\n",
              "    <tr>\n",
              "      <th>1</th>\n",
              "      <td>All Saints&amp;rsquo;</td>\n",
              "      <td>By Corey Van Landingham</td>\n",
              "      <td>[]</td>\n",
              "      <td>Caravaggio's face in the sunken pumpkin. Bulbs...</td>\n",
              "      <td>[caravaggio, face, sunken, pumpkin, bulb, rott...</td>\n",
              "    </tr>\n",
              "    <tr>\n",
              "      <th>2</th>\n",
              "      <td>And These Are Just a Few ...</td>\n",
              "      <td>By Melvin Dixon</td>\n",
              "      <td>['Living', 'Health &amp; Illness', 'Social Comment...</td>\n",
              "      <td>This poem is for the epidemic dead and the liv...</td>\n",
              "      <td>[poem, epidemic, dead, living, remember, neigh...</td>\n",
              "    </tr>\n",
              "    <tr>\n",
              "      <th>3</th>\n",
              "      <td>ASMR</td>\n",
              "      <td>By Corey Van Landingham</td>\n",
              "      <td>[]</td>\n",
              "      <td>Why not climb up the mountain of delight? To t...</td>\n",
              "      <td>[climb, mountain, delight, world, thin, meridi...</td>\n",
              "    </tr>\n",
              "    <tr>\n",
              "      <th>4</th>\n",
              "      <td>ASMR</td>\n",
              "      <td>By Corey Van Landingham</td>\n",
              "      <td>[]</td>\n",
              "      <td>Hello Tonight we will trace the static bough, ...</td>\n",
              "      <td>[hello, tonight, trace, static, bough, tempora...</td>\n",
              "    </tr>\n",
              "  </tbody>\n",
              "</table>\n",
              "</div>\n",
              "    <div class=\"colab-df-buttons\">\n",
              "\n",
              "  <div class=\"colab-df-container\">\n",
              "    <button class=\"colab-df-convert\" onclick=\"convertToInteractive('df-2d1af95d-7098-4317-849b-e1ff1c50f3a1')\"\n",
              "            title=\"Convert this dataframe to an interactive table.\"\n",
              "            style=\"display:none;\">\n",
              "\n",
              "  <svg xmlns=\"http://www.w3.org/2000/svg\" height=\"24px\" viewBox=\"0 -960 960 960\">\n",
              "    <path d=\"M120-120v-720h720v720H120Zm60-500h600v-160H180v160Zm220 220h160v-160H400v160Zm0 220h160v-160H400v160ZM180-400h160v-160H180v160Zm440 0h160v-160H620v160ZM180-180h160v-160H180v160Zm440 0h160v-160H620v160Z\"/>\n",
              "  </svg>\n",
              "    </button>\n",
              "\n",
              "  <style>\n",
              "    .colab-df-container {\n",
              "      display:flex;\n",
              "      gap: 12px;\n",
              "    }\n",
              "\n",
              "    .colab-df-convert {\n",
              "      background-color: #E8F0FE;\n",
              "      border: none;\n",
              "      border-radius: 50%;\n",
              "      cursor: pointer;\n",
              "      display: none;\n",
              "      fill: #1967D2;\n",
              "      height: 32px;\n",
              "      padding: 0 0 0 0;\n",
              "      width: 32px;\n",
              "    }\n",
              "\n",
              "    .colab-df-convert:hover {\n",
              "      background-color: #E2EBFA;\n",
              "      box-shadow: 0px 1px 2px rgba(60, 64, 67, 0.3), 0px 1px 3px 1px rgba(60, 64, 67, 0.15);\n",
              "      fill: #174EA6;\n",
              "    }\n",
              "\n",
              "    .colab-df-buttons div {\n",
              "      margin-bottom: 4px;\n",
              "    }\n",
              "\n",
              "    [theme=dark] .colab-df-convert {\n",
              "      background-color: #3B4455;\n",
              "      fill: #D2E3FC;\n",
              "    }\n",
              "\n",
              "    [theme=dark] .colab-df-convert:hover {\n",
              "      background-color: #434B5C;\n",
              "      box-shadow: 0px 1px 3px 1px rgba(0, 0, 0, 0.15);\n",
              "      filter: drop-shadow(0px 1px 2px rgba(0, 0, 0, 0.3));\n",
              "      fill: #FFFFFF;\n",
              "    }\n",
              "  </style>\n",
              "\n",
              "    <script>\n",
              "      const buttonEl =\n",
              "        document.querySelector('#df-2d1af95d-7098-4317-849b-e1ff1c50f3a1 button.colab-df-convert');\n",
              "      buttonEl.style.display =\n",
              "        google.colab.kernel.accessAllowed ? 'block' : 'none';\n",
              "\n",
              "      async function convertToInteractive(key) {\n",
              "        const element = document.querySelector('#df-2d1af95d-7098-4317-849b-e1ff1c50f3a1');\n",
              "        const dataTable =\n",
              "          await google.colab.kernel.invokeFunction('convertToInteractive',\n",
              "                                                    [key], {});\n",
              "        if (!dataTable) return;\n",
              "\n",
              "        const docLinkHtml = 'Like what you see? Visit the ' +\n",
              "          '<a target=\"_blank\" href=https://colab.research.google.com/notebooks/data_table.ipynb>data table notebook</a>'\n",
              "          + ' to learn more about interactive tables.';\n",
              "        element.innerHTML = '';\n",
              "        dataTable['output_type'] = 'display_data';\n",
              "        await google.colab.output.renderOutput(dataTable, element);\n",
              "        const docLink = document.createElement('div');\n",
              "        docLink.innerHTML = docLinkHtml;\n",
              "        element.appendChild(docLink);\n",
              "      }\n",
              "    </script>\n",
              "  </div>\n",
              "\n",
              "\n",
              "<div id=\"df-e14e14d3-2b04-43ba-8276-c53362ba9e24\">\n",
              "  <button class=\"colab-df-quickchart\" onclick=\"quickchart('df-e14e14d3-2b04-43ba-8276-c53362ba9e24')\"\n",
              "            title=\"Suggest charts\"\n",
              "            style=\"display:none;\">\n",
              "\n",
              "<svg xmlns=\"http://www.w3.org/2000/svg\" height=\"24px\"viewBox=\"0 0 24 24\"\n",
              "     width=\"24px\">\n",
              "    <g>\n",
              "        <path d=\"M19 3H5c-1.1 0-2 .9-2 2v14c0 1.1.9 2 2 2h14c1.1 0 2-.9 2-2V5c0-1.1-.9-2-2-2zM9 17H7v-7h2v7zm4 0h-2V7h2v10zm4 0h-2v-4h2v4z\"/>\n",
              "    </g>\n",
              "</svg>\n",
              "  </button>\n",
              "\n",
              "<style>\n",
              "  .colab-df-quickchart {\n",
              "      --bg-color: #E8F0FE;\n",
              "      --fill-color: #1967D2;\n",
              "      --hover-bg-color: #E2EBFA;\n",
              "      --hover-fill-color: #174EA6;\n",
              "      --disabled-fill-color: #AAA;\n",
              "      --disabled-bg-color: #DDD;\n",
              "  }\n",
              "\n",
              "  [theme=dark] .colab-df-quickchart {\n",
              "      --bg-color: #3B4455;\n",
              "      --fill-color: #D2E3FC;\n",
              "      --hover-bg-color: #434B5C;\n",
              "      --hover-fill-color: #FFFFFF;\n",
              "      --disabled-bg-color: #3B4455;\n",
              "      --disabled-fill-color: #666;\n",
              "  }\n",
              "\n",
              "  .colab-df-quickchart {\n",
              "    background-color: var(--bg-color);\n",
              "    border: none;\n",
              "    border-radius: 50%;\n",
              "    cursor: pointer;\n",
              "    display: none;\n",
              "    fill: var(--fill-color);\n",
              "    height: 32px;\n",
              "    padding: 0;\n",
              "    width: 32px;\n",
              "  }\n",
              "\n",
              "  .colab-df-quickchart:hover {\n",
              "    background-color: var(--hover-bg-color);\n",
              "    box-shadow: 0 1px 2px rgba(60, 64, 67, 0.3), 0 1px 3px 1px rgba(60, 64, 67, 0.15);\n",
              "    fill: var(--button-hover-fill-color);\n",
              "  }\n",
              "\n",
              "  .colab-df-quickchart-complete:disabled,\n",
              "  .colab-df-quickchart-complete:disabled:hover {\n",
              "    background-color: var(--disabled-bg-color);\n",
              "    fill: var(--disabled-fill-color);\n",
              "    box-shadow: none;\n",
              "  }\n",
              "\n",
              "  .colab-df-spinner {\n",
              "    border: 2px solid var(--fill-color);\n",
              "    border-color: transparent;\n",
              "    border-bottom-color: var(--fill-color);\n",
              "    animation:\n",
              "      spin 1s steps(1) infinite;\n",
              "  }\n",
              "\n",
              "  @keyframes spin {\n",
              "    0% {\n",
              "      border-color: transparent;\n",
              "      border-bottom-color: var(--fill-color);\n",
              "      border-left-color: var(--fill-color);\n",
              "    }\n",
              "    20% {\n",
              "      border-color: transparent;\n",
              "      border-left-color: var(--fill-color);\n",
              "      border-top-color: var(--fill-color);\n",
              "    }\n",
              "    30% {\n",
              "      border-color: transparent;\n",
              "      border-left-color: var(--fill-color);\n",
              "      border-top-color: var(--fill-color);\n",
              "      border-right-color: var(--fill-color);\n",
              "    }\n",
              "    40% {\n",
              "      border-color: transparent;\n",
              "      border-right-color: var(--fill-color);\n",
              "      border-top-color: var(--fill-color);\n",
              "    }\n",
              "    60% {\n",
              "      border-color: transparent;\n",
              "      border-right-color: var(--fill-color);\n",
              "    }\n",
              "    80% {\n",
              "      border-color: transparent;\n",
              "      border-right-color: var(--fill-color);\n",
              "      border-bottom-color: var(--fill-color);\n",
              "    }\n",
              "    90% {\n",
              "      border-color: transparent;\n",
              "      border-bottom-color: var(--fill-color);\n",
              "    }\n",
              "  }\n",
              "</style>\n",
              "\n",
              "  <script>\n",
              "    async function quickchart(key) {\n",
              "      const quickchartButtonEl =\n",
              "        document.querySelector('#' + key + ' button');\n",
              "      quickchartButtonEl.disabled = true;  // To prevent multiple clicks.\n",
              "      quickchartButtonEl.classList.add('colab-df-spinner');\n",
              "      try {\n",
              "        const charts = await google.colab.kernel.invokeFunction(\n",
              "            'suggestCharts', [key], {});\n",
              "      } catch (error) {\n",
              "        console.error('Error during call to suggestCharts:', error);\n",
              "      }\n",
              "      quickchartButtonEl.classList.remove('colab-df-spinner');\n",
              "      quickchartButtonEl.classList.add('colab-df-quickchart-complete');\n",
              "    }\n",
              "    (() => {\n",
              "      let quickchartButtonEl =\n",
              "        document.querySelector('#df-e14e14d3-2b04-43ba-8276-c53362ba9e24 button');\n",
              "      quickchartButtonEl.style.display =\n",
              "        google.colab.kernel.accessAllowed ? 'block' : 'none';\n",
              "    })();\n",
              "  </script>\n",
              "</div>\n",
              "    </div>\n",
              "  </div>\n"
            ],
            "application/vnd.google.colaboratory.intrinsic+json": {
              "type": "dataframe",
              "variable_name": "df2",
              "summary": "{\n  \"name\": \"df2\",\n  \"rows\": 44865,\n  \"fields\": [\n    {\n      \"column\": \"title\",\n      \"properties\": {\n        \"dtype\": \"string\",\n        \"num_unique_values\": 38611,\n        \"samples\": [\n          \"Discards\",\n          \"The Summer\",\n          \"Pigskin Abbey\"\n        ],\n        \"semantic_type\": \"\",\n        \"description\": \"\"\n      }\n    },\n    {\n      \"column\": \"author\",\n      \"properties\": {\n        \"dtype\": \"category\",\n        \"num_unique_values\": 7989,\n        \"samples\": [\n          \"By Gerald Jonas\",\n          \"By Richard Duerden\",\n          \"By Ellen Tifft\"\n        ],\n        \"semantic_type\": \"\",\n        \"description\": \"\"\n      }\n    },\n    {\n      \"column\": \"categories\",\n      \"properties\": {\n        \"dtype\": \"category\",\n        \"num_unique_values\": 12311,\n        \"samples\": [\n          \"['Nature', 'Stars, Planets, Heavens', 'Mythology & Folklore', 'Ghosts & the Supernatural']\",\n          \"['Living', 'Life Choices', 'Time & Brevity', 'Activities', 'Travels & Journeys', 'Rhymed Stanza', 'Quatrain']\",\n          \"['Love', 'Desire', 'Romantic Love', 'Unrequited Love', 'Nature', 'Fall', 'Trees & Flowers']\"\n        ],\n        \"semantic_type\": \"\",\n        \"description\": \"\"\n      }\n    },\n    {\n      \"column\": \"poem\",\n      \"properties\": {\n        \"dtype\": \"string\",\n        \"num_unique_values\": 40015,\n        \"samples\": [\n          \"POETRY INTERVIEW WITH THE POET\\u2019S MOTHER  Tell me, Mrs. Astor, is your son the poet? Is he the one who rages eloquently?  Is he the one who utilizes doubt  and publishes his marital problems regularly?  Tell me, Mrs. Astor, as a lad  did he show a flair for words and such? Did he sow those memories, mostly bad, whose harvesting we today enjoy so much?  Tell me, Mrs. Astor, are not you pleased that your son is known far and wide to be so fashionably though mentally diseased and versed in all the arts of misery?  Is not it delightful there is this fashion in suffering so your little boy can cash in?  202 \",\n          \"Carl Bulosan  NIGHT PIECE  Mysterious, profound, mute,  The night sprawls under the moonlight \\u2014 Knotless cables tied to the streets,  Synergy of truth ever present, giving  Time to what Hope delays!  O City of strangled throats and deep-set eyes, Give meaning to the muffled cry of millions Who perish behind screened windows, answer The namelessness of these young faces!  We have touched the moonlight,  As if drawn together by the silence of stars! Drawn together by the weight of our loneliness! And our fear fled into nothingness ;  Became our faith wrapped in moonlight \\u2014 Remembered beauty salvaged from the ruins  Of our scattered births!  Who can unfasten the moonlight . . .?  NEEDING NO TIME  Needing no time for mourning over Vanished splendors, the future receives Us into its inner reality where  The movietone of memory is a mimicry Of gleaming cities and other discoveries ;  [327] \",\n          \"Weekend: a country custom, a century old, English in origin, secular, elite, depended on railway schedules for its ritual: breakfast in silver warmers, tweeds till tea, tennis or crocquet when there was no hunting, dress for dinner, billiards after port, later, adultery in upstairs bedrooms. Now as the car turns willingly off asphalt and gravel stings its tires, we try our hand, Arriving's, all the same, though all has changed. The buds have swollen: or the leaves have turned; the house is still surprisingly intact. An unlocked door will let the world back in groceries, canvas satchels, lists of chores. Stop. Watch the maples bending in the wind tossing their boughs in summer agitation. Quick, before sunset, swim the salt creek that creeps up from the coast a mile away to hiss beneath the bridges, trickle through the swaying stalks of marsh grass, burdened with more nourishment than twenty tons of humus. Here one is happiest when not too clean. Come on, walk barefoot over new-cut stalks of green lawn grass, pausing to wipe off the sticky blades that squeeze between your toes. Along the granite of the garden wall a hundred varied blossoms flash their hues of gold and scarlet, peach and ivory. One skyscraper stands up among the lilies, brandishing blossoms like archangels' trumpets   \\u201d All while the thirsty grasses dream the day. Bend toward them. I can hear the tide of green engorge and stiffen, music in the blood, lifting sensation past the reach of time, mingling with the future. Come, let us turn, let us walk indoors and open up the house.\"\n        ],\n        \"semantic_type\": \"\",\n        \"description\": \"\"\n      }\n    },\n    {\n      \"column\": \"clean_tokens\",\n      \"properties\": {\n        \"dtype\": \"object\",\n        \"semantic_type\": \"\",\n        \"description\": \"\"\n      }\n    }\n  ]\n}"
            }
          },
          "metadata": {},
          "execution_count": 30
        }
      ]
    },
    {
      "cell_type": "code",
      "execution_count": null,
      "metadata": {
        "id": "DvEpFmCanziH",
        "colab": {
          "base_uri": "https://localhost:8080/",
          "height": 17
        },
        "outputId": "563bb882-ffe2-448b-a3e6-848b3c2349f9"
      },
      "outputs": [
        {
          "output_type": "display_data",
          "data": {
            "text/plain": [
              "<IPython.core.display.HTML object>"
            ],
            "text/html": [
              "\n",
              "  <style>\n",
              "    pre {\n",
              "        white-space: pre-wrap;\n",
              "    }\n",
              "  </style>\n",
              "  "
            ]
          },
          "metadata": {}
        }
      ],
      "source": [
        "# remove the column 'poem'\n",
        "df2 = df2.drop(columns=['poem'])"
      ]
    },
    {
      "cell_type": "code",
      "execution_count": null,
      "metadata": {
        "id": "CRK1vBRjnziI",
        "outputId": "45b29652-ea54-4629-fb37-39835fe91126",
        "colab": {
          "base_uri": "https://localhost:8080/",
          "height": 34
        }
      },
      "outputs": [
        {
          "output_type": "display_data",
          "data": {
            "text/plain": [
              "<IPython.core.display.HTML object>"
            ],
            "text/html": [
              "\n",
              "  <style>\n",
              "    pre {\n",
              "        white-space: pre-wrap;\n",
              "    }\n",
              "  </style>\n",
              "  "
            ]
          },
          "metadata": {}
        },
        {
          "output_type": "stream",
          "name": "stdout",
          "text": [
            "(44865, 4)\n"
          ]
        }
      ],
      "source": [
        "print(df.shape)"
      ]
    },
    {
      "cell_type": "code",
      "execution_count": null,
      "metadata": {
        "id": "85_4FNpinziI",
        "colab": {
          "base_uri": "https://localhost:8080/",
          "height": 17
        },
        "outputId": "4eb66a38-1af1-441c-de13-32d63daf27b5"
      },
      "outputs": [
        {
          "output_type": "display_data",
          "data": {
            "text/plain": [
              "<IPython.core.display.HTML object>"
            ],
            "text/html": [
              "\n",
              "  <style>\n",
              "    pre {\n",
              "        white-space: pre-wrap;\n",
              "    }\n",
              "  </style>\n",
              "  "
            ]
          },
          "metadata": {}
        }
      ],
      "source": [
        "df2.to_csv('data_poems_preprocessed.csv', encoding='latin-1',errors='ignore', index=False) # CAREFUL, you can overwrite your previous dataset, UPDATE the name when used"
      ]
    },
    {
      "cell_type": "code",
      "execution_count": null,
      "metadata": {
        "id": "9ZFBBDS8nziJ",
        "outputId": "9cc3ec60-483f-4aef-930c-0a09896c3e6e",
        "colab": {
          "base_uri": "https://localhost:8080/",
          "height": 363
        }
      },
      "outputs": [
        {
          "output_type": "display_data",
          "data": {
            "text/plain": [
              "<IPython.core.display.HTML object>"
            ],
            "text/html": [
              "\n",
              "  <style>\n",
              "    pre {\n",
              "        white-space: pre-wrap;\n",
              "    }\n",
              "  </style>\n",
              "  "
            ]
          },
          "metadata": {}
        },
        {
          "output_type": "execute_result",
          "data": {
            "text/plain": [
              "                                               title                   author  \\\n",
              "0                        The 80&rsquo;s Miracle Diet          By Melvin Dixon   \n",
              "1                                  All Saints&rsquo;  By Corey Van Landingham   \n",
              "2                       And These Are Just a Few ...          By Melvin Dixon   \n",
              "3                                               ASMR  By Corey Van Landingham   \n",
              "4                                               ASMR  By Corey Van Landingham   \n",
              "5                                     Autumn Leaving          By Melvin Dixon   \n",
              "6                                             Babble         By Nica Giromini   \n",
              "7                            Chiaroscuro Spring time        By Cyrus Cassells   \n",
              "8                                           Currency         By Nica Giromini   \n",
              "9  Everyday around the world a woman is pulled in...       By Krista Franklin   \n",
              "\n",
              "                                          categories  \\\n",
              "0                     ['Living', 'Health & Illness']   \n",
              "1                                                 []   \n",
              "2  ['Living', 'Health & Illness', 'Social Comment...   \n",
              "3                                                 []   \n",
              "4                                                 []   \n",
              "5                                                 []   \n",
              "6                                                 []   \n",
              "7        ['Arts & Sciences', 'Painting & Sculpture']   \n",
              "8                                                 []   \n",
              "9                       ['Types/Modes', 'Ekphrasis']   \n",
              "\n",
              "                                        clean_tokens  \n",
              "0  [free, without, asking, quick, delivery, via, ...  \n",
              "1  [caravaggio, face, sunken, pumpkin, bulb, rott...  \n",
              "2  [poem, epidemic, dead, living, remember, neigh...  \n",
              "3  [climb, mountain, delight, world, thin, meridi...  \n",
              "4  [hello, tonight, trace, static, bough, tempora...  \n",
              "5  [didier, vermont, leaf, glass, hand, working, ...  \n",
              "6  [say, land, remembered, muddy, rush, slows, ne...  \n",
              "7  [galleria, nazionale, arte, antica, rome, wa, ...  \n",
              "8  [net, headfirst, prairie, spring, seeing, noth...  \n",
              "9  [kara, walker, blue, â, 2020, everyday, brown,...  "
            ],
            "text/html": [
              "\n",
              "  <div id=\"df-2e105f18-5f29-4f65-b48d-ddb2bf776840\" class=\"colab-df-container\">\n",
              "    <div>\n",
              "<style scoped>\n",
              "    .dataframe tbody tr th:only-of-type {\n",
              "        vertical-align: middle;\n",
              "    }\n",
              "\n",
              "    .dataframe tbody tr th {\n",
              "        vertical-align: top;\n",
              "    }\n",
              "\n",
              "    .dataframe thead th {\n",
              "        text-align: right;\n",
              "    }\n",
              "</style>\n",
              "<table border=\"1\" class=\"dataframe\">\n",
              "  <thead>\n",
              "    <tr style=\"text-align: right;\">\n",
              "      <th></th>\n",
              "      <th>title</th>\n",
              "      <th>author</th>\n",
              "      <th>categories</th>\n",
              "      <th>clean_tokens</th>\n",
              "    </tr>\n",
              "  </thead>\n",
              "  <tbody>\n",
              "    <tr>\n",
              "      <th>0</th>\n",
              "      <td>The 80&amp;rsquo;s Miracle Diet</td>\n",
              "      <td>By Melvin Dixon</td>\n",
              "      <td>['Living', 'Health &amp; Illness']</td>\n",
              "      <td>[free, without, asking, quick, delivery, via, ...</td>\n",
              "    </tr>\n",
              "    <tr>\n",
              "      <th>1</th>\n",
              "      <td>All Saints&amp;rsquo;</td>\n",
              "      <td>By Corey Van Landingham</td>\n",
              "      <td>[]</td>\n",
              "      <td>[caravaggio, face, sunken, pumpkin, bulb, rott...</td>\n",
              "    </tr>\n",
              "    <tr>\n",
              "      <th>2</th>\n",
              "      <td>And These Are Just a Few ...</td>\n",
              "      <td>By Melvin Dixon</td>\n",
              "      <td>['Living', 'Health &amp; Illness', 'Social Comment...</td>\n",
              "      <td>[poem, epidemic, dead, living, remember, neigh...</td>\n",
              "    </tr>\n",
              "    <tr>\n",
              "      <th>3</th>\n",
              "      <td>ASMR</td>\n",
              "      <td>By Corey Van Landingham</td>\n",
              "      <td>[]</td>\n",
              "      <td>[climb, mountain, delight, world, thin, meridi...</td>\n",
              "    </tr>\n",
              "    <tr>\n",
              "      <th>4</th>\n",
              "      <td>ASMR</td>\n",
              "      <td>By Corey Van Landingham</td>\n",
              "      <td>[]</td>\n",
              "      <td>[hello, tonight, trace, static, bough, tempora...</td>\n",
              "    </tr>\n",
              "    <tr>\n",
              "      <th>5</th>\n",
              "      <td>Autumn Leaving</td>\n",
              "      <td>By Melvin Dixon</td>\n",
              "      <td>[]</td>\n",
              "      <td>[didier, vermont, leaf, glass, hand, working, ...</td>\n",
              "    </tr>\n",
              "    <tr>\n",
              "      <th>6</th>\n",
              "      <td>Babble</td>\n",
              "      <td>By Nica Giromini</td>\n",
              "      <td>[]</td>\n",
              "      <td>[say, land, remembered, muddy, rush, slows, ne...</td>\n",
              "    </tr>\n",
              "    <tr>\n",
              "      <th>7</th>\n",
              "      <td>Chiaroscuro Spring time</td>\n",
              "      <td>By Cyrus Cassells</td>\n",
              "      <td>['Arts &amp; Sciences', 'Painting &amp; Sculpture']</td>\n",
              "      <td>[galleria, nazionale, arte, antica, rome, wa, ...</td>\n",
              "    </tr>\n",
              "    <tr>\n",
              "      <th>8</th>\n",
              "      <td>Currency</td>\n",
              "      <td>By Nica Giromini</td>\n",
              "      <td>[]</td>\n",
              "      <td>[net, headfirst, prairie, spring, seeing, noth...</td>\n",
              "    </tr>\n",
              "    <tr>\n",
              "      <th>9</th>\n",
              "      <td>Everyday around the world a woman is pulled in...</td>\n",
              "      <td>By Krista Franklin</td>\n",
              "      <td>['Types/Modes', 'Ekphrasis']</td>\n",
              "      <td>[kara, walker, blue, â, 2020, everyday, brown,...</td>\n",
              "    </tr>\n",
              "  </tbody>\n",
              "</table>\n",
              "</div>\n",
              "    <div class=\"colab-df-buttons\">\n",
              "\n",
              "  <div class=\"colab-df-container\">\n",
              "    <button class=\"colab-df-convert\" onclick=\"convertToInteractive('df-2e105f18-5f29-4f65-b48d-ddb2bf776840')\"\n",
              "            title=\"Convert this dataframe to an interactive table.\"\n",
              "            style=\"display:none;\">\n",
              "\n",
              "  <svg xmlns=\"http://www.w3.org/2000/svg\" height=\"24px\" viewBox=\"0 -960 960 960\">\n",
              "    <path d=\"M120-120v-720h720v720H120Zm60-500h600v-160H180v160Zm220 220h160v-160H400v160Zm0 220h160v-160H400v160ZM180-400h160v-160H180v160Zm440 0h160v-160H620v160ZM180-180h160v-160H180v160Zm440 0h160v-160H620v160Z\"/>\n",
              "  </svg>\n",
              "    </button>\n",
              "\n",
              "  <style>\n",
              "    .colab-df-container {\n",
              "      display:flex;\n",
              "      gap: 12px;\n",
              "    }\n",
              "\n",
              "    .colab-df-convert {\n",
              "      background-color: #E8F0FE;\n",
              "      border: none;\n",
              "      border-radius: 50%;\n",
              "      cursor: pointer;\n",
              "      display: none;\n",
              "      fill: #1967D2;\n",
              "      height: 32px;\n",
              "      padding: 0 0 0 0;\n",
              "      width: 32px;\n",
              "    }\n",
              "\n",
              "    .colab-df-convert:hover {\n",
              "      background-color: #E2EBFA;\n",
              "      box-shadow: 0px 1px 2px rgba(60, 64, 67, 0.3), 0px 1px 3px 1px rgba(60, 64, 67, 0.15);\n",
              "      fill: #174EA6;\n",
              "    }\n",
              "\n",
              "    .colab-df-buttons div {\n",
              "      margin-bottom: 4px;\n",
              "    }\n",
              "\n",
              "    [theme=dark] .colab-df-convert {\n",
              "      background-color: #3B4455;\n",
              "      fill: #D2E3FC;\n",
              "    }\n",
              "\n",
              "    [theme=dark] .colab-df-convert:hover {\n",
              "      background-color: #434B5C;\n",
              "      box-shadow: 0px 1px 3px 1px rgba(0, 0, 0, 0.15);\n",
              "      filter: drop-shadow(0px 1px 2px rgba(0, 0, 0, 0.3));\n",
              "      fill: #FFFFFF;\n",
              "    }\n",
              "  </style>\n",
              "\n",
              "    <script>\n",
              "      const buttonEl =\n",
              "        document.querySelector('#df-2e105f18-5f29-4f65-b48d-ddb2bf776840 button.colab-df-convert');\n",
              "      buttonEl.style.display =\n",
              "        google.colab.kernel.accessAllowed ? 'block' : 'none';\n",
              "\n",
              "      async function convertToInteractive(key) {\n",
              "        const element = document.querySelector('#df-2e105f18-5f29-4f65-b48d-ddb2bf776840');\n",
              "        const dataTable =\n",
              "          await google.colab.kernel.invokeFunction('convertToInteractive',\n",
              "                                                    [key], {});\n",
              "        if (!dataTable) return;\n",
              "\n",
              "        const docLinkHtml = 'Like what you see? Visit the ' +\n",
              "          '<a target=\"_blank\" href=https://colab.research.google.com/notebooks/data_table.ipynb>data table notebook</a>'\n",
              "          + ' to learn more about interactive tables.';\n",
              "        element.innerHTML = '';\n",
              "        dataTable['output_type'] = 'display_data';\n",
              "        await google.colab.output.renderOutput(dataTable, element);\n",
              "        const docLink = document.createElement('div');\n",
              "        docLink.innerHTML = docLinkHtml;\n",
              "        element.appendChild(docLink);\n",
              "      }\n",
              "    </script>\n",
              "  </div>\n",
              "\n",
              "\n",
              "<div id=\"df-0a0e6093-0d50-4887-9c36-36275cb97ae2\">\n",
              "  <button class=\"colab-df-quickchart\" onclick=\"quickchart('df-0a0e6093-0d50-4887-9c36-36275cb97ae2')\"\n",
              "            title=\"Suggest charts\"\n",
              "            style=\"display:none;\">\n",
              "\n",
              "<svg xmlns=\"http://www.w3.org/2000/svg\" height=\"24px\"viewBox=\"0 0 24 24\"\n",
              "     width=\"24px\">\n",
              "    <g>\n",
              "        <path d=\"M19 3H5c-1.1 0-2 .9-2 2v14c0 1.1.9 2 2 2h14c1.1 0 2-.9 2-2V5c0-1.1-.9-2-2-2zM9 17H7v-7h2v7zm4 0h-2V7h2v10zm4 0h-2v-4h2v4z\"/>\n",
              "    </g>\n",
              "</svg>\n",
              "  </button>\n",
              "\n",
              "<style>\n",
              "  .colab-df-quickchart {\n",
              "      --bg-color: #E8F0FE;\n",
              "      --fill-color: #1967D2;\n",
              "      --hover-bg-color: #E2EBFA;\n",
              "      --hover-fill-color: #174EA6;\n",
              "      --disabled-fill-color: #AAA;\n",
              "      --disabled-bg-color: #DDD;\n",
              "  }\n",
              "\n",
              "  [theme=dark] .colab-df-quickchart {\n",
              "      --bg-color: #3B4455;\n",
              "      --fill-color: #D2E3FC;\n",
              "      --hover-bg-color: #434B5C;\n",
              "      --hover-fill-color: #FFFFFF;\n",
              "      --disabled-bg-color: #3B4455;\n",
              "      --disabled-fill-color: #666;\n",
              "  }\n",
              "\n",
              "  .colab-df-quickchart {\n",
              "    background-color: var(--bg-color);\n",
              "    border: none;\n",
              "    border-radius: 50%;\n",
              "    cursor: pointer;\n",
              "    display: none;\n",
              "    fill: var(--fill-color);\n",
              "    height: 32px;\n",
              "    padding: 0;\n",
              "    width: 32px;\n",
              "  }\n",
              "\n",
              "  .colab-df-quickchart:hover {\n",
              "    background-color: var(--hover-bg-color);\n",
              "    box-shadow: 0 1px 2px rgba(60, 64, 67, 0.3), 0 1px 3px 1px rgba(60, 64, 67, 0.15);\n",
              "    fill: var(--button-hover-fill-color);\n",
              "  }\n",
              "\n",
              "  .colab-df-quickchart-complete:disabled,\n",
              "  .colab-df-quickchart-complete:disabled:hover {\n",
              "    background-color: var(--disabled-bg-color);\n",
              "    fill: var(--disabled-fill-color);\n",
              "    box-shadow: none;\n",
              "  }\n",
              "\n",
              "  .colab-df-spinner {\n",
              "    border: 2px solid var(--fill-color);\n",
              "    border-color: transparent;\n",
              "    border-bottom-color: var(--fill-color);\n",
              "    animation:\n",
              "      spin 1s steps(1) infinite;\n",
              "  }\n",
              "\n",
              "  @keyframes spin {\n",
              "    0% {\n",
              "      border-color: transparent;\n",
              "      border-bottom-color: var(--fill-color);\n",
              "      border-left-color: var(--fill-color);\n",
              "    }\n",
              "    20% {\n",
              "      border-color: transparent;\n",
              "      border-left-color: var(--fill-color);\n",
              "      border-top-color: var(--fill-color);\n",
              "    }\n",
              "    30% {\n",
              "      border-color: transparent;\n",
              "      border-left-color: var(--fill-color);\n",
              "      border-top-color: var(--fill-color);\n",
              "      border-right-color: var(--fill-color);\n",
              "    }\n",
              "    40% {\n",
              "      border-color: transparent;\n",
              "      border-right-color: var(--fill-color);\n",
              "      border-top-color: var(--fill-color);\n",
              "    }\n",
              "    60% {\n",
              "      border-color: transparent;\n",
              "      border-right-color: var(--fill-color);\n",
              "    }\n",
              "    80% {\n",
              "      border-color: transparent;\n",
              "      border-right-color: var(--fill-color);\n",
              "      border-bottom-color: var(--fill-color);\n",
              "    }\n",
              "    90% {\n",
              "      border-color: transparent;\n",
              "      border-bottom-color: var(--fill-color);\n",
              "    }\n",
              "  }\n",
              "</style>\n",
              "\n",
              "  <script>\n",
              "    async function quickchart(key) {\n",
              "      const quickchartButtonEl =\n",
              "        document.querySelector('#' + key + ' button');\n",
              "      quickchartButtonEl.disabled = true;  // To prevent multiple clicks.\n",
              "      quickchartButtonEl.classList.add('colab-df-spinner');\n",
              "      try {\n",
              "        const charts = await google.colab.kernel.invokeFunction(\n",
              "            'suggestCharts', [key], {});\n",
              "      } catch (error) {\n",
              "        console.error('Error during call to suggestCharts:', error);\n",
              "      }\n",
              "      quickchartButtonEl.classList.remove('colab-df-spinner');\n",
              "      quickchartButtonEl.classList.add('colab-df-quickchart-complete');\n",
              "    }\n",
              "    (() => {\n",
              "      let quickchartButtonEl =\n",
              "        document.querySelector('#df-0a0e6093-0d50-4887-9c36-36275cb97ae2 button');\n",
              "      quickchartButtonEl.style.display =\n",
              "        google.colab.kernel.accessAllowed ? 'block' : 'none';\n",
              "    })();\n",
              "  </script>\n",
              "</div>\n",
              "    </div>\n",
              "  </div>\n"
            ],
            "application/vnd.google.colaboratory.intrinsic+json": {
              "type": "dataframe",
              "variable_name": "df2",
              "summary": "{\n  \"name\": \"df2\",\n  \"rows\": 44865,\n  \"fields\": [\n    {\n      \"column\": \"title\",\n      \"properties\": {\n        \"dtype\": \"string\",\n        \"num_unique_values\": 38611,\n        \"samples\": [\n          \"Discards\",\n          \"The Summer\",\n          \"Pigskin Abbey\"\n        ],\n        \"semantic_type\": \"\",\n        \"description\": \"\"\n      }\n    },\n    {\n      \"column\": \"author\",\n      \"properties\": {\n        \"dtype\": \"category\",\n        \"num_unique_values\": 7989,\n        \"samples\": [\n          \"By Gerald Jonas\",\n          \"By Richard Duerden\",\n          \"By Ellen Tifft\"\n        ],\n        \"semantic_type\": \"\",\n        \"description\": \"\"\n      }\n    },\n    {\n      \"column\": \"categories\",\n      \"properties\": {\n        \"dtype\": \"category\",\n        \"num_unique_values\": 12311,\n        \"samples\": [\n          \"['Nature', 'Stars, Planets, Heavens', 'Mythology & Folklore', 'Ghosts & the Supernatural']\",\n          \"['Living', 'Life Choices', 'Time & Brevity', 'Activities', 'Travels & Journeys', 'Rhymed Stanza', 'Quatrain']\",\n          \"['Love', 'Desire', 'Romantic Love', 'Unrequited Love', 'Nature', 'Fall', 'Trees & Flowers']\"\n        ],\n        \"semantic_type\": \"\",\n        \"description\": \"\"\n      }\n    },\n    {\n      \"column\": \"clean_tokens\",\n      \"properties\": {\n        \"dtype\": \"object\",\n        \"semantic_type\": \"\",\n        \"description\": \"\"\n      }\n    }\n  ]\n}"
            }
          },
          "metadata": {},
          "execution_count": 34
        }
      ],
      "source": [
        "df2.head(10)"
      ]
    },
    {
      "cell_type": "markdown",
      "source": [
        "# Text vectorization\n",
        "\n",
        "In this part of the notebook we are going to analyze the following vectorization schemes:\n",
        "- Classical BoW or TF-IDF representation.\n",
        "- Word2vec/Glove based representation or Doc2Vec vectorization.\n",
        "- Extraction of themes and vector representation of the documents\n",
        "using the LDA algorithm.\n"
      ],
      "metadata": {
        "id": "EQSZ24kJEWCC"
      }
    },
    {
      "cell_type": "code",
      "source": [
        "# For colab\n",
        "data = pd.read_csv('/content/drive/MyDrive/data_poems_preprocessed.csv', encoding='latin-1')\n",
        "# For local\n",
        "#data = pd.read_csv('data_poems_preprocessed.csv', encoding='latin-1')\n",
        "data.head(5)"
      ],
      "metadata": {
        "id": "GXwEKlhEEVuX",
        "outputId": "15eb295e-d32b-4f32-d1a6-241bbdcc45ac",
        "colab": {
          "base_uri": "https://localhost:8080/",
          "height": 206
        }
      },
      "execution_count": null,
      "outputs": [
        {
          "output_type": "display_data",
          "data": {
            "text/plain": [
              "<IPython.core.display.HTML object>"
            ],
            "text/html": [
              "\n",
              "  <style>\n",
              "    pre {\n",
              "        white-space: pre-wrap;\n",
              "    }\n",
              "  </style>\n",
              "  "
            ]
          },
          "metadata": {}
        },
        {
          "output_type": "execute_result",
          "data": {
            "text/plain": [
              "                          title                   author  \\\n",
              "0   The 80&rsquo;s Miracle Diet          By Melvin Dixon   \n",
              "1             All Saints&rsquo;  By Corey Van Landingham   \n",
              "2  And These Are Just a Few ...          By Melvin Dixon   \n",
              "3                          ASMR  By Corey Van Landingham   \n",
              "4                          ASMR  By Corey Van Landingham   \n",
              "\n",
              "                                          categories  \\\n",
              "0                     ['Living', 'Health & Illness']   \n",
              "1                                                 []   \n",
              "2  ['Living', 'Health & Illness', 'Social Comment...   \n",
              "3                                                 []   \n",
              "4                                                 []   \n",
              "\n",
              "                                        clean_tokens  \n",
              "0  ['free', 'without', 'asking', 'quick', 'delive...  \n",
              "1  ['caravaggio', 'face', 'sunken', 'pumpkin', 'b...  \n",
              "2  ['poem', 'epidemic', 'dead', 'living', 'rememb...  \n",
              "3  ['climb', 'mountain', 'delight', 'world', 'thi...  \n",
              "4  ['hello', 'tonight', 'trace', 'static', 'bough...  "
            ],
            "text/html": [
              "\n",
              "  <div id=\"df-cf0f0a49-e5d2-441b-95ff-5430c09cd6f8\" class=\"colab-df-container\">\n",
              "    <div>\n",
              "<style scoped>\n",
              "    .dataframe tbody tr th:only-of-type {\n",
              "        vertical-align: middle;\n",
              "    }\n",
              "\n",
              "    .dataframe tbody tr th {\n",
              "        vertical-align: top;\n",
              "    }\n",
              "\n",
              "    .dataframe thead th {\n",
              "        text-align: right;\n",
              "    }\n",
              "</style>\n",
              "<table border=\"1\" class=\"dataframe\">\n",
              "  <thead>\n",
              "    <tr style=\"text-align: right;\">\n",
              "      <th></th>\n",
              "      <th>title</th>\n",
              "      <th>author</th>\n",
              "      <th>categories</th>\n",
              "      <th>clean_tokens</th>\n",
              "    </tr>\n",
              "  </thead>\n",
              "  <tbody>\n",
              "    <tr>\n",
              "      <th>0</th>\n",
              "      <td>The 80&amp;rsquo;s Miracle Diet</td>\n",
              "      <td>By Melvin Dixon</td>\n",
              "      <td>['Living', 'Health &amp; Illness']</td>\n",
              "      <td>['free', 'without', 'asking', 'quick', 'delive...</td>\n",
              "    </tr>\n",
              "    <tr>\n",
              "      <th>1</th>\n",
              "      <td>All Saints&amp;rsquo;</td>\n",
              "      <td>By Corey Van Landingham</td>\n",
              "      <td>[]</td>\n",
              "      <td>['caravaggio', 'face', 'sunken', 'pumpkin', 'b...</td>\n",
              "    </tr>\n",
              "    <tr>\n",
              "      <th>2</th>\n",
              "      <td>And These Are Just a Few ...</td>\n",
              "      <td>By Melvin Dixon</td>\n",
              "      <td>['Living', 'Health &amp; Illness', 'Social Comment...</td>\n",
              "      <td>['poem', 'epidemic', 'dead', 'living', 'rememb...</td>\n",
              "    </tr>\n",
              "    <tr>\n",
              "      <th>3</th>\n",
              "      <td>ASMR</td>\n",
              "      <td>By Corey Van Landingham</td>\n",
              "      <td>[]</td>\n",
              "      <td>['climb', 'mountain', 'delight', 'world', 'thi...</td>\n",
              "    </tr>\n",
              "    <tr>\n",
              "      <th>4</th>\n",
              "      <td>ASMR</td>\n",
              "      <td>By Corey Van Landingham</td>\n",
              "      <td>[]</td>\n",
              "      <td>['hello', 'tonight', 'trace', 'static', 'bough...</td>\n",
              "    </tr>\n",
              "  </tbody>\n",
              "</table>\n",
              "</div>\n",
              "    <div class=\"colab-df-buttons\">\n",
              "\n",
              "  <div class=\"colab-df-container\">\n",
              "    <button class=\"colab-df-convert\" onclick=\"convertToInteractive('df-cf0f0a49-e5d2-441b-95ff-5430c09cd6f8')\"\n",
              "            title=\"Convert this dataframe to an interactive table.\"\n",
              "            style=\"display:none;\">\n",
              "\n",
              "  <svg xmlns=\"http://www.w3.org/2000/svg\" height=\"24px\" viewBox=\"0 -960 960 960\">\n",
              "    <path d=\"M120-120v-720h720v720H120Zm60-500h600v-160H180v160Zm220 220h160v-160H400v160Zm0 220h160v-160H400v160ZM180-400h160v-160H180v160Zm440 0h160v-160H620v160ZM180-180h160v-160H180v160Zm440 0h160v-160H620v160Z\"/>\n",
              "  </svg>\n",
              "    </button>\n",
              "\n",
              "  <style>\n",
              "    .colab-df-container {\n",
              "      display:flex;\n",
              "      gap: 12px;\n",
              "    }\n",
              "\n",
              "    .colab-df-convert {\n",
              "      background-color: #E8F0FE;\n",
              "      border: none;\n",
              "      border-radius: 50%;\n",
              "      cursor: pointer;\n",
              "      display: none;\n",
              "      fill: #1967D2;\n",
              "      height: 32px;\n",
              "      padding: 0 0 0 0;\n",
              "      width: 32px;\n",
              "    }\n",
              "\n",
              "    .colab-df-convert:hover {\n",
              "      background-color: #E2EBFA;\n",
              "      box-shadow: 0px 1px 2px rgba(60, 64, 67, 0.3), 0px 1px 3px 1px rgba(60, 64, 67, 0.15);\n",
              "      fill: #174EA6;\n",
              "    }\n",
              "\n",
              "    .colab-df-buttons div {\n",
              "      margin-bottom: 4px;\n",
              "    }\n",
              "\n",
              "    [theme=dark] .colab-df-convert {\n",
              "      background-color: #3B4455;\n",
              "      fill: #D2E3FC;\n",
              "    }\n",
              "\n",
              "    [theme=dark] .colab-df-convert:hover {\n",
              "      background-color: #434B5C;\n",
              "      box-shadow: 0px 1px 3px 1px rgba(0, 0, 0, 0.15);\n",
              "      filter: drop-shadow(0px 1px 2px rgba(0, 0, 0, 0.3));\n",
              "      fill: #FFFFFF;\n",
              "    }\n",
              "  </style>\n",
              "\n",
              "    <script>\n",
              "      const buttonEl =\n",
              "        document.querySelector('#df-cf0f0a49-e5d2-441b-95ff-5430c09cd6f8 button.colab-df-convert');\n",
              "      buttonEl.style.display =\n",
              "        google.colab.kernel.accessAllowed ? 'block' : 'none';\n",
              "\n",
              "      async function convertToInteractive(key) {\n",
              "        const element = document.querySelector('#df-cf0f0a49-e5d2-441b-95ff-5430c09cd6f8');\n",
              "        const dataTable =\n",
              "          await google.colab.kernel.invokeFunction('convertToInteractive',\n",
              "                                                    [key], {});\n",
              "        if (!dataTable) return;\n",
              "\n",
              "        const docLinkHtml = 'Like what you see? Visit the ' +\n",
              "          '<a target=\"_blank\" href=https://colab.research.google.com/notebooks/data_table.ipynb>data table notebook</a>'\n",
              "          + ' to learn more about interactive tables.';\n",
              "        element.innerHTML = '';\n",
              "        dataTable['output_type'] = 'display_data';\n",
              "        await google.colab.output.renderOutput(dataTable, element);\n",
              "        const docLink = document.createElement('div');\n",
              "        docLink.innerHTML = docLinkHtml;\n",
              "        element.appendChild(docLink);\n",
              "      }\n",
              "    </script>\n",
              "  </div>\n",
              "\n",
              "\n",
              "<div id=\"df-8d903a09-ca3e-46ff-b0df-0e22f5fd5b70\">\n",
              "  <button class=\"colab-df-quickchart\" onclick=\"quickchart('df-8d903a09-ca3e-46ff-b0df-0e22f5fd5b70')\"\n",
              "            title=\"Suggest charts\"\n",
              "            style=\"display:none;\">\n",
              "\n",
              "<svg xmlns=\"http://www.w3.org/2000/svg\" height=\"24px\"viewBox=\"0 0 24 24\"\n",
              "     width=\"24px\">\n",
              "    <g>\n",
              "        <path d=\"M19 3H5c-1.1 0-2 .9-2 2v14c0 1.1.9 2 2 2h14c1.1 0 2-.9 2-2V5c0-1.1-.9-2-2-2zM9 17H7v-7h2v7zm4 0h-2V7h2v10zm4 0h-2v-4h2v4z\"/>\n",
              "    </g>\n",
              "</svg>\n",
              "  </button>\n",
              "\n",
              "<style>\n",
              "  .colab-df-quickchart {\n",
              "      --bg-color: #E8F0FE;\n",
              "      --fill-color: #1967D2;\n",
              "      --hover-bg-color: #E2EBFA;\n",
              "      --hover-fill-color: #174EA6;\n",
              "      --disabled-fill-color: #AAA;\n",
              "      --disabled-bg-color: #DDD;\n",
              "  }\n",
              "\n",
              "  [theme=dark] .colab-df-quickchart {\n",
              "      --bg-color: #3B4455;\n",
              "      --fill-color: #D2E3FC;\n",
              "      --hover-bg-color: #434B5C;\n",
              "      --hover-fill-color: #FFFFFF;\n",
              "      --disabled-bg-color: #3B4455;\n",
              "      --disabled-fill-color: #666;\n",
              "  }\n",
              "\n",
              "  .colab-df-quickchart {\n",
              "    background-color: var(--bg-color);\n",
              "    border: none;\n",
              "    border-radius: 50%;\n",
              "    cursor: pointer;\n",
              "    display: none;\n",
              "    fill: var(--fill-color);\n",
              "    height: 32px;\n",
              "    padding: 0;\n",
              "    width: 32px;\n",
              "  }\n",
              "\n",
              "  .colab-df-quickchart:hover {\n",
              "    background-color: var(--hover-bg-color);\n",
              "    box-shadow: 0 1px 2px rgba(60, 64, 67, 0.3), 0 1px 3px 1px rgba(60, 64, 67, 0.15);\n",
              "    fill: var(--button-hover-fill-color);\n",
              "  }\n",
              "\n",
              "  .colab-df-quickchart-complete:disabled,\n",
              "  .colab-df-quickchart-complete:disabled:hover {\n",
              "    background-color: var(--disabled-bg-color);\n",
              "    fill: var(--disabled-fill-color);\n",
              "    box-shadow: none;\n",
              "  }\n",
              "\n",
              "  .colab-df-spinner {\n",
              "    border: 2px solid var(--fill-color);\n",
              "    border-color: transparent;\n",
              "    border-bottom-color: var(--fill-color);\n",
              "    animation:\n",
              "      spin 1s steps(1) infinite;\n",
              "  }\n",
              "\n",
              "  @keyframes spin {\n",
              "    0% {\n",
              "      border-color: transparent;\n",
              "      border-bottom-color: var(--fill-color);\n",
              "      border-left-color: var(--fill-color);\n",
              "    }\n",
              "    20% {\n",
              "      border-color: transparent;\n",
              "      border-left-color: var(--fill-color);\n",
              "      border-top-color: var(--fill-color);\n",
              "    }\n",
              "    30% {\n",
              "      border-color: transparent;\n",
              "      border-left-color: var(--fill-color);\n",
              "      border-top-color: var(--fill-color);\n",
              "      border-right-color: var(--fill-color);\n",
              "    }\n",
              "    40% {\n",
              "      border-color: transparent;\n",
              "      border-right-color: var(--fill-color);\n",
              "      border-top-color: var(--fill-color);\n",
              "    }\n",
              "    60% {\n",
              "      border-color: transparent;\n",
              "      border-right-color: var(--fill-color);\n",
              "    }\n",
              "    80% {\n",
              "      border-color: transparent;\n",
              "      border-right-color: var(--fill-color);\n",
              "      border-bottom-color: var(--fill-color);\n",
              "    }\n",
              "    90% {\n",
              "      border-color: transparent;\n",
              "      border-bottom-color: var(--fill-color);\n",
              "    }\n",
              "  }\n",
              "</style>\n",
              "\n",
              "  <script>\n",
              "    async function quickchart(key) {\n",
              "      const quickchartButtonEl =\n",
              "        document.querySelector('#' + key + ' button');\n",
              "      quickchartButtonEl.disabled = true;  // To prevent multiple clicks.\n",
              "      quickchartButtonEl.classList.add('colab-df-spinner');\n",
              "      try {\n",
              "        const charts = await google.colab.kernel.invokeFunction(\n",
              "            'suggestCharts', [key], {});\n",
              "      } catch (error) {\n",
              "        console.error('Error during call to suggestCharts:', error);\n",
              "      }\n",
              "      quickchartButtonEl.classList.remove('colab-df-spinner');\n",
              "      quickchartButtonEl.classList.add('colab-df-quickchart-complete');\n",
              "    }\n",
              "    (() => {\n",
              "      let quickchartButtonEl =\n",
              "        document.querySelector('#df-8d903a09-ca3e-46ff-b0df-0e22f5fd5b70 button');\n",
              "      quickchartButtonEl.style.display =\n",
              "        google.colab.kernel.accessAllowed ? 'block' : 'none';\n",
              "    })();\n",
              "  </script>\n",
              "</div>\n",
              "    </div>\n",
              "  </div>\n"
            ],
            "application/vnd.google.colaboratory.intrinsic+json": {
              "type": "dataframe",
              "variable_name": "data",
              "summary": "{\n  \"name\": \"data\",\n  \"rows\": 44862,\n  \"fields\": [\n    {\n      \"column\": \"title\",\n      \"properties\": {\n        \"dtype\": \"string\",\n        \"num_unique_values\": 38607,\n        \"samples\": [\n          \"Fiasco in Fresco\",\n          \"A Lexicon for People Who Don't Talk Too Much\",\n          \"(\\\"This leaf had eyes...\\\")\"\n        ],\n        \"semantic_type\": \"\",\n        \"description\": \"\"\n      }\n    },\n    {\n      \"column\": \"author\",\n      \"properties\": {\n        \"dtype\": \"category\",\n        \"num_unique_values\": 7989,\n        \"samples\": [\n          \"By Gerald Jonas\",\n          \"By Richard Duerden\",\n          \"By Ellen Tifft\"\n        ],\n        \"semantic_type\": \"\",\n        \"description\": \"\"\n      }\n    },\n    {\n      \"column\": \"categories\",\n      \"properties\": {\n        \"dtype\": \"category\",\n        \"num_unique_values\": 12313,\n        \"samples\": [\n          \"['Living', 'Life Choices', 'Social Commentaries', 'War & Conflict', 'Villanelle']\",\n          \"['Living', 'Parenthood', 'Activities', 'School & Learning', 'Relationships', 'Home Life', 'Philosophy', 'Free Verse']\",\n          \"['Living', 'Life Choices', 'Love', 'Religion', 'Arts & Sciences', 'Language & Linguistics', 'Social Commentaries', 'History & Politics', 'Race & Ethnicity']\"\n        ],\n        \"semantic_type\": \"\",\n        \"description\": \"\"\n      }\n    },\n    {\n      \"column\": \"clean_tokens\",\n      \"properties\": {\n        \"dtype\": \"string\",\n        \"num_unique_values\": 39998,\n        \"samples\": [\n          \"['poetry', '4', 'magazine', 'verse', 'sample', 'eve', 'judge', 'implacably', 'sombre', 'face', 'eye', 'cry', 'god', 'she', 'tempted', 'god', 'know', 'lie', 'wander', 'grove', 'apple', 'blossomed', 'red', 'phantom', 'love', 'beckoned', 'ahead', 'given', 'gift', 'could', 'empty', 'hand', 'wandered', 'mystic', 'wood', 'slender', 'white', 'larch', 'wand', 'came', 'orchard', 'mellowing', 'little', 'globe', 'fire', 'hung', 'like', 'note', 'wind', 'bird', 'sing', 'stung', 'desire', 'reached', 'forbidden', 'fruit', 'thought', 'squat', 'tree', 'quivered', 'root', 'passively', 'knew', 'sinned', 'care', 'knew', 'eye', 'would', 'shine', 'see', 'apple', 'gold', 'contour', 'taste', 'pleasant', 'wine', 'tonala', 'besieged', 'son', 'water', 'gracious', 'city', 'left', 'without', 'light', '260']\",\n          \"['outside', 'house', 'wind', 'howling', 'tree', 'creaking', 'horribly', 'old', 'story', 'old', 'beginning', 'lay', 'sleep', 'wake', 'sunlight', 'ha', 'taken', 'room', 'already', 'made', 'coffee', 'radio', 'brings', 'u', 'music', 'confident', 'age', 'paper', 'bad', 'news', 'set', 'distant', 'place', 'whatever', 'wa', 'bound', 'happen', 'story', 'happen', 'know', 'rule', 'cannot', 'broken', 'perhaps', 'name', 'wa', 'changed', 'small', 'mistake', 'perhaps', 'woman', 'know', 'facing', 'day', 'heavy', 'heart', 'right', 'mine']\",\n          \"['poetry', '250', 'david', 'wagoner', 'garden', 'day', 'said', 'loved', 'found', 'public', 'garden', 'sat', 'together', 'cold', 'stone', 'bench', 'holding', 'hand', 'making', 'certain', 'hand', 'tried', 'tell', 'loved', 'far', 'away', 'much', 'hesitation', 'much', 'restraint', 'disbelief', 'across', 'strict', 'profession', 'word', 'unwritten', 'law', 'year', 'year', 'could', 'say', 'name', 'daylight', 'think', 'faint', 'hope', 'different', 'life', 'left', 'lost', 'garden', 'changed', 'everything', 'spoke', 'surrender', 'rearrangement', 'intermingling', 'pattern', 'bedded', 'landscape', 'gardener', 'crossed', 'shelter', 'carnival', 'nursery', 'growing', 'end', 'earth', 'blossom', 'year', 'round', 'touch', 'even', 'shoulder', 'mine', 'wa', 'fire', 'u', 'impulsive', 'splendor', 'felt', 'would', 'become', 'time', 'lapse', 'visual', 'aid', 'botanist', 'body', 'ready', 'burst', 'bloom', 'scatter', 'nebula', 'multi', 'layered', 'sheath', 'old', 'husk', 'spread', 'wealth', 'beyond', 'recently', 'mind', 'wa', 'zodiac', 'perennial', 'dreamed', 'andrew', 'marvell', 'center', 'paradise', 'u', 'accepted', 'rule', 'garden', 'may', 'grow', 'safely', 'admired', 'sake', 'cared', 'well']\"\n        ],\n        \"semantic_type\": \"\",\n        \"description\": \"\"\n      }\n    }\n  ]\n}"
            }
          },
          "metadata": {},
          "execution_count": 36
        }
      ]
    },
    {
      "cell_type": "markdown",
      "source": [
        "We will use Gensim, so we need to create a corpus, that is a list of the poems tokenized."
      ],
      "metadata": {
        "id": "Kqj56FXGUm7u"
      }
    },
    {
      "cell_type": "code",
      "source": [
        "import ast  # To parse the string representation of lists in DataFrame\n",
        "clean_tokens =  data['clean_tokens'].apply(ast.literal_eval)\n",
        "\n",
        "# Convert the pandas series to a list of lists\n",
        "corpus = clean_tokens.tolist()"
      ],
      "metadata": {
        "id": "nuPxvmCGYx7Z",
        "outputId": "b50801f8-08dd-4e0b-9be7-8d41d8dab8e8",
        "colab": {
          "base_uri": "https://localhost:8080/",
          "height": 17
        }
      },
      "execution_count": null,
      "outputs": [
        {
          "output_type": "display_data",
          "data": {
            "text/plain": [
              "<IPython.core.display.HTML object>"
            ],
            "text/html": [
              "\n",
              "  <style>\n",
              "    pre {\n",
              "        white-space: pre-wrap;\n",
              "    }\n",
              "  </style>\n",
              "  "
            ]
          },
          "metadata": {}
        }
      ]
    },
    {
      "cell_type": "code",
      "source": [
        "print(colored('Number of documents in corpus: '+str(len(corpus)), 'green'))\n",
        "print(colored('\\n============= First review =============', 'blue'))\n",
        "print(corpus[0])"
      ],
      "metadata": {
        "id": "qKAWJuqLZAJW",
        "outputId": "35431571-973b-40ac-d0e5-acb73d31ac46",
        "colab": {
          "base_uri": "https://localhost:8080/",
          "height": 104
        }
      },
      "execution_count": null,
      "outputs": [
        {
          "output_type": "display_data",
          "data": {
            "text/plain": [
              "<IPython.core.display.HTML object>"
            ],
            "text/html": [
              "\n",
              "  <style>\n",
              "    pre {\n",
              "        white-space: pre-wrap;\n",
              "    }\n",
              "  </style>\n",
              "  "
            ]
          },
          "metadata": {}
        },
        {
          "output_type": "stream",
          "name": "stdout",
          "text": [
            "Number of documents in corpus: 44862\n",
            "\n",
            "============= First review =============\n",
            "['free', 'without', 'asking', 'quick', 'delivery', 'via', 'overnight', 'male', 'special', 'handling', 'ten', 'year', 'incubation', 'lost', '40', 'pound', 'two', 'week', 'cocktail', 'perrier', 'twist', 'azt', 'bactrim', 'broiled', 'bacon', 'bit', 'egg', 'lipid', 'quiche', 'brunch', 'tongue', 'ablaze', 'toast', 'point', 'soundless', 'howl', 'talented', 'mind', 'best', 'body', 'generation', 'going', 'smoke', 'act', 'dial', '1', '800', 'got', '2', 'operator', 'standing', 'photograph', 'prove', 'passed', 'away']\n"
          ]
        }
      ]
    },
    {
      "cell_type": "markdown",
      "source": [
        "Now we are going to see the number of tokens per poem"
      ],
      "metadata": {
        "id": "e-m_yndEVf8G"
      }
    },
    {
      "cell_type": "code",
      "source": [
        "from nltk.tokenize import wordpunct_tokenize\n",
        "\n",
        "# Tokenize each review and calculate the number of tokens\n",
        "num_tokens_per_review = [len(review) for review in corpus]\n",
        "\n",
        "# Calculate the average number of tokens per review\n",
        "average_tokens_per_review = sum(num_tokens_per_review) / len(num_tokens_per_review)\n",
        "print(\"Average number of tokens per review:\", average_tokens_per_review)\n",
        "\n",
        "import matplotlib.pyplot as plt\n",
        "\n",
        "# Plot histogram\n",
        "plt.hist(num_tokens_per_review, bins=20, color='skyblue', edgecolor='black')\n",
        "plt.xlabel('Number of Tokens')\n",
        "plt.ylabel('Frequency')\n",
        "plt.title('Histogram of Number of Tokens per Review')\n",
        "plt.show()"
      ],
      "metadata": {
        "id": "QmnGgiJsVoOn",
        "outputId": "928b4e7b-c307-440a-8789-a20dabaab041",
        "colab": {
          "base_uri": "https://localhost:8080/",
          "height": 489
        }
      },
      "execution_count": null,
      "outputs": [
        {
          "output_type": "display_data",
          "data": {
            "text/plain": [
              "<IPython.core.display.HTML object>"
            ],
            "text/html": [
              "\n",
              "  <style>\n",
              "    pre {\n",
              "        white-space: pre-wrap;\n",
              "    }\n",
              "  </style>\n",
              "  "
            ]
          },
          "metadata": {}
        },
        {
          "output_type": "stream",
          "name": "stdout",
          "text": [
            "Average number of tokens per review: 108.8352057420534\n"
          ]
        },
        {
          "output_type": "display_data",
          "data": {
            "text/plain": [
              "<Figure size 640x480 with 1 Axes>"
            ],
            "image/png": "[encoded data removed]"
          },
          "metadata": {}
        }
      ]
    },
    {
      "cell_type": "markdown",
      "source": [
        "So we can see that most of the poems have around 100 tokens. Now we are going to use n-gramm detection to join tokens that appear together frequently."
      ],
      "metadata": {
        "id": "DUn96ZI4Vwt-"
      }
    },
    {
      "cell_type": "code",
      "source": [
        "from gensim.models.phrases import Phrases\n",
        "\n",
        "phrase_model = Phrases(corpus, min_count=2, threshold=20)\n",
        "\n",
        "print(colored('\\n============= First review in corpus =============', 'blue'))\n",
        "print(corpus[0])\n",
        "corpus = [el for el in phrase_model[corpus]] # We populate corpus again\n",
        "print(colored('\\n============= First review after N-gram replacement =============', 'blue'))\n",
        "print(corpus[0])"
      ],
      "metadata": {
        "id": "DRzgdaq-WOn4",
        "outputId": "02e660cf-e376-4b94-a9e4-cc8d32a71da1",
        "colab": {
          "base_uri": "https://localhost:8080/",
          "height": 156
        }
      },
      "execution_count": null,
      "outputs": [
        {
          "output_type": "display_data",
          "data": {
            "text/plain": [
              "<IPython.core.display.HTML object>"
            ],
            "text/html": [
              "\n",
              "  <style>\n",
              "    pre {\n",
              "        white-space: pre-wrap;\n",
              "    }\n",
              "  </style>\n",
              "  "
            ]
          },
          "metadata": {}
        },
        {
          "output_type": "stream",
          "name": "stdout",
          "text": [
            "\n",
            "============= First review in corpus =============\n",
            "['free', 'without', 'asking', 'quick', 'delivery', 'via', 'overnight', 'male', 'special', 'handling', 'ten', 'year', 'incubation', 'lost', '40', 'pound', 'two', 'week', 'cocktail', 'perrier', 'twist', 'azt', 'bactrim', 'broiled', 'bacon', 'bit', 'egg', 'lipid', 'quiche', 'brunch', 'tongue', 'ablaze', 'toast', 'point', 'soundless', 'howl', 'talented', 'mind', 'best', 'body', 'generation', 'going', 'smoke', 'act', 'dial', '1', '800', 'got', '2', 'operator', 'standing', 'photograph', 'prove', 'passed', 'away']\n",
            "\n",
            "============= First review after N-gram replacement =============\n",
            "['free', 'without', 'asking', 'quick', 'delivery', 'via', 'overnight', 'male', 'special', 'handling', 'ten_year', 'incubation', 'lost', '40', 'pound', 'two', 'week', 'cocktail', 'perrier', 'twist', 'azt', 'bactrim', 'broiled', 'bacon', 'bit', 'egg', 'lipid', 'quiche', 'brunch', 'tongue', 'ablaze', 'toast', 'point', 'soundless', 'howl', 'talented', 'mind', 'best', 'body', 'generation', 'going', 'smoke', 'act', 'dial', '1_800', 'got', '2', 'operator', 'standing', 'photograph', 'prove', 'passed', 'away']\n"
          ]
        }
      ]
    },
    {
      "cell_type": "code",
      "source": [
        "data['clean_tokens'] = corpus"
      ],
      "metadata": {
        "id": "Oq9uakdHXvBe",
        "outputId": "3408f8a8-8cd5-43e8-df4f-ff37d02c2df7",
        "colab": {
          "base_uri": "https://localhost:8080/",
          "height": 17
        }
      },
      "execution_count": null,
      "outputs": [
        {
          "output_type": "display_data",
          "data": {
            "text/plain": [
              "<IPython.core.display.HTML object>"
            ],
            "text/html": [
              "\n",
              "  <style>\n",
              "    pre {\n",
              "        white-space: pre-wrap;\n",
              "    }\n",
              "  </style>\n",
              "  "
            ]
          },
          "metadata": {}
        }
      ]
    },
    {
      "cell_type": "markdown",
      "source": [
        "To be able to work with the corpus, we need to vectorize all its documents. To do so, there are two steps we need to carry out:\n",
        "\n",
        "- Calculate the dictionary\n",
        "- Transform the documents using the dictionary"
      ],
      "metadata": {
        "id": "IfSn-uzJXCW-"
      }
    },
    {
      "cell_type": "code",
      "source": [
        "from gensim.corpora import Dictionary\n",
        "\n",
        "# Create dictionary of tokens\n",
        "D = Dictionary(corpus)\n",
        "n_tokens = len(D)\n",
        "\n",
        "print('The positive dictionary contains', n_tokens, 'terms')\n",
        "print('First terms in the dictionary:')\n",
        "for n in range(10):\n",
        "    print(str(n), ':', D[n])"
      ],
      "metadata": {
        "id": "IRXl4x1BXHwt",
        "outputId": "b82aacb6-e144-4186-f065-99b9263b354c",
        "colab": {
          "base_uri": "https://localhost:8080/",
          "height": 225
        }
      },
      "execution_count": null,
      "outputs": [
        {
          "output_type": "display_data",
          "data": {
            "text/plain": [
              "<IPython.core.display.HTML object>"
            ],
            "text/html": [
              "\n",
              "  <style>\n",
              "    pre {\n",
              "        white-space: pre-wrap;\n",
              "    }\n",
              "  </style>\n",
              "  "
            ]
          },
          "metadata": {}
        },
        {
          "output_type": "stream",
          "name": "stdout",
          "text": [
            "The positive dictionary contains 153463 terms\n",
            "First terms in the dictionary:\n",
            "0 : 1_800\n",
            "1 : 2\n",
            "2 : 40\n",
            "3 : ablaze\n",
            "4 : act\n",
            "5 : asking\n",
            "6 : away\n",
            "7 : azt\n",
            "8 : bacon\n",
            "9 : bactrim\n"
          ]
        }
      ]
    },
    {
      "cell_type": "markdown",
      "source": [
        "Now we are going to filter tokens that appears just once in a poem, and then see what is the most common and less common tokens."
      ],
      "metadata": {
        "id": "XvsvrCuCuHS5"
      }
    },
    {
      "cell_type": "code",
      "source": [
        "# Count the number of documents where each token appears\n",
        "token_ndocs = {}\n",
        "for doc in corpus:\n",
        "    unique_tokens = set(doc)\n",
        "    for token in unique_tokens:\n",
        "        token_ndocs[token] = token_ndocs.get(token, 0) + 1\n",
        "\n",
        "# Create DataFrame from token_ndocs\n",
        "df_token_ndocs = pd.DataFrame(token_ndocs.items(), columns=['token', 'ndocs'])\n",
        "\n",
        "# Sort the DataFrame by ndocs\n",
        "df_token_ndocs_sorted = df_token_ndocs.sort_values(by='ndocs', ascending=False)\n",
        "\n",
        "# Count tokens appearing in exactly one document\n",
        "tokens_in_one_doc = df_token_ndocs_sorted[df_token_ndocs_sorted['ndocs'] == 1]\n",
        "num_tokens_in_one_doc = len(tokens_in_one_doc)\n",
        "\n",
        "# Remove tokens appearing in exactly one document\n",
        "df_token_ndocs_filtered = df_token_ndocs_sorted[df_token_ndocs_sorted['ndocs'] > 1]\n",
        "\n",
        "# Most and least common tokens\n",
        "most_common_token = df_token_ndocs_filtered.iloc[0]['token']\n",
        "least_common_token = df_token_ndocs_filtered.iloc[-1]['token']\n",
        "\n",
        "print(\"Number of tokens appearing in exactly one document:\", num_tokens_in_one_doc)\n",
        "print(\"Most common token:\", most_common_token)\n",
        "print(\"Least common token:\", least_common_token)\n",
        "\n",
        "# Plot histogram of token appearances\n",
        "plt.hist(df_token_ndocs_filtered['ndocs'], bins=50, color='skyblue', edgecolor='black')\n",
        "plt.xlabel('Number of Document Appearances')\n",
        "plt.ylabel('Frequency')\n",
        "plt.title('Histogram of Token Appearances')\n",
        "plt.show()\n"
      ],
      "metadata": {
        "colab": {
          "base_uri": "https://localhost:8080/",
          "height": 524
        },
        "id": "5JlHLYoAt8bb",
        "outputId": "a7c74cd0-ca4c-4f55-aa20-0643e65f155d"
      },
      "execution_count": null,
      "outputs": [
        {
          "output_type": "display_data",
          "data": {
            "text/plain": [
              "<IPython.core.display.HTML object>"
            ],
            "text/html": [
              "\n",
              "  <style>\n",
              "    pre {\n",
              "        white-space: pre-wrap;\n",
              "    }\n",
              "  </style>\n",
              "  "
            ]
          },
          "metadata": {}
        },
        {
          "output_type": "stream",
          "name": "stdout",
          "text": [
            "Number of tokens appearing in exactly one document: 64732\n",
            "Most common token: like\n",
            "Least common token: whoa_zebe\n"
          ]
        },
        {
          "output_type": "display_data",
          "data": {
            "text/plain": [
              "<Figure size 640x480 with 1 Axes>"
            ],
            "image/png": "[encoded data removed]"
          },
          "metadata": {}
        }
      ]
    },
    {
      "cell_type": "markdown",
      "source": [
        "Next, we will filter out terms that appear in too few or too many of the documents in the dataset. This makes sense because:\n",
        "\n",
        "terms that appear in most documents are probably not very informative in the general context of a particular corpus\n",
        "terms that appear in a very reduced number of documents are not useful to find repetitive patterns across documents. In fact, in many cases, we find that many of the words that are eliminated for this reason can be typos."
      ],
      "metadata": {
        "id": "Dad3fkeWud01"
      }
    },
    {
      "cell_type": "code",
      "source": [
        "no_below = 4 #Minimum number of documents to keep a term in the dictionary\n",
        "no_above = .80 #Maximum proportion of documents in which a term can appear to be kept in the dictionary\n",
        "\n",
        "D.filter_extremes(no_below=no_below,no_above=no_above)\n",
        "n_tokens = len(D)\n",
        "\n",
        "print('The dictionary contains', n_tokens, 'terms')"
      ],
      "metadata": {
        "colab": {
          "base_uri": "https://localhost:8080/",
          "height": 34
        },
        "id": "j5Rt_vtfuYOu",
        "outputId": "b2e638f2-c150-4f17-a21d-1df7e34ee583"
      },
      "execution_count": null,
      "outputs": [
        {
          "output_type": "display_data",
          "data": {
            "text/plain": [
              "<IPython.core.display.HTML object>"
            ],
            "text/html": [
              "\n",
              "  <style>\n",
              "    pre {\n",
              "        white-space: pre-wrap;\n",
              "    }\n",
              "  </style>\n",
              "  "
            ]
          },
          "metadata": {}
        },
        {
          "output_type": "stream",
          "name": "stdout",
          "text": [
            "The dictionary contains 54719 terms\n"
          ]
        }
      ]
    },
    {
      "cell_type": "code",
      "source": [
        "corpus_def = []\n",
        "for sent in corpus:\n",
        "  aux = [token for token in sent if token in D.token2id.keys()]\n",
        "  corpus_def.append(aux)\n",
        "\n",
        "data['clean_tokens'] = corpus_def"
      ],
      "metadata": {
        "colab": {
          "base_uri": "https://localhost:8080/",
          "height": 17
        },
        "id": "aP1l8AX1useD",
        "outputId": "f953410e-0dc3-48d9-9a71-67210a11e443"
      },
      "execution_count": null,
      "outputs": [
        {
          "output_type": "display_data",
          "data": {
            "text/plain": [
              "<IPython.core.display.HTML object>"
            ],
            "text/html": [
              "\n",
              "  <style>\n",
              "    pre {\n",
              "        white-space: pre-wrap;\n",
              "    }\n",
              "  </style>\n",
              "  "
            ]
          },
          "metadata": {}
        }
      ]
    },
    {
      "cell_type": "code",
      "source": [
        "data.head(5)"
      ],
      "metadata": {
        "colab": {
          "base_uri": "https://localhost:8080/",
          "height": 206
        },
        "id": "aR_P9AVUu5Ab",
        "outputId": "e377ec3c-23de-47db-dd14-49ee6d2d4046"
      },
      "execution_count": null,
      "outputs": [
        {
          "output_type": "display_data",
          "data": {
            "text/plain": [
              "<IPython.core.display.HTML object>"
            ],
            "text/html": [
              "\n",
              "  <style>\n",
              "    pre {\n",
              "        white-space: pre-wrap;\n",
              "    }\n",
              "  </style>\n",
              "  "
            ]
          },
          "metadata": {}
        },
        {
          "output_type": "execute_result",
          "data": {
            "text/plain": [
              "                          title                   author  \\\n",
              "0   The 80&rsquo;s Miracle Diet          By Melvin Dixon   \n",
              "1             All Saints&rsquo;  By Corey Van Landingham   \n",
              "2  And These Are Just a Few ...          By Melvin Dixon   \n",
              "3                          ASMR  By Corey Van Landingham   \n",
              "4                          ASMR  By Corey Van Landingham   \n",
              "\n",
              "                                          categories  \\\n",
              "0                     ['Living', 'Health & Illness']   \n",
              "1                                                 []   \n",
              "2  ['Living', 'Health & Illness', 'Social Comment...   \n",
              "3                                                 []   \n",
              "4                                                 []   \n",
              "\n",
              "                                        clean_tokens  \n",
              "0  [free, without, asking, quick, delivery, via, ...  \n",
              "1  [caravaggio, face, sunken, pumpkin, bulb, rott...  \n",
              "2  [poem, epidemic, dead, living, remember, neigh...  \n",
              "3  [climb, mountain, delight, world, thin, meridi...  \n",
              "4  [hello, tonight, trace, static, bough, tailbon...  "
            ],
            "text/html": [
              "\n",
              "  <div id=\"df-c2c79836-18ac-44be-8730-5f40a9c6459c\" class=\"colab-df-container\">\n",
              "    <div>\n",
              "<style scoped>\n",
              "    .dataframe tbody tr th:only-of-type {\n",
              "        vertical-align: middle;\n",
              "    }\n",
              "\n",
              "    .dataframe tbody tr th {\n",
              "        vertical-align: top;\n",
              "    }\n",
              "\n",
              "    .dataframe thead th {\n",
              "        text-align: right;\n",
              "    }\n",
              "</style>\n",
              "<table border=\"1\" class=\"dataframe\">\n",
              "  <thead>\n",
              "    <tr style=\"text-align: right;\">\n",
              "      <th></th>\n",
              "      <th>title</th>\n",
              "      <th>author</th>\n",
              "      <th>categories</th>\n",
              "      <th>clean_tokens</th>\n",
              "    </tr>\n",
              "  </thead>\n",
              "  <tbody>\n",
              "    <tr>\n",
              "      <th>0</th>\n",
              "      <td>The 80&amp;rsquo;s Miracle Diet</td>\n",
              "      <td>By Melvin Dixon</td>\n",
              "      <td>['Living', 'Health &amp; Illness']</td>\n",
              "      <td>[free, without, asking, quick, delivery, via, ...</td>\n",
              "    </tr>\n",
              "    <tr>\n",
              "      <th>1</th>\n",
              "      <td>All Saints&amp;rsquo;</td>\n",
              "      <td>By Corey Van Landingham</td>\n",
              "      <td>[]</td>\n",
              "      <td>[caravaggio, face, sunken, pumpkin, bulb, rott...</td>\n",
              "    </tr>\n",
              "    <tr>\n",
              "      <th>2</th>\n",
              "      <td>And These Are Just a Few ...</td>\n",
              "      <td>By Melvin Dixon</td>\n",
              "      <td>['Living', 'Health &amp; Illness', 'Social Comment...</td>\n",
              "      <td>[poem, epidemic, dead, living, remember, neigh...</td>\n",
              "    </tr>\n",
              "    <tr>\n",
              "      <th>3</th>\n",
              "      <td>ASMR</td>\n",
              "      <td>By Corey Van Landingham</td>\n",
              "      <td>[]</td>\n",
              "      <td>[climb, mountain, delight, world, thin, meridi...</td>\n",
              "    </tr>\n",
              "    <tr>\n",
              "      <th>4</th>\n",
              "      <td>ASMR</td>\n",
              "      <td>By Corey Van Landingham</td>\n",
              "      <td>[]</td>\n",
              "      <td>[hello, tonight, trace, static, bough, tailbon...</td>\n",
              "    </tr>\n",
              "  </tbody>\n",
              "</table>\n",
              "</div>\n",
              "    <div class=\"colab-df-buttons\">\n",
              "\n",
              "  <div class=\"colab-df-container\">\n",
              "    <button class=\"colab-df-convert\" onclick=\"convertToInteractive('df-c2c79836-18ac-44be-8730-5f40a9c6459c')\"\n",
              "            title=\"Convert this dataframe to an interactive table.\"\n",
              "            style=\"display:none;\">\n",
              "\n",
              "  <svg xmlns=\"http://www.w3.org/2000/svg\" height=\"24px\" viewBox=\"0 -960 960 960\">\n",
              "    <path d=\"M120-120v-720h720v720H120Zm60-500h600v-160H180v160Zm220 220h160v-160H400v160Zm0 220h160v-160H400v160ZM180-400h160v-160H180v160Zm440 0h160v-160H620v160ZM180-180h160v-160H180v160Zm440 0h160v-160H620v160Z\"/>\n",
              "  </svg>\n",
              "    </button>\n",
              "\n",
              "  <style>\n",
              "    .colab-df-container {\n",
              "      display:flex;\n",
              "      gap: 12px;\n",
              "    }\n",
              "\n",
              "    .colab-df-convert {\n",
              "      background-color: #E8F0FE;\n",
              "      border: none;\n",
              "      border-radius: 50%;\n",
              "      cursor: pointer;\n",
              "      display: none;\n",
              "      fill: #1967D2;\n",
              "      height: 32px;\n",
              "      padding: 0 0 0 0;\n",
              "      width: 32px;\n",
              "    }\n",
              "\n",
              "    .colab-df-convert:hover {\n",
              "      background-color: #E2EBFA;\n",
              "      box-shadow: 0px 1px 2px rgba(60, 64, 67, 0.3), 0px 1px 3px 1px rgba(60, 64, 67, 0.15);\n",
              "      fill: #174EA6;\n",
              "    }\n",
              "\n",
              "    .colab-df-buttons div {\n",
              "      margin-bottom: 4px;\n",
              "    }\n",
              "\n",
              "    [theme=dark] .colab-df-convert {\n",
              "      background-color: #3B4455;\n",
              "      fill: #D2E3FC;\n",
              "    }\n",
              "\n",
              "    [theme=dark] .colab-df-convert:hover {\n",
              "      background-color: #434B5C;\n",
              "      box-shadow: 0px 1px 3px 1px rgba(0, 0, 0, 0.15);\n",
              "      filter: drop-shadow(0px 1px 2px rgba(0, 0, 0, 0.3));\n",
              "      fill: #FFFFFF;\n",
              "    }\n",
              "  </style>\n",
              "\n",
              "    <script>\n",
              "      const buttonEl =\n",
              "        document.querySelector('#df-c2c79836-18ac-44be-8730-5f40a9c6459c button.colab-df-convert');\n",
              "      buttonEl.style.display =\n",
              "        google.colab.kernel.accessAllowed ? 'block' : 'none';\n",
              "\n",
              "      async function convertToInteractive(key) {\n",
              "        const element = document.querySelector('#df-c2c79836-18ac-44be-8730-5f40a9c6459c');\n",
              "        const dataTable =\n",
              "          await google.colab.kernel.invokeFunction('convertToInteractive',\n",
              "                                                    [key], {});\n",
              "        if (!dataTable) return;\n",
              "\n",
              "        const docLinkHtml = 'Like what you see? Visit the ' +\n",
              "          '<a target=\"_blank\" href=https://colab.research.google.com/notebooks/data_table.ipynb>data table notebook</a>'\n",
              "          + ' to learn more about interactive tables.';\n",
              "        element.innerHTML = '';\n",
              "        dataTable['output_type'] = 'display_data';\n",
              "        await google.colab.output.renderOutput(dataTable, element);\n",
              "        const docLink = document.createElement('div');\n",
              "        docLink.innerHTML = docLinkHtml;\n",
              "        element.appendChild(docLink);\n",
              "      }\n",
              "    </script>\n",
              "  </div>\n",
              "\n",
              "\n",
              "<div id=\"df-c189f9e4-5eb2-4953-b4cd-b301824b02f7\">\n",
              "  <button class=\"colab-df-quickchart\" onclick=\"quickchart('df-c189f9e4-5eb2-4953-b4cd-b301824b02f7')\"\n",
              "            title=\"Suggest charts\"\n",
              "            style=\"display:none;\">\n",
              "\n",
              "<svg xmlns=\"http://www.w3.org/2000/svg\" height=\"24px\"viewBox=\"0 0 24 24\"\n",
              "     width=\"24px\">\n",
              "    <g>\n",
              "        <path d=\"M19 3H5c-1.1 0-2 .9-2 2v14c0 1.1.9 2 2 2h14c1.1 0 2-.9 2-2V5c0-1.1-.9-2-2-2zM9 17H7v-7h2v7zm4 0h-2V7h2v10zm4 0h-2v-4h2v4z\"/>\n",
              "    </g>\n",
              "</svg>\n",
              "  </button>\n",
              "\n",
              "<style>\n",
              "  .colab-df-quickchart {\n",
              "      --bg-color: #E8F0FE;\n",
              "      --fill-color: #1967D2;\n",
              "      --hover-bg-color: #E2EBFA;\n",
              "      --hover-fill-color: #174EA6;\n",
              "      --disabled-fill-color: #AAA;\n",
              "      --disabled-bg-color: #DDD;\n",
              "  }\n",
              "\n",
              "  [theme=dark] .colab-df-quickchart {\n",
              "      --bg-color: #3B4455;\n",
              "      --fill-color: #D2E3FC;\n",
              "      --hover-bg-color: #434B5C;\n",
              "      --hover-fill-color: #FFFFFF;\n",
              "      --disabled-bg-color: #3B4455;\n",
              "      --disabled-fill-color: #666;\n",
              "  }\n",
              "\n",
              "  .colab-df-quickchart {\n",
              "    background-color: var(--bg-color);\n",
              "    border: none;\n",
              "    border-radius: 50%;\n",
              "    cursor: pointer;\n",
              "    display: none;\n",
              "    fill: var(--fill-color);\n",
              "    height: 32px;\n",
              "    padding: 0;\n",
              "    width: 32px;\n",
              "  }\n",
              "\n",
              "  .colab-df-quickchart:hover {\n",
              "    background-color: var(--hover-bg-color);\n",
              "    box-shadow: 0 1px 2px rgba(60, 64, 67, 0.3), 0 1px 3px 1px rgba(60, 64, 67, 0.15);\n",
              "    fill: var(--button-hover-fill-color);\n",
              "  }\n",
              "\n",
              "  .colab-df-quickchart-complete:disabled,\n",
              "  .colab-df-quickchart-complete:disabled:hover {\n",
              "    background-color: var(--disabled-bg-color);\n",
              "    fill: var(--disabled-fill-color);\n",
              "    box-shadow: none;\n",
              "  }\n",
              "\n",
              "  .colab-df-spinner {\n",
              "    border: 2px solid var(--fill-color);\n",
              "    border-color: transparent;\n",
              "    border-bottom-color: var(--fill-color);\n",
              "    animation:\n",
              "      spin 1s steps(1) infinite;\n",
              "  }\n",
              "\n",
              "  @keyframes spin {\n",
              "    0% {\n",
              "      border-color: transparent;\n",
              "      border-bottom-color: var(--fill-color);\n",
              "      border-left-color: var(--fill-color);\n",
              "    }\n",
              "    20% {\n",
              "      border-color: transparent;\n",
              "      border-left-color: var(--fill-color);\n",
              "      border-top-color: var(--fill-color);\n",
              "    }\n",
              "    30% {\n",
              "      border-color: transparent;\n",
              "      border-left-color: var(--fill-color);\n",
              "      border-top-color: var(--fill-color);\n",
              "      border-right-color: var(--fill-color);\n",
              "    }\n",
              "    40% {\n",
              "      border-color: transparent;\n",
              "      border-right-color: var(--fill-color);\n",
              "      border-top-color: var(--fill-color);\n",
              "    }\n",
              "    60% {\n",
              "      border-color: transparent;\n",
              "      border-right-color: var(--fill-color);\n",
              "    }\n",
              "    80% {\n",
              "      border-color: transparent;\n",
              "      border-right-color: var(--fill-color);\n",
              "      border-bottom-color: var(--fill-color);\n",
              "    }\n",
              "    90% {\n",
              "      border-color: transparent;\n",
              "      border-bottom-color: var(--fill-color);\n",
              "    }\n",
              "  }\n",
              "</style>\n",
              "\n",
              "  <script>\n",
              "    async function quickchart(key) {\n",
              "      const quickchartButtonEl =\n",
              "        document.querySelector('#' + key + ' button');\n",
              "      quickchartButtonEl.disabled = true;  // To prevent multiple clicks.\n",
              "      quickchartButtonEl.classList.add('colab-df-spinner');\n",
              "      try {\n",
              "        const charts = await google.colab.kernel.invokeFunction(\n",
              "            'suggestCharts', [key], {});\n",
              "      } catch (error) {\n",
              "        console.error('Error during call to suggestCharts:', error);\n",
              "      }\n",
              "      quickchartButtonEl.classList.remove('colab-df-spinner');\n",
              "      quickchartButtonEl.classList.add('colab-df-quickchart-complete');\n",
              "    }\n",
              "    (() => {\n",
              "      let quickchartButtonEl =\n",
              "        document.querySelector('#df-c189f9e4-5eb2-4953-b4cd-b301824b02f7 button');\n",
              "      quickchartButtonEl.style.display =\n",
              "        google.colab.kernel.accessAllowed ? 'block' : 'none';\n",
              "    })();\n",
              "  </script>\n",
              "</div>\n",
              "    </div>\n",
              "  </div>\n"
            ],
            "application/vnd.google.colaboratory.intrinsic+json": {
              "type": "dataframe",
              "variable_name": "data",
              "summary": "{\n  \"name\": \"data\",\n  \"rows\": 44862,\n  \"fields\": [\n    {\n      \"column\": \"title\",\n      \"properties\": {\n        \"dtype\": \"string\",\n        \"num_unique_values\": 38607,\n        \"samples\": [\n          \"Fiasco in Fresco\",\n          \"A Lexicon for People Who Don't Talk Too Much\",\n          \"(\\\"This leaf had eyes...\\\")\"\n        ],\n        \"semantic_type\": \"\",\n        \"description\": \"\"\n      }\n    },\n    {\n      \"column\": \"author\",\n      \"properties\": {\n        \"dtype\": \"category\",\n        \"num_unique_values\": 7989,\n        \"samples\": [\n          \"By Gerald Jonas\",\n          \"By Richard Duerden\",\n          \"By Ellen Tifft\"\n        ],\n        \"semantic_type\": \"\",\n        \"description\": \"\"\n      }\n    },\n    {\n      \"column\": \"categories\",\n      \"properties\": {\n        \"dtype\": \"category\",\n        \"num_unique_values\": 12313,\n        \"samples\": [\n          \"['Living', 'Life Choices', 'Social Commentaries', 'War & Conflict', 'Villanelle']\",\n          \"['Living', 'Parenthood', 'Activities', 'School & Learning', 'Relationships', 'Home Life', 'Philosophy', 'Free Verse']\",\n          \"['Living', 'Life Choices', 'Love', 'Religion', 'Arts & Sciences', 'Language & Linguistics', 'Social Commentaries', 'History & Politics', 'Race & Ethnicity']\"\n        ],\n        \"semantic_type\": \"\",\n        \"description\": \"\"\n      }\n    },\n    {\n      \"column\": \"clean_tokens\",\n      \"properties\": {\n        \"dtype\": \"object\",\n        \"semantic_type\": \"\",\n        \"description\": \"\"\n      }\n    }\n  ]\n}"
            }
          },
          "metadata": {},
          "execution_count": 46
        }
      ]
    },
    {
      "cell_type": "markdown",
      "source": [
        "## Bag-Of-Words (BoW)\n",
        "\n",
        "Now we are going to create the BoW representation of our corpus"
      ],
      "metadata": {
        "id": "uiiGFg3XUWUW"
      }
    },
    {
      "cell_type": "code",
      "source": [
        "poems_bow = [D.doc2bow(doc) for doc in corpus]\n",
        "\n",
        "n_poem = 1000\n",
        "print(colored('============= Poem (lemmas) =============', 'blue'))\n",
        "print(' '.join(corpus[n_poem]))\n",
        "\n",
        "print(colored('\\n============= Sparse vector representation =============', 'blue'))\n",
        "print(poems_bow[n_poem])\n",
        "\n",
        "print(colored('\\n============= Word counts for the poem =============', 'blue'))\n",
        "print(list(map(lambda x: (D[x[0]], x[1]), poems_bow[n_poem])))"
      ],
      "metadata": {
        "id": "5IWHXT8dTyAm",
        "colab": {
          "base_uri": "https://localhost:8080/",
          "height": 173
        },
        "outputId": "b24861f9-4a4d-413e-f821-64d6ddcec0aa"
      },
      "execution_count": null,
      "outputs": [
        {
          "output_type": "display_data",
          "data": {
            "text/plain": [
              "<IPython.core.display.HTML object>"
            ],
            "text/html": [
              "\n",
              "  <style>\n",
              "    pre {\n",
              "        white-space: pre-wrap;\n",
              "    }\n",
              "  </style>\n",
              "  "
            ]
          },
          "metadata": {}
        },
        {
          "output_type": "stream",
          "name": "stdout",
          "text": [
            "============= Poem (lemmas) =============\n",
            "spirit live like leaf bowing tree curtsying breaking fencing wind brushing bruising mingling say live death singular unregenerating event continue constant_flux surmount itinerant style incalculable storm\n",
            "\n",
            "============= Sparse vector representation =============\n",
            "[(82, 1), (265, 1), (268, 1), (286, 1), (519, 1), (860, 1), (1360, 1), (1378, 1), (1400, 1), (1463, 1), (1492, 2), (3651, 1), (8849, 1), (9263, 1), (9497, 1), (12055, 1), (15666, 1), (17626, 1), (18197, 1), (18198, 1), (18199, 1), (18200, 1), (18201, 1)]\n",
            "\n",
            "============= Word counts for the poem =============\n",
            "[('say', 1), ('leaf', 1), ('like', 1), ('tree', 1), ('continue', 1), ('wind', 1), ('spirit', 1), ('death', 1), ('breaking', 1), ('storm', 1), ('live', 2), ('event', 1), ('singular', 1), ('brushing', 1), ('style', 1), ('curtsying', 1), ('mingling', 1), ('bruising', 1), ('bowing', 1), ('fencing', 1), ('incalculable', 1), ('itinerant', 1), ('surmount', 1)]\n"
          ]
        }
      ]
    },
    {
      "cell_type": "markdown",
      "source": [
        "## TF-IDF vectorization"
      ],
      "metadata": {
        "id": "lkEE0VHu-OfW"
      }
    },
    {
      "cell_type": "code",
      "source": [
        "from gensim.models import TfidfModel\n",
        "\n",
        "tfidf = TfidfModel(poems_bow)"
      ],
      "metadata": {
        "colab": {
          "base_uri": "https://localhost:8080/",
          "height": 17
        },
        "id": "2C6kcsYHvp6N",
        "outputId": "c754e73a-311d-4288-ed8c-9bfe7487e267"
      },
      "execution_count": null,
      "outputs": [
        {
          "output_type": "display_data",
          "data": {
            "text/plain": [
              "<IPython.core.display.HTML object>"
            ],
            "text/html": [
              "\n",
              "  <style>\n",
              "    pre {\n",
              "        white-space: pre-wrap;\n",
              "    }\n",
              "  </style>\n",
              "  "
            ]
          },
          "metadata": {}
        }
      ]
    },
    {
      "cell_type": "code",
      "source": [
        "poems_tfidf = tfidf[poems_bow]\n",
        "n_poem = 1000\n",
        "print(colored('============= TFIDF representation for the poem =============', 'blue'))\n",
        "print(poems_tfidf[n_poem])\n",
        "\n",
        "print(colored('\\n============= TFIDF applying the transformation only to the document =============', 'blue'))\n",
        "print(tfidf[poems_tfidf[n_poem]])"
      ],
      "metadata": {
        "id": "fPWl9WLq_NZI",
        "outputId": "8c08ec14-c283-4644-98f1-0a11f26fbf21",
        "colab": {
          "base_uri": "https://localhost:8080/",
          "height": 173
        }
      },
      "execution_count": null,
      "outputs": [
        {
          "output_type": "display_data",
          "data": {
            "text/plain": [
              "<IPython.core.display.HTML object>"
            ],
            "text/html": [
              "\n",
              "  <style>\n",
              "    pre {\n",
              "        white-space: pre-wrap;\n",
              "    }\n",
              "  </style>\n",
              "  "
            ]
          },
          "metadata": {}
        },
        {
          "output_type": "stream",
          "name": "stdout",
          "text": [
            "============= TFIDF representation for the poem =============\n",
            "[(82, 0.06699271872826644), (265, 0.08110953470614149), (268, 0.028617708080880017), (286, 0.07355578111407095), (519, 0.19479685283190978), (860, 0.07082705381727379), (1360, 0.1234239244852855), (1378, 0.08139280305232272), (1400, 0.15733600642068307), (1463, 0.12763636049568503), (1492, 0.20914442846397704), (3651, 0.18033040979542936), (8849, 0.2185933179823583), (9263, 0.22562526109148617), (9497, 0.18494188750484242), (12055, 0.35107973164881207), (15666, 0.24850179022800264), (17626, 0.27649682724092056), (18197, 0.2284153588727695), (18198, 0.29660454731083846), (18199, 0.2752204646396585), (18200, 0.30391434475059115), (18201, 0.3129938769533993)]\n",
            "\n",
            "============= TFIDF applying the transformation only to the document =============\n",
            "[(82, 0.01702763651561408), (265, 0.024959908281166437), (268, 0.0031071975345995846), (286, 0.02052734533590605), (519, 0.14396702729735203), (860, 0.019032573641424886), (1360, 0.05779601139408114), (1378, 0.025134553550065844), (1400, 0.09391942176234898), (1463, 0.061808469391789356), (1492, 0.08297777181711485), (3651, 0.12337782340949596), (8849, 0.18128961616267253), (9263, 0.1931410591643322), (9497, 0.12976863500976915), (12055, 0.46763895411355333), (15666, 0.2342924040393262), (17626, 0.290054407730403), (18197, 0.19794738596504674), (18198, 0.3337757458883804), (18199, 0.2873826945602826), (18200, 0.3504302299107425), (18201, 0.37168141709352526)]\n"
          ]
        }
      ]
    },
    {
      "cell_type": "markdown",
      "source": [
        "# Word2Vec"
      ],
      "metadata": {
        "id": "mVCoughflRbf"
      }
    },
    {
      "cell_type": "code",
      "source": [
        "from gensim.models import Word2Vec\n",
        "\n",
        "word2vec_model = Word2Vec(corpus, vector_size=100, window=5, min_count=1, workers=4)\n",
        "\n",
        "poem_word2vec = word2vec_model.wv[corpus[n_poem]]"
      ],
      "metadata": {
        "colab": {
          "base_uri": "https://localhost:8080/",
          "height": 17
        },
        "id": "QJiPzWk-lTuQ",
        "outputId": "95ec1988-51e4-4cb6-9f31-0f60d43a6600"
      },
      "execution_count": 51,
      "outputs": [
        {
          "output_type": "display_data",
          "data": {
            "text/plain": [
              "<IPython.core.display.HTML object>"
            ],
            "text/html": [
              "\n",
              "  <style>\n",
              "    pre {\n",
              "        white-space: pre-wrap;\n",
              "    }\n",
              "  </style>\n",
              "  "
            ]
          },
          "metadata": {}
        }
      ]
    },
    {
      "cell_type": "code",
      "source": [
        "print(colored('============= Word2Vec representation for the poem =============', 'blue'))\n",
        "print(poem_word2vec)"
      ],
      "metadata": {
        "colab": {
          "base_uri": "https://localhost:8080/",
          "height": 260
        },
        "id": "NPECaE62lfRv",
        "outputId": "a0a2c88c-1b33-4de1-ceb0-b9d3c9a1b09a"
      },
      "execution_count": 52,
      "outputs": [
        {
          "output_type": "display_data",
          "data": {
            "text/plain": [
              "<IPython.core.display.HTML object>"
            ],
            "text/html": [
              "\n",
              "  <style>\n",
              "    pre {\n",
              "        white-space: pre-wrap;\n",
              "    }\n",
              "  </style>\n",
              "  "
            ]
          },
          "metadata": {}
        },
        {
          "output_type": "stream",
          "name": "stdout",
          "text": [
            "============= Word2Vec representation for the poem =============\n",
            "[[ 0.03433193  0.12383023 -0.5725978  ... -0.69032097 -1.9237814\n",
            "  -1.3658652 ]\n",
            " [-0.4138915   0.8505663  -1.2421802  ... -1.2691548  -0.36598414\n",
            "   0.6070036 ]\n",
            " [ 0.16458677  0.93571997 -0.10923214 ... -1.760463   -0.15582535\n",
            "  -0.75267595]\n",
            " ...\n",
            " [-0.21029481  0.716379    0.06520023 ... -0.65569526 -0.05418205\n",
            "  -0.05593545]\n",
            " [-0.1466209   0.16384107  0.03163142 ... -0.20477967 -0.2570042\n",
            "  -0.18818969]\n",
            " [ 0.4676429  -0.25508544 -0.14526719 ... -0.46325675 -2.126032\n",
            "  -0.6991453 ]]\n"
          ]
        }
      ]
    },
    {
      "cell_type": "code",
      "source": [
        "from gensim.models.ldamodel import LdaModel\n",
        "\n",
        "\n",
        "num_topics = 20 #Cambiar segun se vea necesario\n",
        "\n",
        "ldag = LdaModel(corpus=poems_bow, id2word=D, num_topics=num_topics)"
      ],
      "metadata": {
        "colab": {
          "base_uri": "https://localhost:8080/",
          "height": 17
        },
        "id": "T4Szp-UZnqT9",
        "outputId": "f44c8a71-a1a4-499d-f1bf-d9108df1903b"
      },
      "execution_count": 58,
      "outputs": [
        {
          "output_type": "display_data",
          "data": {
            "text/plain": [
              "<IPython.core.display.HTML object>"
            ],
            "text/html": [
              "\n",
              "  <style>\n",
              "    pre {\n",
              "        white-space: pre-wrap;\n",
              "    }\n",
              "  </style>\n",
              "  "
            ]
          },
          "metadata": {}
        }
      ]
    },
    {
      "cell_type": "code",
      "source": [
        "ldag.show_topics(num_topics=-1, num_words=10, log=False, formatted=True)\n"
      ],
      "metadata": {
        "colab": {
          "base_uri": "https://localhost:8080/",
          "height": 711
        },
        "id": "1C1rHxs47-lc",
        "outputId": "f10b1dd0-9c52-4dc6-8525-3468a47a02ae"
      },
      "execution_count": 59,
      "outputs": [
        {
          "output_type": "display_data",
          "data": {
            "text/plain": [
              "<IPython.core.display.HTML object>"
            ],
            "text/html": [
              "\n",
              "  <style>\n",
              "    pre {\n",
              "        white-space: pre-wrap;\n",
              "    }\n",
              "  </style>\n",
              "  "
            ]
          },
          "metadata": {}
        },
        {
          "output_type": "execute_result",
          "data": {
            "text/plain": [
              "[(0,\n",
              "  '0.026*\"193\" + 0.024*\"189\" + 0.022*\"137\" + 0.020*\"125\" + 0.015*\"300\" + 0.014*\"inn\" + 0.008*\"165\" + 0.007*\"bacchus\" + 0.007*\"fervor\" + 0.006*\"discreet\"'),\n",
              " (1,\n",
              "  '0.034*\"god\" + 0.034*\"let\" + 0.021*\"lord\" + 0.013*\"shepherd\" + 0.013*\"whence\" + 0.012*\"rome\" + 0.011*\"men\" + 0.009*\"adam\" + 0.009*\"king\" + 0.008*\"soaring\"'),\n",
              " (2,\n",
              "  '0.020*\"night\" + 0.018*\"room\" + 0.012*\"door\" + 0.010*\"sleep\" + 0.010*\"house\" + 0.009*\"window\" + 0.008*\"like\" + 0.007*\"bed\" + 0.007*\"back\" + 0.006*\"child\"'),\n",
              " (3,\n",
              "  '0.053*\"â_â\" + 0.022*\"sultry\" + 0.018*\"editor\" + 0.017*\"madame\" + 0.015*\"â\" + 0.014*\"delightful\" + 0.013*\"aught\" + 0.010*\"beat_beat\" + 0.008*\"lunged\" + 0.007*\"thicken\"'),\n",
              " (4,\n",
              "  '0.009*\"old\" + 0.007*\"like\" + 0.007*\"man\" + 0.006*\"poet\" + 0.005*\"one\" + 0.004*\"men\" + 0.004*\"poetry\" + 0.004*\"america\" + 0.004*\"verse\" + 0.003*\"poem\"'),\n",
              " (5,\n",
              "  '0.013*\"say\" + 0.012*\"poem\" + 0.011*\"know\" + 0.010*\"ha\" + 0.010*\"one\" + 0.008*\"thing\" + 0.008*\"poetry\" + 0.007*\"time\" + 0.007*\"word\" + 0.006*\"think\"'),\n",
              " (6,\n",
              "  '0.019*\"magazine_verse\" + 0.016*\"like\" + 0.010*\"white\" + 0.007*\"eye\" + 0.007*\"light\" + 0.006*\"blue\" + 0.006*\"wind\" + 0.006*\"sun\" + 0.005*\"green\" + 0.005*\"sky\"'),\n",
              " (7,\n",
              "  '0.017*\"fiddle\" + 0.017*\"shabby\" + 0.011*\"water_lily\" + 0.011*\"reaping\" + 0.011*\"traveller\" + 0.010*\"junk\" + 0.009*\"flecked\" + 0.009*\"tulip\" + 0.009*\"albert\" + 0.008*\"thudding\"'),\n",
              " (8,\n",
              "  '0.082*\"e\" + 0.020*\"257\" + 0.019*\"124\" + 0.016*\"127\" + 0.013*\"wa\" + 0.010*\"ye\" + 0.010*\"fo\" + 0.010*\"er\" + 0.009*\"ne\" + 0.009*\"en\"'),\n",
              " (9,\n",
              "  '0.013*\"heart\" + 0.011*\"upon\" + 0.010*\"love\" + 0.009*\"earth\" + 0.008*\"song\" + 0.008*\"wa\" + 0.007*\"one\" + 0.007*\"shall\" + 0.007*\"flower\" + 0.007*\"dream\"'),\n",
              " (10,\n",
              "  '0.014*\"nun\" + 0.013*\"clouded\" + 0.012*\"spoil\" + 0.010*\"66\" + 0.010*\"loon\" + 0.010*\"64\" + 0.008*\"looking_glass\" + 0.008*\"mystical\" + 0.007*\"wistfully\" + 0.007*\"litany\"'),\n",
              " (11,\n",
              "  '0.042*\"wa\" + 0.016*\"would\" + 0.014*\"one\" + 0.011*\"like\" + 0.010*\"could\" + 0.009*\"said\" + 0.007*\"day\" + 0.006*\"little\" + 0.005*\"time\" + 0.005*\"never\"'),\n",
              " (12,\n",
              "  '0.017*\"one\" + 0.007*\"like\" + 0.006*\"sea\" + 0.005*\"two\" + 0.005*\"day\" + 0.004*\"time\" + 0.004*\"poetry\" + 0.004*\"water\" + 0.004*\"end\" + 0.004*\"ha\"'),\n",
              " (13,\n",
              "  '0.016*\"like\" + 0.015*\"sea\" + 0.013*\"wind\" + 0.011*\"water\" + 0.008*\"come\" + 0.008*\"light\" + 0.007*\"sky\" + 0.007*\"see\" + 0.007*\"wave\" + 0.006*\"night\"'),\n",
              " (14,\n",
              "  '0.012*\"love\" + 0.009*\"like\" + 0.008*\"come\" + 0.008*\"time\" + 0.007*\"go\" + 0.007*\"life\" + 0.007*\"would\" + 0.006*\"one\" + 0.006*\"word\" + 0.005*\"know\"'),\n",
              " (15,\n",
              "  '0.020*\"old\" + 0.020*\"wa\" + 0.019*\"child\" + 0.018*\"mother\" + 0.014*\"man\" + 0.011*\"men\" + 0.011*\"said\" + 0.010*\"dead\" + 0.010*\"woman\" + 0.010*\"father\"'),\n",
              " (16,\n",
              "  '0.009*\"thrush\" + 0.009*\"swiftly\" + 0.005*\"jeweled\" + 0.004*\"mus\" + 0.004*\"il\" + 0.004*\"250\" + 0.004*\"like\" + 0.004*\"jade\" + 0.004*\"bird\" + 0.003*\"one\"'),\n",
              " (17,\n",
              "  '0.071*\"god\" + 0.005*\"lion\" + 0.005*\"speak\" + 0.005*\"beast\" + 0.005*\"spire\" + 0.005*\"monstrous\" + 0.005*\"iam\" + 0.005*\"wolf\" + 0.004*\"eye\" + 0.004*\"man\"'),\n",
              " (18,\n",
              "  '0.028*\"shall\" + 0.024*\"thy\" + 0.020*\"love\" + 0.012*\"thee\" + 0.009*\"may\" + 0.008*\"heart\" + 0.008*\"thou\" + 0.008*\"oh\" + 0.007*\"would\" + 0.006*\"yet\"'),\n",
              " (19,\n",
              "  '0.057*\"de\" + 0.024*\"h\" + 0.021*\"c\" + 0.020*\"f\" + 0.020*\"un\" + 0.020*\"b\" + 0.017*\"77\" + 0.016*\"w\" + 0.015*\"l\" + 0.015*\"ti\"')]"
            ]
          },
          "metadata": {},
          "execution_count": 59
        }
      ]
    },
    {
      "cell_type": "code",
      "source": [
        "topn = 25\n",
        "\n",
        "fig, axes = plt.subplots(4, 5, figsize=(16, 16), sharex=True)\n",
        "\n",
        "for i in range(4):\n",
        "    for j in range(5):\n",
        "        # Calculate the starting topic number for the current subplot\n",
        "        topic_num = i * 5 + j\n",
        "\n",
        "        # Build a dataframe with columns 'token' and 'weight' for the current topic\n",
        "        topic_tokens = ldag.show_topic(topic_num, topn=topn)\n",
        "        df = pd.DataFrame(topic_tokens, columns=['token', 'weight'])\n",
        "\n",
        "        # Plot the top words for the current topic\n",
        "        sns.barplot(x='weight', y='token', data=df, color='c', orient='h', ax=axes[i][j])\n",
        "        axes[i][j].set_title('Topic ' + str(topic_num))\n",
        "\n",
        "plt.tight_layout()\n",
        "plt.show()"
      ],
      "metadata": {
        "colab": {
          "base_uri": "https://localhost:8080/",
          "height": 1000
        },
        "id": "yURSkSq883ox",
        "outputId": "78b8b03a-940a-48dd-8bef-b9127e26ec7d"
      },
      "execution_count": 60,
      "outputs": [
        {
          "output_type": "display_data",
          "data": {
            "text/plain": [
              "<IPython.core.display.HTML object>"
            ],
            "text/html": [
              "\n",
              "  <style>\n",
              "    pre {\n",
              "        white-space: pre-wrap;\n",
              "    }\n",
              "  </style>\n",
              "  "
            ]
          },
          "metadata": {}
        },
        {
          "output_type": "display_data",
          "data": {
            "text/plain": [
              "<Figure size 1600x1600 with 20 Axes>"
            ],
            "image/png": "[encoded data removed]"
          },
          "metadata": {}
        }
      ]
    },
    {
      "cell_type": "code",
      "source": [],
      "metadata": {
        "id": "KpTwu16H9qi_"
      },
      "execution_count": null,
      "outputs": []
    }
  ],
  "metadata": {
    "kernelspec": {
      "display_name": "base",
      "language": "python",
      "name": "python3"
    },
    "language_info": {
      "codemirror_mode": {
        "name": "ipython",
        "version": 3
      },
      "file_extension": ".py",
      "mimetype": "text/x-python",
      "name": "python",
      "nbconvert_exporter": "python",
      "pygments_lexer": "ipython3",
      "version": "3.11.5"
    },
    "colab": {
      "provenance": []
    }
  },
  "nbformat": 4,
  "nbformat_minor": 0
}