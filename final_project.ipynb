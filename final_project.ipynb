{
 "cells": [
  {
   "cell_type": "code",
   "execution_count": 1,
   "metadata": {},
   "outputs": [],
   "source": [
    "import pandas as pd\n",
    "import os\n",
    "import numpy as np\n",
    "from termcolor import colored\n",
    "import seaborn as sns\n",
    "import matplotlib.pyplot as plt\n",
    "import html\n",
    "from langdetect import detect\n",
    "from nltk.stem import SnowballStemmer\n",
    "from nltk.stem import WordNetLemmatizer"
   ]
  },
  {
   "cell_type": "code",
   "execution_count": 2,
   "metadata": {},
   "outputs": [],
   "source": [
    "df = pd.read_csv('full_merged_dataset15.csv', encoding='utf-8')"
   ]
  },
  {
   "cell_type": "code",
   "execution_count": 3,
   "metadata": {},
   "outputs": [
    {
     "data": {
      "text/html": [
       "<div>\n",
       "<style scoped>\n",
       "    .dataframe tbody tr th:only-of-type {\n",
       "        vertical-align: middle;\n",
       "    }\n",
       "\n",
       "    .dataframe tbody tr th {\n",
       "        vertical-align: top;\n",
       "    }\n",
       "\n",
       "    .dataframe thead th {\n",
       "        text-align: right;\n",
       "    }\n",
       "</style>\n",
       "<table border=\"1\" class=\"dataframe\">\n",
       "  <thead>\n",
       "    <tr style=\"text-align: right;\">\n",
       "      <th></th>\n",
       "      <th>id</th>\n",
       "      <th>title</th>\n",
       "      <th>author</th>\n",
       "      <th>snippet</th>\n",
       "      <th>link</th>\n",
       "      <th>categories</th>\n",
       "      <th>poem</th>\n",
       "    </tr>\n",
       "  </thead>\n",
       "  <tbody>\n",
       "    <tr>\n",
       "      <th>0</th>\n",
       "      <td>162275</td>\n",
       "      <td>The 80&amp;rsquo;s Miracle Diet</td>\n",
       "      <td>By Melvin Dixon</td>\n",
       "      <td>Yours free without the asking</td>\n",
       "      <td>https://www.poetryfoundation.org/poetrymagazin...</td>\n",
       "      <td>['Living', 'Health &amp; Illness']</td>\n",
       "      <td>Yours free without the asking Quick delivery v...</td>\n",
       "    </tr>\n",
       "    <tr>\n",
       "      <th>1</th>\n",
       "      <td>162250</td>\n",
       "      <td>All Saints&amp;rsquo;</td>\n",
       "      <td>By Corey Van Landingham</td>\n",
       "      <td>CaravaggioÃ¢â‚¬â„¢s face in the sunken pumpkin.</td>\n",
       "      <td>https://www.poetryfoundation.org/poetrymagazin...</td>\n",
       "      <td>[]</td>\n",
       "      <td>CaravaggioÃ¢â‚¬â„¢s face in the sunken pumpkin...</td>\n",
       "    </tr>\n",
       "    <tr>\n",
       "      <th>2</th>\n",
       "      <td>162279</td>\n",
       "      <td>And These Are Just a Few ...</td>\n",
       "      <td>By Melvin Dixon</td>\n",
       "      <td>This poem is for the epidemic dead and the liv...</td>\n",
       "      <td>https://www.poetryfoundation.org/poetrymagazin...</td>\n",
       "      <td>['Living', 'Health &amp; Illness', 'Social Comment...</td>\n",
       "      <td>This poem is for the epidemic dead and the liv...</td>\n",
       "    </tr>\n",
       "    <tr>\n",
       "      <th>3</th>\n",
       "      <td>162248</td>\n",
       "      <td>ASMR</td>\n",
       "      <td>By Corey Van Landingham</td>\n",
       "      <td>Why not climb up the mountain</td>\n",
       "      <td>https://www.poetryfoundation.org/poetrymagazin...</td>\n",
       "      <td>[]</td>\n",
       "      <td>Why not climb up the mountain of delight? To t...</td>\n",
       "    </tr>\n",
       "    <tr>\n",
       "      <th>4</th>\n",
       "      <td>162249</td>\n",
       "      <td>ASMR</td>\n",
       "      <td>By Corey Van Landingham</td>\n",
       "      <td>HelloÃ¢â‚¬â€Tonight</td>\n",
       "      <td>https://www.poetryfoundation.org/poetrymagazin...</td>\n",
       "      <td>[]</td>\n",
       "      <td>HelloÃ¢â‚¬â€Tonight weÃ¢â‚¬â„¢ll trace the st...</td>\n",
       "    </tr>\n",
       "  </tbody>\n",
       "</table>\n",
       "</div>"
      ],
      "text/plain": [
       "       id                         title                   author  \\\n",
       "0  162275   The 80&rsquo;s Miracle Diet          By Melvin Dixon   \n",
       "1  162250             All Saints&rsquo;  By Corey Van Landingham   \n",
       "2  162279  And These Are Just a Few ...          By Melvin Dixon   \n",
       "3  162248                          ASMR  By Corey Van Landingham   \n",
       "4  162249                          ASMR  By Corey Van Landingham   \n",
       "\n",
       "                                             snippet  \\\n",
       "0                      Yours free without the asking   \n",
       "1    CaravaggioÃ¢â‚¬â„¢s face in the sunken pumpkin.   \n",
       "2  This poem is for the epidemic dead and the liv...   \n",
       "3                      Why not climb up the mountain   \n",
       "4                               HelloÃ¢â‚¬â€Tonight   \n",
       "\n",
       "                                                link  \\\n",
       "0  https://www.poetryfoundation.org/poetrymagazin...   \n",
       "1  https://www.poetryfoundation.org/poetrymagazin...   \n",
       "2  https://www.poetryfoundation.org/poetrymagazin...   \n",
       "3  https://www.poetryfoundation.org/poetrymagazin...   \n",
       "4  https://www.poetryfoundation.org/poetrymagazin...   \n",
       "\n",
       "                                          categories  \\\n",
       "0                     ['Living', 'Health & Illness']   \n",
       "1                                                 []   \n",
       "2  ['Living', 'Health & Illness', 'Social Comment...   \n",
       "3                                                 []   \n",
       "4                                                 []   \n",
       "\n",
       "                                                poem  \n",
       "0  Yours free without the asking Quick delivery v...  \n",
       "1  CaravaggioÃ¢â‚¬â„¢s face in the sunken pumpkin...  \n",
       "2  This poem is for the epidemic dead and the liv...  \n",
       "3  Why not climb up the mountain of delight? To t...  \n",
       "4  HelloÃ¢â‚¬â€Tonight weÃ¢â‚¬â„¢ll trace the st...  "
      ]
     },
     "execution_count": 3,
     "metadata": {},
     "output_type": "execute_result"
    }
   ],
   "source": [
    "df.head()"
   ]
  },
  {
   "cell_type": "code",
   "execution_count": 4,
   "metadata": {},
   "outputs": [
    {
     "name": "stderr",
     "output_type": "stream",
     "text": [
      "[nltk_data] Downloading package stopwords to /home/vm/nltk_data...\n",
      "[nltk_data]   Package stopwords is already up-to-date!\n",
      "[nltk_data] Downloading package omw-1.4 to /home/vm/nltk_data...\n",
      "[nltk_data]   Package omw-1.4 is already up-to-date!\n",
      "[nltk_data] Downloading package wordnet to /home/vm/nltk_data...\n",
      "[nltk_data]   Package wordnet is already up-to-date!\n"
     ]
    }
   ],
   "source": [
    "import re\n",
    "import nltk\n",
    "\n",
    "def check_nltk_packages():\n",
    "  packages = ['punkt','stopwords','omw-1.4','wordnet']\n",
    "\n",
    "  for package in packages:\n",
    "    try:\n",
    "      nltk.data.find('tokenizers/' + package)\n",
    "    except LookupError:\n",
    "      nltk.download(package)\n",
    "check_nltk_packages()\n",
    "\n",
    "try:\n",
    "  import lxml\n",
    "except ModuleNotFoundError:\n",
    "  %pip install lxml\n",
    "\n",
    "try:\n",
    "  import contractions\n",
    "except ModuleNotFoundError:\n",
    "  %pip install contractions\n",
    "  import contractions\n",
    "\n",
    "from bs4 import BeautifulSoup\n",
    "import re"
   ]
  },
  {
   "cell_type": "code",
   "execution_count": 5,
   "metadata": {},
   "outputs": [],
   "source": [
    "\n",
    "def separate_language(df, text_column):\n",
    "    \"\"\"\n",
    "    Separate observations in a DataFrame based on the language detected in a text column.\n",
    "\n",
    "    Args:\n",
    "        df (pandas.DataFrame): Input DataFrame.\n",
    "        text_column (str): Name of the column containing text data.\n",
    "\n",
    "    Returns:\n",
    "        tuple: A tuple containing two DataFrames. The first DataFrame contains observations in English,\n",
    "               and the second DataFrame contains observations in other languages.\n",
    "    \"\"\"\n",
    "    # Initialize lists to store data\n",
    "    english_data = []\n",
    "    other_language_data = []\n",
    "\n",
    "    # Loop through each row in the dataset\n",
    "    for index, row in df.iterrows():\n",
    "        text = row[text_column]\n",
    "        try:\n",
    "            # Detect language of the text\n",
    "            lang = detect(text)\n",
    "        \n",
    "            # Append entire row data to respective lists\n",
    "            if lang == 'en':\n",
    "                english_data.append(row)\n",
    "            else:\n",
    "                other_language_data.append(row)\n",
    "        except:\n",
    "            # Handle exceptions in language detection (e.g., short texts)\n",
    "            pass\n",
    "\n",
    "    # Create dataframes from lists\n",
    "    english_df = pd.DataFrame(english_data)\n",
    "    other_language_df = pd.DataFrame(other_language_data)\n",
    "\n",
    "    return english_df, other_language_df"
   ]
  },
  {
   "cell_type": "code",
   "execution_count": 6,
   "metadata": {},
   "outputs": [],
   "source": [
    "# Call the function to separate language\n",
    "english_df, other_language_df = separate_language(df, 'poem')"
   ]
  },
  {
   "cell_type": "code",
   "execution_count": 7,
   "metadata": {},
   "outputs": [
    {
     "name": "stdout",
     "output_type": "stream",
     "text": [
      "(44869, 7)\n",
      "(419, 7)\n"
     ]
    }
   ],
   "source": [
    "# i want to check the size of both dfs\n",
    "print(english_df.shape)\n",
    "print(other_language_df.shape)"
   ]
  },
  {
   "cell_type": "code",
   "execution_count": 8,
   "metadata": {},
   "outputs": [
    {
     "data": {
      "text/html": [
       "<div>\n",
       "<style scoped>\n",
       "    .dataframe tbody tr th:only-of-type {\n",
       "        vertical-align: middle;\n",
       "    }\n",
       "\n",
       "    .dataframe tbody tr th {\n",
       "        vertical-align: top;\n",
       "    }\n",
       "\n",
       "    .dataframe thead th {\n",
       "        text-align: right;\n",
       "    }\n",
       "</style>\n",
       "<table border=\"1\" class=\"dataframe\">\n",
       "  <thead>\n",
       "    <tr style=\"text-align: right;\">\n",
       "      <th></th>\n",
       "      <th>id</th>\n",
       "      <th>title</th>\n",
       "      <th>author</th>\n",
       "      <th>snippet</th>\n",
       "      <th>link</th>\n",
       "      <th>categories</th>\n",
       "      <th>poem</th>\n",
       "    </tr>\n",
       "  </thead>\n",
       "  <tbody>\n",
       "    <tr>\n",
       "      <th>0</th>\n",
       "      <td>162275</td>\n",
       "      <td>The 80&amp;rsquo;s Miracle Diet</td>\n",
       "      <td>By Melvin Dixon</td>\n",
       "      <td>Yours free without the asking</td>\n",
       "      <td>https://www.poetryfoundation.org/poetrymagazin...</td>\n",
       "      <td>['Living', 'Health &amp; Illness']</td>\n",
       "      <td>Yours free without the asking Quick delivery v...</td>\n",
       "    </tr>\n",
       "    <tr>\n",
       "      <th>1</th>\n",
       "      <td>162250</td>\n",
       "      <td>All Saints&amp;rsquo;</td>\n",
       "      <td>By Corey Van Landingham</td>\n",
       "      <td>CaravaggioÃ¢â‚¬â„¢s face in the sunken pumpkin.</td>\n",
       "      <td>https://www.poetryfoundation.org/poetrymagazin...</td>\n",
       "      <td>[]</td>\n",
       "      <td>CaravaggioÃ¢â‚¬â„¢s face in the sunken pumpkin...</td>\n",
       "    </tr>\n",
       "    <tr>\n",
       "      <th>2</th>\n",
       "      <td>162279</td>\n",
       "      <td>And These Are Just a Few ...</td>\n",
       "      <td>By Melvin Dixon</td>\n",
       "      <td>This poem is for the epidemic dead and the liv...</td>\n",
       "      <td>https://www.poetryfoundation.org/poetrymagazin...</td>\n",
       "      <td>['Living', 'Health &amp; Illness', 'Social Comment...</td>\n",
       "      <td>This poem is for the epidemic dead and the liv...</td>\n",
       "    </tr>\n",
       "    <tr>\n",
       "      <th>3</th>\n",
       "      <td>162248</td>\n",
       "      <td>ASMR</td>\n",
       "      <td>By Corey Van Landingham</td>\n",
       "      <td>Why not climb up the mountain</td>\n",
       "      <td>https://www.poetryfoundation.org/poetrymagazin...</td>\n",
       "      <td>[]</td>\n",
       "      <td>Why not climb up the mountain of delight? To t...</td>\n",
       "    </tr>\n",
       "    <tr>\n",
       "      <th>4</th>\n",
       "      <td>162249</td>\n",
       "      <td>ASMR</td>\n",
       "      <td>By Corey Van Landingham</td>\n",
       "      <td>HelloÃ¢â‚¬â€Tonight</td>\n",
       "      <td>https://www.poetryfoundation.org/poetrymagazin...</td>\n",
       "      <td>[]</td>\n",
       "      <td>HelloÃ¢â‚¬â€Tonight weÃ¢â‚¬â„¢ll trace the st...</td>\n",
       "    </tr>\n",
       "  </tbody>\n",
       "</table>\n",
       "</div>"
      ],
      "text/plain": [
       "       id                         title                   author  \\\n",
       "0  162275   The 80&rsquo;s Miracle Diet          By Melvin Dixon   \n",
       "1  162250             All Saints&rsquo;  By Corey Van Landingham   \n",
       "2  162279  And These Are Just a Few ...          By Melvin Dixon   \n",
       "3  162248                          ASMR  By Corey Van Landingham   \n",
       "4  162249                          ASMR  By Corey Van Landingham   \n",
       "\n",
       "                                             snippet  \\\n",
       "0                      Yours free without the asking   \n",
       "1    CaravaggioÃ¢â‚¬â„¢s face in the sunken pumpkin.   \n",
       "2  This poem is for the epidemic dead and the liv...   \n",
       "3                      Why not climb up the mountain   \n",
       "4                               HelloÃ¢â‚¬â€Tonight   \n",
       "\n",
       "                                                link  \\\n",
       "0  https://www.poetryfoundation.org/poetrymagazin...   \n",
       "1  https://www.poetryfoundation.org/poetrymagazin...   \n",
       "2  https://www.poetryfoundation.org/poetrymagazin...   \n",
       "3  https://www.poetryfoundation.org/poetrymagazin...   \n",
       "4  https://www.poetryfoundation.org/poetrymagazin...   \n",
       "\n",
       "                                          categories  \\\n",
       "0                     ['Living', 'Health & Illness']   \n",
       "1                                                 []   \n",
       "2  ['Living', 'Health & Illness', 'Social Comment...   \n",
       "3                                                 []   \n",
       "4                                                 []   \n",
       "\n",
       "                                                poem  \n",
       "0  Yours free without the asking Quick delivery v...  \n",
       "1  CaravaggioÃ¢â‚¬â„¢s face in the sunken pumpkin...  \n",
       "2  This poem is for the epidemic dead and the liv...  \n",
       "3  Why not climb up the mountain of delight? To t...  \n",
       "4  HelloÃ¢â‚¬â€Tonight weÃ¢â‚¬â„¢ll trace the st...  "
      ]
     },
     "execution_count": 8,
     "metadata": {},
     "output_type": "execute_result"
    }
   ],
   "source": [
    "english_df.head()\n"
   ]
  },
  {
   "cell_type": "code",
   "execution_count": 9,
   "metadata": {},
   "outputs": [
    {
     "data": {
      "text/html": [
       "<div>\n",
       "<style scoped>\n",
       "    .dataframe tbody tr th:only-of-type {\n",
       "        vertical-align: middle;\n",
       "    }\n",
       "\n",
       "    .dataframe tbody tr th {\n",
       "        vertical-align: top;\n",
       "    }\n",
       "\n",
       "    .dataframe thead th {\n",
       "        text-align: right;\n",
       "    }\n",
       "</style>\n",
       "<table border=\"1\" class=\"dataframe\">\n",
       "  <thead>\n",
       "    <tr style=\"text-align: right;\">\n",
       "      <th></th>\n",
       "      <th>id</th>\n",
       "      <th>title</th>\n",
       "      <th>author</th>\n",
       "      <th>snippet</th>\n",
       "      <th>link</th>\n",
       "      <th>categories</th>\n",
       "      <th>poem</th>\n",
       "    </tr>\n",
       "  </thead>\n",
       "  <tbody>\n",
       "    <tr>\n",
       "      <th>10</th>\n",
       "      <td>162260</td>\n",
       "      <td>Fosfor</td>\n",
       "      <td>By Kacper Bartczak</td>\n",
       "      <td>w terrarium jesteÃ…â€º</td>\n",
       "      <td>https://www.poetryfoundation.org/poetrymagazin...</td>\n",
       "      <td>[]</td>\n",
       "      <td>w terrarium jesteÃ…â€º czarna skrzyneczka rzec...</td>\n",
       "    </tr>\n",
       "    <tr>\n",
       "      <th>29</th>\n",
       "      <td>162261</td>\n",
       "      <td>PieÃ…â€ºÃ…â€ž tego</td>\n",
       "      <td>By Kacper Bartczak</td>\n",
       "      <td>perÃ…â€šo Ã…â€ºwiata wymiocino wieprzu jestem</td>\n",
       "      <td>https://www.poetryfoundation.org/poetrymagazin...</td>\n",
       "      <td>[]</td>\n",
       "      <td>perÃ…â€šo Ã…â€ºwiata wymiocino wieprzu jestem ...</td>\n",
       "    </tr>\n",
       "    <tr>\n",
       "      <th>32</th>\n",
       "      <td>162263</td>\n",
       "      <td>Prawda obrazu</td>\n",
       "      <td>By Kacper Bartczak</td>\n",
       "      <td>Kobieta naprzeciwko czyta</td>\n",
       "      <td>https://www.poetryfoundation.org/poetrymagazin...</td>\n",
       "      <td>[]</td>\n",
       "      <td>Kobieta naprzeciwko czyta Ã¢â‚¬Å¾NajwiÃ„â„¢ksz...</td>\n",
       "    </tr>\n",
       "    <tr>\n",
       "      <th>35</th>\n",
       "      <td>162257</td>\n",
       "      <td>regenportr&amp;auml;t</td>\n",
       "      <td>By Jan Wagner</td>\n",
       "      <td>erscheint als handkuÃƒÅ¸, als sanfter stubser,</td>\n",
       "      <td>https://www.poetryfoundation.org/poetrymagazin...</td>\n",
       "      <td>['Nature']</td>\n",
       "      <td>erscheint als handkuÃƒÅ¸, als sanfter stubser,...</td>\n",
       "    </tr>\n",
       "    <tr>\n",
       "      <th>37</th>\n",
       "      <td>162256</td>\n",
       "      <td>reifen</td>\n",
       "      <td>By Jan Wagner</td>\n",
       "      <td>dort, wo die stadt versickert,</td>\n",
       "      <td>https://www.poetryfoundation.org/poetrymagazin...</td>\n",
       "      <td>['Social Commentaries', 'Cities &amp; Urban Life']</td>\n",
       "      <td>dort, wo die stadt versickert, beim bahndamm, ...</td>\n",
       "    </tr>\n",
       "  </tbody>\n",
       "</table>\n",
       "</div>"
      ],
      "text/plain": [
       "        id               title              author  \\\n",
       "10  162260              Fosfor  By Kacper Bartczak   \n",
       "29  162261  PieÃ…â€ºÃ…â€ž tego  By Kacper Bartczak   \n",
       "32  162263       Prawda obrazu  By Kacper Bartczak   \n",
       "35  162257   regenportr&auml;t       By Jan Wagner   \n",
       "37  162256              reifen       By Jan Wagner   \n",
       "\n",
       "                                           snippet  \\\n",
       "10                          w terrarium jesteÃ…â€º   \n",
       "29   perÃ…â€šo Ã…â€ºwiata wymiocino wieprzu jestem   \n",
       "32                       Kobieta naprzeciwko czyta   \n",
       "35  erscheint als handkuÃƒÅ¸, als sanfter stubser,   \n",
       "37                  dort, wo die stadt versickert,   \n",
       "\n",
       "                                                 link  \\\n",
       "10  https://www.poetryfoundation.org/poetrymagazin...   \n",
       "29  https://www.poetryfoundation.org/poetrymagazin...   \n",
       "32  https://www.poetryfoundation.org/poetrymagazin...   \n",
       "35  https://www.poetryfoundation.org/poetrymagazin...   \n",
       "37  https://www.poetryfoundation.org/poetrymagazin...   \n",
       "\n",
       "                                        categories  \\\n",
       "10                                              []   \n",
       "29                                              []   \n",
       "32                                              []   \n",
       "35                                      ['Nature']   \n",
       "37  ['Social Commentaries', 'Cities & Urban Life']   \n",
       "\n",
       "                                                 poem  \n",
       "10  w terrarium jesteÃ…â€º czarna skrzyneczka rzec...  \n",
       "29  perÃ…â€šo Ã…â€ºwiata wymiocino wieprzu jestem ...  \n",
       "32  Kobieta naprzeciwko czyta Ã¢â‚¬Å¾NajwiÃ„â„¢ksz...  \n",
       "35  erscheint als handkuÃƒÅ¸, als sanfter stubser,...  \n",
       "37  dort, wo die stadt versickert, beim bahndamm, ...  "
      ]
     },
     "execution_count": 9,
     "metadata": {},
     "output_type": "execute_result"
    }
   ],
   "source": [
    "other_language_df.head()"
   ]
  },
  {
   "cell_type": "markdown",
   "metadata": {},
   "source": [
    "### Save the english DataFrame and the rest of the data"
   ]
  },
  {
   "cell_type": "code",
   "execution_count": 10,
   "metadata": {},
   "outputs": [],
   "source": [
    "english_df.to_csv('english_df.csv', index=False) # CAREFUL, you can overwrite your previous dataset, UPDATE the name when used\n",
    "other_language_df.to_csv('other_language_df.csv', index=False) # CAREFUL, you can overwrite your previous dataset, UPDATE the name when used\n"
   ]
  },
  {
   "cell_type": "markdown",
   "metadata": {},
   "source": [
    "# Small Case Text Preprocessing"
   ]
  },
  {
   "cell_type": "code",
   "execution_count": 11,
   "metadata": {},
   "outputs": [],
   "source": [
    "import numpy as np\n",
    "\n",
    "df = pd.read_csv('english_df.csv', encoding='utf-8')\n",
    "\n",
    "# Drop rows with missing values in the 'poem' column\n",
    "df = df.dropna(subset=['poem'])"
   ]
  },
  {
   "cell_type": "code",
   "execution_count": 12,
   "metadata": {},
   "outputs": [
    {
     "name": "stdout",
     "output_type": "stream",
     "text": [
      "(44869, 7)\n"
     ]
    }
   ],
   "source": [
    "print(df.shape)\n"
   ]
  },
  {
   "cell_type": "code",
   "execution_count": 13,
   "metadata": {},
   "outputs": [],
   "source": [
    "# Pre-compile the patterns for efficiency\n",
    "url_pattern = re.compile(r'https://\\S+|www\\.\\S+')\n",
    "\n",
    "chars_to_replace_by_apostrophe = re.compile(r'ÃƒÂ¢Ã¢â€šÂ¬Ã¢â€žÂ¢|Ã¢â‚¬â„¢')\n",
    "chars_to_replace_by_a = re.compile(r'&aacute')\n",
    "\n",
    "unwanted_chars_pattern = re.compile(r'Ã¢â‚¬Å|Ã¢â‚¬â„¢|Ã¢â‚¬â€|â‚¬Âº|ÃƒÂ¢Ã¢â€šÂ¬Ã|Ã|¬|¢|š|€||âº|â|Âº|Ã¢|Ãƒâ€|¬ÂºÃƒâ€¦Ã¢â|¬|Å|¾|Âº|Ã¢|Âº|Ã¢â‚¬ÂºÃƒâ€')\n",
    "\n",
    "def wrangle_text(text):\n",
    "\n",
    "    # Decode HTML entities\n",
    "    text = html.unescape(text)\n",
    "\n",
    "    # Remove HTML tags\n",
    "    text = BeautifulSoup(text, \"lxml\").text\n",
    "    \n",
    "    # Replace by apostrophe\n",
    "    text = chars_to_replace_by_apostrophe.sub('´', text)\n",
    "\n",
    "    # Replace by a\n",
    "    text = chars_to_replace_by_a.sub('á', text)\n",
    "\n",
    "    # Fix specific character issues in one go\n",
    "    \n",
    "    text = unwanted_chars_pattern.sub(' ', text)\n",
    "\n",
    "    # Expand contractions once, after all substitutions\n",
    "    text = contractions.fix(text)\n",
    "    \n",
    "    return text"
   ]
  },
  {
   "cell_type": "code",
   "execution_count": 15,
   "metadata": {},
   "outputs": [
    {
     "name": "stdout",
     "output_type": "stream",
     "text": [
      "\u001b[34m\n",
      "============= First poem in corpus =============\u001b[0m\n",
      "I want to believe IÃ¢â‚¬â„¢m on my last life. What is nirvana if not a kind of death? In a past life, a stranger asked the Buddha for his children. The Buddha offered him his eyes. Then, pulling the children, screaming, from the shivering rice barrels, he gave them away. Did the children ever forgive him? Did they have to because he was the Buddha? I stay awake, listening to my brotherÃ¢â‚¬â„¢s breath as he sleeps in my corridor. A 6 am flight, a half-hug in the parking lot. I want one more life. This is the problem with reincarnation: you donÃ¢â‚¬â„¢t know if what youÃ¢â‚¬â„¢ve lost is lost forever. Unless, I guess, youÃ¢â‚¬â„¢re the Buddha. His children escaped, by the way. Hid from their possessor in the cane grass, the silk reeds, and wove their way back home. I think they hugged their mother. I think the Buddha demanded understanding. I had to, he likely said. I wonder who they became in their next life. I wonder if the siblings stayed together, across this ever-shortening thread, never striving for nirvana because to achieve it would mean a kind of forsaking. And they learnedÃ¢â‚¬â€ learned too young that fathers arenÃ¢â‚¬â„¢t to be trusted. In each life, the same karmic cycle. Silk reeds become waves become veranda floors. Then: the learned leaving. My brother and I are always looking for the ones left behind, even as weÃ¢â‚¬â„¢re leaving. DonÃ¢â‚¬â„¢t worry. The Buddha is not the forgiving kind. We donÃ¢â‚¬â„¢t care to be forgiven.\n",
      "\u001b[32m\n",
      "============= After wrangling result =============\u001b[0m\n",
      "I want to believe I´m on my last life. What is nirvana if not a kind of death? In a past life, a stranger asked the Buddha for his children. The Buddha offered him his eyes. Then, pulling the children, screaming, from the shivering rice barrels, he gave them away. Did the children ever forgive him? Did they have to because he was the Buddha? I stay awake, listening to my brother´s breath as he sleeps in my corridor. A 6 am flight, a half-hug in the parking lot. I want one more life. This is the problem with reincarnation: you don´t know if what you´ve lost is lost forever. Unless, I guess, you´re the Buddha. His children escaped, by the way. Hid from their possessor in the cane grass, the silk reeds, and wove their way back home. I think they hugged their mother. I think the Buddha demanded understanding. I had to, he likely said. I wonder who they became in their next life. I wonder if the siblings stayed together, across this ever-shortening thread, never striving for nirvana because to achieve it would mean a kind of forsaking. And they learned  learned too young that fathers aren´t to be trusted. In each life, the same karmic cycle. Silk reeds become waves become veranda floors. Then: the learned leaving. My brother and I are always looking for the ones left behind, even as we´re leaving. Don´t worry. The Buddha is not the forgiving kind. We don´t care to be forgiven.\n"
     ]
    }
   ],
   "source": [
    "poem = df['poem'].iloc[84] # This is the 84th poem\n",
    "wrangled_poem = wrangle_text(poem)\n",
    "print(colored('\\n============= First poem in corpus =============', 'blue'))\n",
    "print(poem)\n",
    "print(colored('\\n============= After wrangling result =============', 'green'))\n",
    "print(wrangled_poem)"
   ]
  },
  {
   "cell_type": "code",
   "execution_count": 16,
   "metadata": {},
   "outputs": [
    {
     "name": "stdout",
     "output_type": "stream",
     "text": [
      "\u001b[34m\n",
      "============= First poem in data =============\u001b[0m\n",
      "I want to believe I´m on my last life. What is nirvana if not a kind of death? In a past life, a stranger asked the Buddha for his children. The Buddha offered him his eyes. Then, pulling the children, screaming, from the shivering rice barrels, he gave them away. Did the children ever forgive him? Did they have to because he was the Buddha? I stay awake, listening to my brother´s breath as he sleeps in my corridor. A 6 am flight, a half-hug in the parking lot. I want one more life. This is the problem with reincarnation: you don´t know if what you´ve lost is lost forever. Unless, I guess, you´re the Buddha. His children escaped, by the way. Hid from their possessor in the cane grass, the silk reeds, and wove their way back home. I think they hugged their mother. I think the Buddha demanded understanding. I had to, he likely said. I wonder who they became in their next life. I wonder if the siblings stayed together, across this ever-shortening thread, never striving for nirvana because to achieve it would mean a kind of forsaking. And they learned  learned too young that fathers aren´t to be trusted. In each life, the same karmic cycle. Silk reeds become waves become veranda floors. Then: the learned leaving. My brother and I are always looking for the ones left behind, even as we´re leaving. Don´t worry. The Buddha is not the forgiving kind. We don´t care to be forgiven.\n",
      "\u001b[32m\n",
      "============= First poem (tokens) =============\u001b[0m\n",
      "['I', 'want', 'to', 'believe', 'I', '´', 'm', 'on', 'my', 'last', 'life', '.', 'What', 'is', 'nirvana', 'if', 'not', 'a', 'kind', 'of', 'death', '?', 'In', 'a', 'past', 'life', ',', 'a', 'stranger', 'asked', 'the', 'Buddha', 'for', 'his', 'children', '.', 'The', 'Buddha', 'offered', 'him', 'his', 'eyes', '.', 'Then', ',', 'pulling', 'the', 'children', ',', 'screaming', ',', 'from', 'the', 'shivering', 'rice', 'barrels', ',', 'he', 'gave', 'them', 'away', '.', 'Did', 'the', 'children', 'ever', 'forgive', 'him', '?', 'Did', 'they', 'have', 'to', 'because', 'he', 'was', 'the', 'Buddha', '?', 'I', 'stay', 'awake', ',', 'listening', 'to', 'my', 'brother', '´', 's', 'breath', 'as', 'he', 'sleeps', 'in', 'my', 'corridor', '.', 'A', '6', 'am', 'flight', ',', 'a', 'half', '-', 'hug', 'in', 'the', 'parking', 'lot', '.', 'I', 'want', 'one', 'more', 'life', '.', 'This', 'is', 'the', 'problem', 'with', 'reincarnation', ':', 'you', 'don', '´', 't', 'know', 'if', 'what', 'you', '´', 've', 'lost', 'is', 'lost', 'forever', '.', 'Unless', ',', 'I', 'guess', ',', 'you', '´', 're', 'the', 'Buddha', '.', 'His', 'children', 'escaped', ',', 'by', 'the', 'way', '.', 'Hid', 'from', 'their', 'possessor', 'in', 'the', 'cane', 'grass', ',', 'the', 'silk', 'reeds', ',', 'and', 'wove', 'their', 'way', 'back', 'home', '.', 'I', 'think', 'they', 'hugged', 'their', 'mother', '.', 'I', 'think', 'the', 'Buddha', 'demanded', 'understanding', '.', 'I', 'had', 'to', ',', 'he', 'likely', 'said', '.', 'I', 'wonder', 'who', 'they', 'became', 'in', 'their', 'next', 'life', '.', 'I', 'wonder', 'if', 'the', 'siblings', 'stayed', 'together', ',', 'across', 'this', 'ever', '-', 'shortening', 'thread', ',', 'never', 'striving', 'for', 'nirvana', 'because', 'to', 'achieve', 'it', 'would', 'mean', 'a', 'kind', 'of', 'forsaking', '.', 'And', 'they', 'learned', 'learned', 'too', 'young', 'that', 'fathers', 'aren', '´', 't', 'to', 'be', 'trusted', '.', 'In', 'each', 'life', ',', 'the', 'same', 'karmic', 'cycle', '.', 'Silk', 'reeds', 'become', 'waves', 'become', 'veranda', 'floors', '.', 'Then', ':', 'the', 'learned', 'leaving', '.', 'My', 'brother', 'and', 'I', 'are', 'always', 'looking', 'for', 'the', 'ones', 'left', 'behind', ',', 'even', 'as', 'we', '´', 're', 'leaving', '.', 'Don', '´', 't', 'worry', '.', 'The', 'Buddha', 'is', 'not', 'the', 'forgiving', 'kind', '.', 'We', 'don', '´', 't', 'care', 'to', 'be', 'forgiven', '.']\n",
      "\u001b[31m\n",
      "============= First poem (tokens sent level) =============\u001b[0m\n",
      "['I want to believe I´m on my last life.', 'What is nirvana if not a kind of death?', 'In a past life, a stranger asked the Buddha for his children.', 'The Buddha offered him his eyes.', 'Then, pulling the children, screaming, from the shivering rice barrels, he gave them away.', 'Did the children ever forgive him?', 'Did they have to because he was the Buddha?', 'I stay awake, listening to my brother´s breath as he sleeps in my corridor.', 'A 6 am flight, a half-hug in the parking lot.', 'I want one more life.', 'This is the problem with reincarnation: you don´t know if what you´ve lost is lost forever.', 'Unless, I guess, you´re the Buddha.', 'His children escaped, by the way.', 'Hid from their possessor in the cane grass, the silk reeds, and wove their way back home.', 'I think they hugged their mother.', 'I think the Buddha demanded understanding.', 'I had to, he likely said.', 'I wonder who they became in their next life.', 'I wonder if the siblings stayed together, across this ever-shortening thread, never striving for nirvana because to achieve it would mean a kind of forsaking.', 'And they learned  learned too young that fathers aren´t to be trusted.', 'In each life, the same karmic cycle.', 'Silk reeds become waves become veranda floors.', 'Then: the learned leaving.', 'My brother and I are always looking for the ones left behind, even as we´re leaving.', 'Don´t worry.', 'The Buddha is not the forgiving kind.', 'We don´t care to be forgiven.']\n"
     ]
    }
   ],
   "source": [
    "from nltk.tokenize import wordpunct_tokenize\n",
    "from nltk.tokenize import sent_tokenize\n",
    "\n",
    "\n",
    "print(colored('\\n============= First poem in data =============', 'blue'))\n",
    "print(wrangled_poem)\n",
    "\n",
    "# Tokenize the review\n",
    "poem_tokens = wordpunct_tokenize(wrangled_poem)\n",
    "# Tokenize the review at the sentence level\n",
    "poem_tokens_sent = sent_tokenize(wrangled_poem)\n",
    "\n",
    "print(colored('\\n============= First poem (tokens) =============', 'green'))\n",
    "print(poem_tokens)\n",
    "\n",
    "print(colored('\\n============= First poem (tokens sent level) =============', 'red'))\n",
    "print(poem_tokens_sent)"
   ]
  },
  {
   "cell_type": "markdown",
   "metadata": {},
   "source": [
    "### Converting into lower case & removing alphanumeric: "
   ]
  },
  {
   "cell_type": "code",
   "execution_count": 17,
   "metadata": {},
   "outputs": [
    {
     "name": "stdout",
     "output_type": "stream",
     "text": [
      "\u001b[34m\n",
      "============= First poem (tokens) =============\u001b[0m\n",
      "['I', 'want', 'to', 'believe', 'I', '´', 'm', 'on', 'my', 'last', 'life', '.', 'What', 'is', 'nirvana', 'if', 'not', 'a', 'kind', 'of', 'death', '?', 'In', 'a', 'past', 'life', ',', 'a', 'stranger', 'asked', 'the', 'Buddha', 'for', 'his', 'children', '.', 'The', 'Buddha', 'offered', 'him', 'his', 'eyes', '.', 'Then', ',', 'pulling', 'the', 'children', ',', 'screaming', ',', 'from', 'the', 'shivering', 'rice', 'barrels', ',', 'he', 'gave', 'them', 'away', '.', 'Did', 'the', 'children', 'ever', 'forgive', 'him', '?', 'Did', 'they', 'have', 'to', 'because', 'he', 'was', 'the', 'Buddha', '?', 'I', 'stay', 'awake', ',', 'listening', 'to', 'my', 'brother', '´', 's', 'breath', 'as', 'he', 'sleeps', 'in', 'my', 'corridor', '.', 'A', '6', 'am', 'flight', ',', 'a', 'half', '-', 'hug', 'in', 'the', 'parking', 'lot', '.', 'I', 'want', 'one', 'more', 'life', '.', 'This', 'is', 'the', 'problem', 'with', 'reincarnation', ':', 'you', 'don', '´', 't', 'know', 'if', 'what', 'you', '´', 've', 'lost', 'is', 'lost', 'forever', '.', 'Unless', ',', 'I', 'guess', ',', 'you', '´', 're', 'the', 'Buddha', '.', 'His', 'children', 'escaped', ',', 'by', 'the', 'way', '.', 'Hid', 'from', 'their', 'possessor', 'in', 'the', 'cane', 'grass', ',', 'the', 'silk', 'reeds', ',', 'and', 'wove', 'their', 'way', 'back', 'home', '.', 'I', 'think', 'they', 'hugged', 'their', 'mother', '.', 'I', 'think', 'the', 'Buddha', 'demanded', 'understanding', '.', 'I', 'had', 'to', ',', 'he', 'likely', 'said', '.', 'I', 'wonder', 'who', 'they', 'became', 'in', 'their', 'next', 'life', '.', 'I', 'wonder', 'if', 'the', 'siblings', 'stayed', 'together', ',', 'across', 'this', 'ever', '-', 'shortening', 'thread', ',', 'never', 'striving', 'for', 'nirvana', 'because', 'to', 'achieve', 'it', 'would', 'mean', 'a', 'kind', 'of', 'forsaking', '.', 'And', 'they', 'learned', 'learned', 'too', 'young', 'that', 'fathers', 'aren', '´', 't', 'to', 'be', 'trusted', '.', 'In', 'each', 'life', ',', 'the', 'same', 'karmic', 'cycle', '.', 'Silk', 'reeds', 'become', 'waves', 'become', 'veranda', 'floors', '.', 'Then', ':', 'the', 'learned', 'leaving', '.', 'My', 'brother', 'and', 'I', 'are', 'always', 'looking', 'for', 'the', 'ones', 'left', 'behind', ',', 'even', 'as', 'we', '´', 're', 'leaving', '.', 'Don', '´', 't', 'worry', '.', 'The', 'Buddha', 'is', 'not', 'the', 'forgiving', 'kind', '.', 'We', 'don', '´', 't', 'care', 'to', 'be', 'forgiven', '.']\n",
      "\u001b[32m\n",
      "============= First poem (tokens filtered) =============\u001b[0m\n",
      "['i', 'want', 'to', 'believe', 'i', 'm', 'on', 'my', 'last', 'life', 'what', 'is', 'nirvana', 'if', 'not', 'a', 'kind', 'of', 'death', 'in', 'a', 'past', 'life', 'a', 'stranger', 'asked', 'the', 'buddha', 'for', 'his', 'children', 'the', 'buddha', 'offered', 'him', 'his', 'eyes', 'then', 'pulling', 'the', 'children', 'screaming', 'from', 'the', 'shivering', 'rice', 'barrels', 'he', 'gave', 'them', 'away', 'did', 'the', 'children', 'ever', 'forgive', 'him', 'did', 'they', 'have', 'to', 'because', 'he', 'was', 'the', 'buddha', 'i', 'stay', 'awake', 'listening', 'to', 'my', 'brother', 's', 'breath', 'as', 'he', 'sleeps', 'in', 'my', 'corridor', 'a', '6', 'am', 'flight', 'a', 'half', 'hug', 'in', 'the', 'parking', 'lot', 'i', 'want', 'one', 'more', 'life', 'this', 'is', 'the', 'problem', 'with', 'reincarnation', 'you', 'don', 't', 'know', 'if', 'what', 'you', 've', 'lost', 'is', 'lost', 'forever', 'unless', 'i', 'guess', 'you', 're', 'the', 'buddha', 'his', 'children', 'escaped', 'by', 'the', 'way', 'hid', 'from', 'their', 'possessor', 'in', 'the', 'cane', 'grass', 'the', 'silk', 'reeds', 'and', 'wove', 'their', 'way', 'back', 'home', 'i', 'think', 'they', 'hugged', 'their', 'mother', 'i', 'think', 'the', 'buddha', 'demanded', 'understanding', 'i', 'had', 'to', 'he', 'likely', 'said', 'i', 'wonder', 'who', 'they', 'became', 'in', 'their', 'next', 'life', 'i', 'wonder', 'if', 'the', 'siblings', 'stayed', 'together', 'across', 'this', 'ever', 'shortening', 'thread', 'never', 'striving', 'for', 'nirvana', 'because', 'to', 'achieve', 'it', 'would', 'mean', 'a', 'kind', 'of', 'forsaking', 'and', 'they', 'learned', 'learned', 'too', 'young', 'that', 'fathers', 'aren', 't', 'to', 'be', 'trusted', 'in', 'each', 'life', 'the', 'same', 'karmic', 'cycle', 'silk', 'reeds', 'become', 'waves', 'become', 'veranda', 'floors', 'then', 'the', 'learned', 'leaving', 'my', 'brother', 'and', 'i', 'are', 'always', 'looking', 'for', 'the', 'ones', 'left', 'behind', 'even', 'as', 'we', 're', 'leaving', 'don', 't', 'worry', 'the', 'buddha', 'is', 'not', 'the', 'forgiving', 'kind', 'we', 'don', 't', 'care', 'to', 'be', 'forgiven']\n"
     ]
    }
   ],
   "source": [
    "poem_tokens_filtered = [token.lower() for token in poem_tokens if token.isalnum()]\n",
    "\n",
    "# The isalnum() method returns True if all characters in the string are \n",
    "# alphanumeric (either alphabets or numbers). If not, it returns False.\n",
    "\n",
    "print(colored('\\n============= First poem (tokens) =============', 'blue'))\n",
    "print(poem_tokens)\n",
    "\n",
    "print(colored('\\n============= First poem (tokens filtered) =============', 'green'))\n",
    "print(poem_tokens_filtered)"
   ]
  },
  {
   "cell_type": "code",
   "execution_count": 18,
   "metadata": {},
   "outputs": [
    {
     "name": "stdout",
     "output_type": "stream",
     "text": [
      "\u001b[34m\n",
      "============= Stemmed review  =============\u001b[0m\n",
      "['i', 'want', 'to', 'believ', 'i', 'm', 'on', 'my', 'last', 'life', 'what', 'is', 'nirvana', 'if', 'not', 'a', 'kind', 'of', 'death', 'in', 'a', 'past', 'life', 'a', 'stranger', 'ask', 'the', 'buddha', 'for', 'his', 'children', 'the', 'buddha', 'offer', 'him', 'his', 'eye', 'then', 'pull', 'the', 'children', 'scream', 'from', 'the', 'shiver', 'rice', 'barrel', 'he', 'gave', 'them', 'away', 'did', 'the', 'children', 'ever', 'forgiv', 'him', 'did', 'they', 'have', 'to', 'becaus', 'he', 'was', 'the', 'buddha', 'i', 'stay', 'awak', 'listen', 'to', 'my', 'brother', 's', 'breath', 'as', 'he', 'sleep', 'in', 'my', 'corridor', 'a', '6', 'am', 'flight', 'a', 'half', 'hug', 'in', 'the', 'park', 'lot', 'i', 'want', 'one', 'more', 'life', 'this', 'is', 'the', 'problem', 'with', 'reincarn', 'you', 'don', 't', 'know', 'if', 'what', 'you', 've', 'lost', 'is', 'lost', 'forev', 'unless', 'i', 'guess', 'you', 're', 'the', 'buddha', 'his', 'children', 'escap', 'by', 'the', 'way', 'hid', 'from', 'their', 'possessor', 'in', 'the', 'cane', 'grass', 'the', 'silk', 'reed', 'and', 'wove', 'their', 'way', 'back', 'home', 'i', 'think', 'they', 'hug', 'their', 'mother', 'i', 'think', 'the', 'buddha', 'demand', 'understand', 'i', 'had', 'to', 'he', 'like', 'said', 'i', 'wonder', 'who', 'they', 'becam', 'in', 'their', 'next', 'life', 'i', 'wonder', 'if', 'the', 'sibl', 'stay', 'togeth', 'across', 'this', 'ever', 'shorten', 'thread', 'never', 'strive', 'for', 'nirvana', 'becaus', 'to', 'achiev', 'it', 'would', 'mean', 'a', 'kind', 'of', 'forsak', 'and', 'they', 'learn', 'learn', 'too', 'young', 'that', 'father', 'aren', 't', 'to', 'be', 'trust', 'in', 'each', 'life', 'the', 'same', 'karmic', 'cycl', 'silk', 'reed', 'becom', 'wave', 'becom', 'veranda', 'floor', 'then', 'the', 'learn', 'leav', 'my', 'brother', 'and', 'i', 'are', 'alway', 'look', 'for', 'the', 'one', 'left', 'behind', 'even', 'as', 'we', 're', 'leav', 'don', 't', 'worri', 'the', 'buddha', 'is', 'not', 'the', 'forgiv', 'kind', 'we', 'don', 't', 'care', 'to', 'be', 'forgiven']\n",
      "\u001b[34m\n",
      "============= Lemmatized review  =============\u001b[0m\n",
      "['i', 'want', 'to', 'believe', 'i', 'm', 'on', 'my', 'last', 'life', 'what', 'is', 'nirvana', 'if', 'not', 'a', 'kind', 'of', 'death', 'in', 'a', 'past', 'life', 'a', 'stranger', 'asked', 'the', 'buddha', 'for', 'his', 'child', 'the', 'buddha', 'offered', 'him', 'his', 'eye', 'then', 'pulling', 'the', 'child', 'screaming', 'from', 'the', 'shivering', 'rice', 'barrel', 'he', 'gave', 'them', 'away', 'did', 'the', 'child', 'ever', 'forgive', 'him', 'did', 'they', 'have', 'to', 'because', 'he', 'wa', 'the', 'buddha', 'i', 'stay', 'awake', 'listening', 'to', 'my', 'brother', 's', 'breath', 'a', 'he', 'sleep', 'in', 'my', 'corridor', 'a', '6', 'am', 'flight', 'a', 'half', 'hug', 'in', 'the', 'parking', 'lot', 'i', 'want', 'one', 'more', 'life', 'this', 'is', 'the', 'problem', 'with', 'reincarnation', 'you', 'don', 't', 'know', 'if', 'what', 'you', 've', 'lost', 'is', 'lost', 'forever', 'unless', 'i', 'guess', 'you', 're', 'the', 'buddha', 'his', 'child', 'escaped', 'by', 'the', 'way', 'hid', 'from', 'their', 'possessor', 'in', 'the', 'cane', 'grass', 'the', 'silk', 'reed', 'and', 'wove', 'their', 'way', 'back', 'home', 'i', 'think', 'they', 'hugged', 'their', 'mother', 'i', 'think', 'the', 'buddha', 'demanded', 'understanding', 'i', 'had', 'to', 'he', 'likely', 'said', 'i', 'wonder', 'who', 'they', 'became', 'in', 'their', 'next', 'life', 'i', 'wonder', 'if', 'the', 'sibling', 'stayed', 'together', 'across', 'this', 'ever', 'shortening', 'thread', 'never', 'striving', 'for', 'nirvana', 'because', 'to', 'achieve', 'it', 'would', 'mean', 'a', 'kind', 'of', 'forsaking', 'and', 'they', 'learned', 'learned', 'too', 'young', 'that', 'father', 'aren', 't', 'to', 'be', 'trusted', 'in', 'each', 'life', 'the', 'same', 'karmic', 'cycle', 'silk', 'reed', 'become', 'wave', 'become', 'veranda', 'floor', 'then', 'the', 'learned', 'leaving', 'my', 'brother', 'and', 'i', 'are', 'always', 'looking', 'for', 'the', 'one', 'left', 'behind', 'even', 'a', 'we', 're', 'leaving', 'don', 't', 'worry', 'the', 'buddha', 'is', 'not', 'the', 'forgiving', 'kind', 'we', 'don', 't', 'care', 'to', 'be', 'forgiven']\n"
     ]
    }
   ],
   "source": [
    "stemmer = SnowballStemmer('english')\n",
    "wnl = WordNetLemmatizer()\n",
    "\n",
    "stemmed_poem = [stemmer.stem(el) for el in poem_tokens_filtered]\n",
    "print(colored('\\n============= Stemmed review  =============', 'blue'))\n",
    "print(stemmed_poem)\n",
    "\n",
    "lemmatized_poem = [wnl.lemmatize(el) for el in poem_tokens_filtered]\n",
    "print(colored('\\n============= Lemmatized review  =============', 'blue'))\n",
    "print(lemmatized_poem)\n",
    "\n",
    "# The difference between both is that the lemmatization process is more complex\n",
    "# and it involves resolving words to their base or root form.\n",
    "\n",
    "# Lemmatization: Lemmatization is the process of converting a word to its base form.\n",
    "# Stemming: Stemming is the process of reducing a word to its root form.\n",
    "\n",
    "# For example: \n",
    "# Lemmatization: The word \"better\" is converted to \"good\".\n",
    "# Stemming: The word \"better\" is converted to \"bet\"."
   ]
  },
  {
   "cell_type": "markdown",
   "metadata": {},
   "source": [
    "# Preprocessing of the whole dataset"
   ]
  },
  {
   "cell_type": "code",
   "execution_count": 19,
   "metadata": {},
   "outputs": [],
   "source": [
    "import numpy as np\n",
    "\n",
    "df = pd.read_csv('english_df.csv', encoding='utf-8')\n",
    "\n",
    "# Drop rows with missing values in the 'poem' column\n",
    "df = df.dropna(subset=['poem'])"
   ]
  },
  {
   "cell_type": "code",
   "execution_count": 20,
   "metadata": {},
   "outputs": [
    {
     "name": "stdout",
     "output_type": "stream",
     "text": [
      "(44869, 7)\n"
     ]
    }
   ],
   "source": [
    "print(df.shape)"
   ]
  },
  {
   "cell_type": "code",
   "execution_count": 21,
   "metadata": {},
   "outputs": [
    {
     "name": "stderr",
     "output_type": "stream",
     "text": [
      "/tmp/ipykernel_1276/2818655410.py:15: MarkupResemblesLocatorWarning: The input looks more like a filename than markup. You may want to open this file and pass the filehandle into Beautiful Soup.\n",
      "  text = BeautifulSoup(text, \"lxml\").text\n"
     ]
    }
   ],
   "source": [
    "df2 = df.copy()\n",
    "df2['poem'] = df['poem'].apply(lambda x: wrangle_text(x))"
   ]
  },
  {
   "cell_type": "code",
   "execution_count": 22,
   "metadata": {},
   "outputs": [],
   "source": [
    "df2.to_csv('data_wrangled.csv', index=False) # CAREFUL, you can overwrite your previous dataset, UPDATE the name when used"
   ]
  },
  {
   "cell_type": "code",
   "execution_count": 23,
   "metadata": {},
   "outputs": [],
   "source": [
    "from nltk.corpus import stopwords\n",
    "stopwords_en = stopwords.words('english')"
   ]
  },
  {
   "cell_type": "code",
   "execution_count": 24,
   "metadata": {},
   "outputs": [],
   "source": [
    "# Initialize NLTK resources\n",
    "stopwords_en = set(stopwords.words('english'))\n",
    "wnl = WordNetLemmatizer()\n",
    "\n",
    "\n",
    "def prepare_data(text, tool='lemmatize'):\n",
    "\n",
    "    # Decode HTML entities\n",
    "    text = html.unescape(text) \n",
    "    \n",
    "    # Wrangle text\n",
    "    text = wrangle_text(text)\n",
    "\n",
    "    # Tokenize text\n",
    "    tokens = wordpunct_tokenize(text)\n",
    "\n",
    "    # Filter tokens\n",
    "    tokens_filtered = [token.lower() for token in tokens if token.isalnum()]\n",
    "\n",
    "    if tool == 'stem':\n",
    "        # Stem tokens\n",
    "        tokens_filtered = [stemmer.stem(el) for el in tokens_filtered]\n",
    "    elif tool == 'lemmatize':\n",
    "        # Lemmatize tokens\n",
    "        tokens_filtered = [wnl.lemmatize(el) for el in tokens_filtered]\n",
    "    else:\n",
    "        raise ValueError('Invalid tool. Please select either \"stem\" or \"lemmatize\".')\n",
    "\n",
    "    # Remove stopwords\n",
    "    clean_tokens = [el for el in tokens_filtered if el not in stopwords_en]\n",
    "\n",
    "    return clean_tokens"
   ]
  },
  {
   "cell_type": "markdown",
   "metadata": {},
   "source": [
    "### Processing of the poems column"
   ]
  },
  {
   "cell_type": "code",
   "execution_count": 25,
   "metadata": {},
   "outputs": [
    {
     "name": "stdout",
     "output_type": "stream",
     "text": [
      "\u001b[34m\n",
      "============= First review in corpus =============\u001b[0m\n",
      "I want to believe IÃ¢â‚¬â„¢m on my last life. What is nirvana if not a kind of death? In a past life, a stranger asked the Buddha for his children. The Buddha offered him his eyes. Then, pulling the children, screaming, from the shivering rice barrels, he gave them away. Did the children ever forgive him? Did they have to because he was the Buddha? I stay awake, listening to my brotherÃ¢â‚¬â„¢s breath as he sleeps in my corridor. A 6 am flight, a half-hug in the parking lot. I want one more life. This is the problem with reincarnation: you donÃ¢â‚¬â„¢t know if what youÃ¢â‚¬â„¢ve lost is lost forever. Unless, I guess, youÃ¢â‚¬â„¢re the Buddha. His children escaped, by the way. Hid from their possessor in the cane grass, the silk reeds, and wove their way back home. I think they hugged their mother. I think the Buddha demanded understanding. I had to, he likely said. I wonder who they became in their next life. I wonder if the siblings stayed together, across this ever-shortening thread, never striving for nirvana because to achieve it would mean a kind of forsaking. And they learnedÃ¢â‚¬â€ learned too young that fathers arenÃ¢â‚¬â„¢t to be trusted. In each life, the same karmic cycle. Silk reeds become waves become veranda floors. Then: the learned leaving. My brother and I are always looking for the ones left behind, even as weÃ¢â‚¬â„¢re leaving. DonÃ¢â‚¬â„¢t worry. The Buddha is not the forgiving kind. We donÃ¢â‚¬â„¢t care to be forgiven.\n",
      "\u001b[32m\n",
      "============= Clean tokens =============\u001b[0m\n",
      "['want', 'believe', 'last', 'life', 'nirvana', 'kind', 'death', 'past', 'life', 'stranger', 'asked', 'buddha', 'child', 'buddha', 'offered', 'eye', 'pulling', 'child', 'screaming', 'shivering', 'rice', 'barrel', 'gave', 'away', 'child', 'ever', 'forgive', 'wa', 'buddha', 'stay', 'awake', 'listening', 'brother', 'breath', 'sleep', 'corridor', '6', 'flight', 'half', 'hug', 'parking', 'lot', 'want', 'one', 'life', 'problem', 'reincarnation', 'know', 'lost', 'lost', 'forever', 'unless', 'guess', 'buddha', 'child', 'escaped', 'way', 'hid', 'possessor', 'cane', 'grass', 'silk', 'reed', 'wove', 'way', 'back', 'home', 'think', 'hugged', 'mother', 'think', 'buddha', 'demanded', 'understanding', 'likely', 'said', 'wonder', 'became', 'next', 'life', 'wonder', 'sibling', 'stayed', 'together', 'across', 'ever', 'shortening', 'thread', 'never', 'striving', 'nirvana', 'achieve', 'would', 'mean', 'kind', 'forsaking', 'learned', 'learned', 'young', 'father', 'trusted', 'life', 'karmic', 'cycle', 'silk', 'reed', 'become', 'wave', 'become', 'veranda', 'floor', 'learned', 'leaving', 'brother', 'always', 'looking', 'one', 'left', 'behind', 'even', 'leaving', 'worry', 'buddha', 'forgiving', 'kind', 'care', 'forgiven']\n"
     ]
    }
   ],
   "source": [
    "# Now lets use the original text and check it: \n",
    "print(colored('\\n============= First review in corpus =============', 'blue'))\n",
    "poem = df['poem'].iloc[84]\n",
    "print(poem)\n",
    "\n",
    "# Prepare the data\n",
    "clean_tokens = prepare_data(poem, tool = \"lemmatize\")\n",
    "print(colored('\\n============= Clean tokens =============', 'green'))\n",
    "print(clean_tokens)\n"
   ]
  },
  {
   "cell_type": "code",
   "execution_count": 26,
   "metadata": {},
   "outputs": [
    {
     "name": "stderr",
     "output_type": "stream",
     "text": [
      "/tmp/ipykernel_1276/2818655410.py:15: MarkupResemblesLocatorWarning: The input looks more like a filename than markup. You may want to open this file and pass the filehandle into Beautiful Soup.\n",
      "  text = BeautifulSoup(text, \"lxml\").text\n"
     ]
    }
   ],
   "source": [
    "# Apply the prepare_data function to clean the poems\n",
    "df['clean_tokens'] = df['poem'].apply(lambda x: prepare_data(x, tool='lemmatize'))"
   ]
  },
  {
   "cell_type": "code",
   "execution_count": 27,
   "metadata": {},
   "outputs": [],
   "source": [
    "# remove the column 'poem'\n",
    "df = df.drop(columns=['poem'])"
   ]
  },
  {
   "cell_type": "code",
   "execution_count": 29,
   "metadata": {},
   "outputs": [
    {
     "name": "stdout",
     "output_type": "stream",
     "text": [
      "(44869, 7)\n"
     ]
    }
   ],
   "source": [
    "print(df.shape)"
   ]
  },
  {
   "cell_type": "code",
   "execution_count": 30,
   "metadata": {},
   "outputs": [],
   "source": [
    "df.to_csv('data_poems_tokenized.csv', index=False) # CAREFUL, you can overwrite your previous dataset, UPDATE the name when used"
   ]
  },
  {
   "cell_type": "code",
   "execution_count": 33,
   "metadata": {},
   "outputs": [
    {
     "data": {
      "text/html": [
       "<div>\n",
       "<style scoped>\n",
       "    .dataframe tbody tr th:only-of-type {\n",
       "        vertical-align: middle;\n",
       "    }\n",
       "\n",
       "    .dataframe tbody tr th {\n",
       "        vertical-align: top;\n",
       "    }\n",
       "\n",
       "    .dataframe thead th {\n",
       "        text-align: right;\n",
       "    }\n",
       "</style>\n",
       "<table border=\"1\" class=\"dataframe\">\n",
       "  <thead>\n",
       "    <tr style=\"text-align: right;\">\n",
       "      <th></th>\n",
       "      <th>id</th>\n",
       "      <th>title</th>\n",
       "      <th>author</th>\n",
       "      <th>snippet</th>\n",
       "      <th>link</th>\n",
       "      <th>categories</th>\n",
       "      <th>clean_tokens</th>\n",
       "    </tr>\n",
       "  </thead>\n",
       "  <tbody>\n",
       "    <tr>\n",
       "      <th>0</th>\n",
       "      <td>162275</td>\n",
       "      <td>The 80&amp;rsquo;s Miracle Diet</td>\n",
       "      <td>By Melvin Dixon</td>\n",
       "      <td>Yours free without the asking</td>\n",
       "      <td>https://www.poetryfoundation.org/poetrymagazin...</td>\n",
       "      <td>['Living', 'Health &amp; Illness']</td>\n",
       "      <td>[free, without, asking, quick, delivery, via, ...</td>\n",
       "    </tr>\n",
       "    <tr>\n",
       "      <th>1</th>\n",
       "      <td>162250</td>\n",
       "      <td>All Saints&amp;rsquo;</td>\n",
       "      <td>By Corey Van Landingham</td>\n",
       "      <td>CaravaggioÃ¢â‚¬â„¢s face in the sunken pumpkin.</td>\n",
       "      <td>https://www.poetryfoundation.org/poetrymagazin...</td>\n",
       "      <td>[]</td>\n",
       "      <td>[caravaggio, face, sunken, pumpkin, bulb, rott...</td>\n",
       "    </tr>\n",
       "    <tr>\n",
       "      <th>2</th>\n",
       "      <td>162279</td>\n",
       "      <td>And These Are Just a Few ...</td>\n",
       "      <td>By Melvin Dixon</td>\n",
       "      <td>This poem is for the epidemic dead and the liv...</td>\n",
       "      <td>https://www.poetryfoundation.org/poetrymagazin...</td>\n",
       "      <td>['Living', 'Health &amp; Illness', 'Social Comment...</td>\n",
       "      <td>[poem, epidemic, dead, living, remember, neigh...</td>\n",
       "    </tr>\n",
       "    <tr>\n",
       "      <th>3</th>\n",
       "      <td>162248</td>\n",
       "      <td>ASMR</td>\n",
       "      <td>By Corey Van Landingham</td>\n",
       "      <td>Why not climb up the mountain</td>\n",
       "      <td>https://www.poetryfoundation.org/poetrymagazin...</td>\n",
       "      <td>[]</td>\n",
       "      <td>[climb, mountain, delight, world, thin, meridi...</td>\n",
       "    </tr>\n",
       "    <tr>\n",
       "      <th>4</th>\n",
       "      <td>162249</td>\n",
       "      <td>ASMR</td>\n",
       "      <td>By Corey Van Landingham</td>\n",
       "      <td>HelloÃ¢â‚¬â€Tonight</td>\n",
       "      <td>https://www.poetryfoundation.org/poetrymagazin...</td>\n",
       "      <td>[]</td>\n",
       "      <td>[hello, tonight, trace, static, bough, tempora...</td>\n",
       "    </tr>\n",
       "    <tr>\n",
       "      <th>5</th>\n",
       "      <td>162276</td>\n",
       "      <td>Autumn Leaving</td>\n",
       "      <td>By Melvin Dixon</td>\n",
       "      <td>Vermont leaves under glass,</td>\n",
       "      <td>https://www.poetryfoundation.org/poetrymagazin...</td>\n",
       "      <td>[]</td>\n",
       "      <td>[didier, vermont, leaf, glass, hand, working, ...</td>\n",
       "    </tr>\n",
       "    <tr>\n",
       "      <th>6</th>\n",
       "      <td>162292</td>\n",
       "      <td>Babble</td>\n",
       "      <td>By Nica Giromini</td>\n",
       "      <td>Say under land</td>\n",
       "      <td>https://www.poetryfoundation.org/poetrymagazin...</td>\n",
       "      <td>[]</td>\n",
       "      <td>[say, land, remembered, muddy, rush, slows, ne...</td>\n",
       "    </tr>\n",
       "    <tr>\n",
       "      <th>7</th>\n",
       "      <td>162295</td>\n",
       "      <td>Chiaroscuro Spring time</td>\n",
       "      <td>By Cyrus Cassells</td>\n",
       "      <td>That was the season I couldn´„¢t think or writ...</td>\n",
       "      <td>https://www.poetryfoundation.org/poetrymagazin...</td>\n",
       "      <td>['Arts &amp; Sciences', 'Painting &amp; Sculpture']</td>\n",
       "      <td>[galleria, nazionale, arte, antica, rome, wa, ...</td>\n",
       "    </tr>\n",
       "    <tr>\n",
       "      <th>8</th>\n",
       "      <td>162291</td>\n",
       "      <td>Currency</td>\n",
       "      <td>By Nica Giromini</td>\n",
       "      <td>As in a net. Headfirst</td>\n",
       "      <td>https://www.poetryfoundation.org/poetrymagazin...</td>\n",
       "      <td>[]</td>\n",
       "      <td>[net, headfirst, prairie, spring, seeing, noth...</td>\n",
       "    </tr>\n",
       "    <tr>\n",
       "      <th>9</th>\n",
       "      <td>162267</td>\n",
       "      <td>Everyday around the world a woman is pulled in...</td>\n",
       "      <td>By Krista Franklin</td>\n",
       "      <td>Everyday some brown</td>\n",
       "      <td>https://www.poetryfoundation.org/poetrymagazin...</td>\n",
       "      <td>['Types/Modes', 'Ekphrasis']</td>\n",
       "      <td>[kara, walker, blue, â, 2020, everyday, brown,...</td>\n",
       "    </tr>\n",
       "  </tbody>\n",
       "</table>\n",
       "</div>"
      ],
      "text/plain": [
       "       id                                              title  \\\n",
       "0  162275                        The 80&rsquo;s Miracle Diet   \n",
       "1  162250                                  All Saints&rsquo;   \n",
       "2  162279                       And These Are Just a Few ...   \n",
       "3  162248                                               ASMR   \n",
       "4  162249                                               ASMR   \n",
       "5  162276                                     Autumn Leaving   \n",
       "6  162292                                             Babble   \n",
       "7  162295                            Chiaroscuro Spring time   \n",
       "8  162291                                           Currency   \n",
       "9  162267  Everyday around the world a woman is pulled in...   \n",
       "\n",
       "                    author                                            snippet  \\\n",
       "0          By Melvin Dixon                      Yours free without the asking   \n",
       "1  By Corey Van Landingham    CaravaggioÃ¢â‚¬â„¢s face in the sunken pumpkin.   \n",
       "2          By Melvin Dixon  This poem is for the epidemic dead and the liv...   \n",
       "3  By Corey Van Landingham                      Why not climb up the mountain   \n",
       "4  By Corey Van Landingham                               HelloÃ¢â‚¬â€Tonight   \n",
       "5          By Melvin Dixon                        Vermont leaves under glass,   \n",
       "6         By Nica Giromini                                     Say under land   \n",
       "7        By Cyrus Cassells  That was the season I couldn´„¢t think or writ...   \n",
       "8         By Nica Giromini                             As in a net. Headfirst   \n",
       "9       By Krista Franklin                                Everyday some brown   \n",
       "\n",
       "                                                link  \\\n",
       "0  https://www.poetryfoundation.org/poetrymagazin...   \n",
       "1  https://www.poetryfoundation.org/poetrymagazin...   \n",
       "2  https://www.poetryfoundation.org/poetrymagazin...   \n",
       "3  https://www.poetryfoundation.org/poetrymagazin...   \n",
       "4  https://www.poetryfoundation.org/poetrymagazin...   \n",
       "5  https://www.poetryfoundation.org/poetrymagazin...   \n",
       "6  https://www.poetryfoundation.org/poetrymagazin...   \n",
       "7  https://www.poetryfoundation.org/poetrymagazin...   \n",
       "8  https://www.poetryfoundation.org/poetrymagazin...   \n",
       "9  https://www.poetryfoundation.org/poetrymagazin...   \n",
       "\n",
       "                                          categories  \\\n",
       "0                     ['Living', 'Health & Illness']   \n",
       "1                                                 []   \n",
       "2  ['Living', 'Health & Illness', 'Social Comment...   \n",
       "3                                                 []   \n",
       "4                                                 []   \n",
       "5                                                 []   \n",
       "6                                                 []   \n",
       "7        ['Arts & Sciences', 'Painting & Sculpture']   \n",
       "8                                                 []   \n",
       "9                       ['Types/Modes', 'Ekphrasis']   \n",
       "\n",
       "                                        clean_tokens  \n",
       "0  [free, without, asking, quick, delivery, via, ...  \n",
       "1  [caravaggio, face, sunken, pumpkin, bulb, rott...  \n",
       "2  [poem, epidemic, dead, living, remember, neigh...  \n",
       "3  [climb, mountain, delight, world, thin, meridi...  \n",
       "4  [hello, tonight, trace, static, bough, tempora...  \n",
       "5  [didier, vermont, leaf, glass, hand, working, ...  \n",
       "6  [say, land, remembered, muddy, rush, slows, ne...  \n",
       "7  [galleria, nazionale, arte, antica, rome, wa, ...  \n",
       "8  [net, headfirst, prairie, spring, seeing, noth...  \n",
       "9  [kara, walker, blue, â, 2020, everyday, brown,...  "
      ]
     },
     "execution_count": 33,
     "metadata": {},
     "output_type": "execute_result"
    }
   ],
   "source": [
    "df.head(10)"
   ]
  }
 ],
 "metadata": {
  "kernelspec": {
   "display_name": "base",
   "language": "python",
   "name": "python3"
  },
  "language_info": {
   "codemirror_mode": {
    "name": "ipython",
    "version": 3
   },
   "file_extension": ".py",
   "mimetype": "text/x-python",
   "name": "python",
   "nbconvert_exporter": "python",
   "pygments_lexer": "ipython3",
   "version": "3.11.5"
  }
 },
 "nbformat": 4,
 "nbformat_minor": 2
}
