{
  "cells": [
    {
      "cell_type": "code",
      "execution_count": 1,
      "metadata": {
        "colab": {
          "base_uri": "https://localhost:8080/"
        },
        "id": "Qqrf_BJQVQ-S",
        "outputId": "a7650461-056e-4e18-b55f-850dda581fa4"
      },
      "outputs": [
        {
          "name": "stdout",
          "output_type": "stream",
          "text": [
            "\u001b[1;31mE: \u001b[0mCould not open lock file /var/lib/dpkg/lock-frontend - open (13: Permission denied)\u001b[0m\n",
            "\u001b[1;31mE: \u001b[0mUnable to acquire the dpkg frontend lock (/var/lib/dpkg/lock-frontend), are you root?\u001b[0m\n",
            "\u001b[1;31mE: \u001b[0mCould not open lock file /var/lib/dpkg/lock-frontend - open (13: Permission denied)\u001b[0m\n",
            "\u001b[1;31mE: \u001b[0mUnable to acquire the dpkg frontend lock (/var/lib/dpkg/lock-frontend), are you root?\u001b[0m\n",
            "Requirement already satisfied: pytesseract in /home/vm/anaconda3/lib/python3.11/site-packages (0.3.10)\n",
            "Requirement already satisfied: packaging>=21.3 in /home/vm/anaconda3/lib/python3.11/site-packages (from pytesseract) (23.1)\n",
            "Requirement already satisfied: Pillow>=8.0.0 in /home/vm/anaconda3/lib/python3.11/site-packages (from pytesseract) (10.2.0)\n"
          ]
        }
      ],
      "source": [
        "!apt install tesseract-ocr\n",
        "!apt install libtesseract-dev\n",
        "!pip install pytesseract"
      ]
    },
    {
      "cell_type": "code",
      "execution_count": 2,
      "metadata": {
        "id": "fIMP6AG0MqWp"
      },
      "outputs": [],
      "source": [
        "from bs4 import BeautifulSoup\n",
        "import pandas as pd\n",
        "import json\n",
        "import requests\n",
        "from PIL import Image\n",
        "import pytesseract\n",
        "import numpy as np\n",
        "import requests\n",
        "from io import BytesIO"
      ]
    },
    {
      "cell_type": "markdown",
      "metadata": {
        "id": "ZmQB2thgMrgG"
      },
      "source": [
        "# Dataset\n",
        "\n",
        "To obtain the daataset we have done web scrapping in the https://www.poetryfoundation.org/ web. First we obtain the number of poems of a given period and then we iterate over all the pages to obtain the title, author and the poem itself."
      ]
    },
    {
      "cell_type": "code",
      "execution_count": 3,
      "metadata": {
        "id": "9mXBKwO2MoNt"
      },
      "outputs": [],
      "source": [
        "def extract_total_results(url):\n",
        "    response = requests.get(url)\n",
        "    data = response.json()\n",
        "    total_results = data['TotalResults']\n",
        "    return total_results"
      ]
    },
    {
      "cell_type": "code",
      "execution_count": 4,
      "metadata": {
        "id": "r830gp6oBF7N"
      },
      "outputs": [],
      "source": [
        "# def extract_text_from_image(url):\n",
        "#   response = requests.get(url)\n",
        "#   img_bytes = BytesIO(response.content)\n",
        "\n",
        "\n",
        "#   img = np.array(Image.open(img_bytes))\n",
        "\n",
        "#   img_np = np.array(img)\n",
        "  \n",
        "#   if img_np.size > 0:\n",
        "#       text = pytesseract.image_to_string(img_np)\n",
        "#       text = text.replace('\\n', ' ')\n",
        "#   else:\n",
        "#       text = None\n",
        "\n",
        "#   return text\n",
        "\n",
        "def extract_text_from_image(url):\n",
        "  try:\n",
        "        response = requests.get(url)\n",
        "        img_bytes = BytesIO(response.content)\n",
        "        img1 = np.array(Image.open(img_bytes))\n",
        "        text = pytesseract.image_to_string(img1)\n",
        "        text = text.replace('\\n', ' ')\n",
        "        return text\n",
        "  except Exception as e:\n",
        "        print(f\"An error occurred: {e}\")\n",
        "        return None"
      ]
    },
    {
      "cell_type": "code",
      "execution_count": 5,
      "metadata": {
        "colab": {
          "base_uri": "https://localhost:8080/"
        },
        "id": "XdfzagF9JdDe",
        "outputId": "f97f06e8-ebbf-47aa-ca98-a34e90f8ee21"
      },
      "outputs": [
        {
          "name": "stdout",
          "output_type": "stream",
          "text": [
            "https://static.poetryfoundation.org/jstor/i20585549/pages/14.png\n",
            "POETRY  three sonnets of ronsard  COMME ON VOIT SUR LA BRANCHE  As one sees on its branch, in May, the rose  In its bright youth and new astonishment,  Making the heavens jealous of its tint  When, touched with dew, inthe first light it glows, Then, in its petal, grace and love repose,  Filling the gardens and the trees with scent;  But, scourged by the sun’s heat, by the rain bent, Drooping, it dies: petal from petal blows.  So your bright youth, which earth and heaven adore, Lies now in ashes, for no love can strive  Against the murdering Fate. For obsequy,  Receive my tears, this vase of milk I pour,  This basket full of flowers, so that alive  And dead, your body shall all roses be.  200 \f\n"
          ]
        }
      ],
      "source": [
        "url = 'https://www.poetryfoundation.org/poetrymagazine/browse?contentId=26576'\n",
        "\n",
        "response = requests.get(url)\n",
        "poem_soup=BeautifulSoup(response.text, 'html.parser')\n",
        "poem=poem_soup.find(class_='c-assetStack-media')\n",
        "img = poem.find('img')\n",
        "src_value = img['src']\n",
        "print(src_value)\n",
        "text=extract_text_from_image(src_value)\n",
        "\n",
        "print(text)"
      ]
    },
    {
      "cell_type": "code",
      "execution_count": 6,
      "metadata": {
        "id": "LEsWAdrBEyF2"
      },
      "outputs": [],
      "source": [
        "def extract_poems(url,period):\n",
        "    response = requests.get(url)\n",
        "    data = response.json()\n",
        "\n",
        "    # Extract attributes from each entry\n",
        "    entries = []\n",
        "    for entry in data['Entries']:\n",
        "        entry_data = {\n",
        "            'id': entry['id'],\n",
        "            'title': entry['title'],\n",
        "            'author': entry['author'],\n",
        "            'snippet': entry['snippet'],\n",
        "            'link': entry['link'],\n",
        "            'categories': [category['title'] for category in entry['categories']],\n",
        "            'period': period\n",
        "        }\n",
        "\n",
        "        # Fetch the poem content from the link\n",
        "        poem_response = requests.get(entry_data['link'])\n",
        "        poem_soup = BeautifulSoup(poem_response.text, 'html.parser')\n",
        "        poem = poem_soup.find(class_='o-poem')\n",
        "        if poem != None:\n",
        "          poem_text = poem.get_text(separator=' ', strip=True) # If we wanted to take into accouent the form of the poem use \\n as separator\n",
        "\n",
        "          # Add poem text to the entry data\n",
        "          entry_data['poem'] = poem_text\n",
        "        \n",
        "        else: # When the poem is an image\n",
        "          poem=poem_soup.find(class_='c-assetStack-media')\n",
        "\n",
        "          if poem == None: #  It is audio\n",
        "              entry_data['poem'] = None\n",
        "          else:\n",
        "            img = poem.find('img')\n",
        "            src_value = img['src']\n",
        "            poem_text = extract_text_from_image(src_value)\n",
        "            entry_data['poem'] = poem_text\n",
        "\n",
        "        entries.append(entry_data)\n",
        "\n",
        "    # Create a pandas DataFrame\n",
        "    df = pd.DataFrame(entries)\n",
        "    return df"
      ]
    },
    {
      "cell_type": "code",
      "execution_count": 7,
      "metadata": {
        "id": "HB3bDvoGV89G"
      },
      "outputs": [],
      "source": [
        "# Initialize an empty list to store individual DataFrames\n",
        "dfs = []\n",
        "period_ids = {\n",
        "    'Middle English': 158,\n",
        "    'Augustan': 149,\n",
        "    'Renaissance': 163,\n",
        "    'Romantic': 164,\n",
        "    'Victorian': 165,\n",
        "    'Fugitive': 153,\n",
        "    'Georgian': 154,\n",
        "    'Harlem Renaissance': 155,\n",
        "    'Imagist': 156,\n",
        "    'Modern': 159,\n",
        "    'Objectivist': 162,\n",
        "    'Beat': 150,\n",
        "    'Black Arts Movement': 304,\n",
        "    'Black Mountain': 151,\n",
        "    'Confessional': 152,\n",
        "    'Language Poetry': 157,\n",
        "    'New York School': 160,\n",
        "    'New York School (2nd Generation)': 161\n",
        "}"
      ]
    },
    {
      "cell_type": "code",
      "execution_count": null,
      "metadata": {
        "colab": {
          "base_uri": "https://localhost:8080/"
        },
        "id": "SjTHwJ4-E9HY",
        "outputId": "2c865096-3ff0-4468-f2ba-f1e3bdf3f727"
      },
      "outputs": [],
      "source": [
        "#Loop over all the periods to find how many entries they have\n",
        "for i in period_ids:\n",
        "  total_results = extract_total_results(\"https://www.poetryfoundation.org/ajax/poems?page=1&sort_by=title&school-period={}\".format(period_ids[i]))\n",
        "  print(\"Extracting poems of \", i)\n",
        "  # Loop through the URLs\n",
        "  for j in range(total_results // 20 + 1): # 20 poems per page\n",
        "      url = \"https://www.poetryfoundation.org/ajax/poems?page={}&sort_by=title&school-period={}\".format(j+1, period_ids[i])\n",
        "      # Extract DataFrame from each URL and append to the list\n",
        "      dfs.append(extract_poems(url,i))\n",
        "\n"
      ]
    },
    {
      "cell_type": "code",
      "execution_count": null,
      "metadata": {
        "id": "E9n-6hLfbqpn"
      },
      "outputs": [
        {
          "name": "stdout",
          "output_type": "stream",
          "text": [
            "2318\n"
          ]
        }
      ],
      "source": [
        "# Concatenate all DataFrames into a single DataFrame\n",
        "final_df = pd.concat(dfs, ignore_index=True)\n",
        "\n",
        "# Display the final DataFrame\n",
        "print(len(final_df))\n",
        "final_df.head()\n",
        "\n",
        "final_df.to_csv(\"poems_data.csv\", index=False, quoting=1)"
      ]
    },
    {
      "cell_type": "markdown",
      "metadata": {},
      "source": [
        "### Full Poems Extraction for good Tokenization"
      ]
    },
    {
      "cell_type": "code",
      "execution_count": 9,
      "metadata": {},
      "outputs": [],
      "source": [
        "def extract_poems(url):\n",
        "    response = requests.get(url)\n",
        "    data = response.json()\n",
        "\n",
        "    # Extract attributes from each entry\n",
        "    entries = []\n",
        "    for entry in data['Entries']:\n",
        "        entry_data = {\n",
        "            'id': entry['id'],\n",
        "            'title': entry['title'],\n",
        "            'author': entry['author'],\n",
        "            'snippet': entry['snippet'],\n",
        "            'link': entry['link'],\n",
        "            'categories': [category['title'] for category in entry['categories']]            \n",
        "        }\n",
        "\n",
        "        # Fetch the poem content from the link\n",
        "        poem_response = requests.get(entry_data['link'])\n",
        "        poem_soup = BeautifulSoup(poem_response.text, 'html.parser')\n",
        "        poem = poem_soup.find(class_='o-poem')\n",
        "        if poem != None:\n",
        "          poem_text = poem.get_text(separator=' ', strip=True) # If we wanted to take into accouent the form of the poem use \\n as separator\n",
        "\n",
        "          # Add poem text to the entry data\n",
        "          entry_data['poem'] = poem_text\n",
        "        else: # When the poem is an image\n",
        "          poem=poem_soup.find(class_='c-assetStack-media')\n",
        "          \n",
        "          if poem == None: ## It is audio\n",
        "              entry_data['poem'] = None\n",
        "          else:\n",
        "            img = poem.find('img')\n",
        "            src_value = img['src']\n",
        "            poem_text = extract_text_from_image(src_value)\n",
        "            entry_data['poem'] = poem_text\n",
        "\n",
        "        entries.append(entry_data)\n",
        "\n",
        "    # Create a pandas DataFrame\n",
        "    df = pd.DataFrame(entries)\n",
        "    return df\n",
        "\n",
        "\n"
      ]
    },
    {
      "cell_type": "code",
      "execution_count": 10,
      "metadata": {},
      "outputs": [
        {
          "name": "stdout",
          "output_type": "stream",
          "text": [
            "We have counted already  200\n",
            "We have counted already  400\n",
            "We have counted already  600\n",
            "We have counted already  800\n",
            "We have counted already  1000\n",
            "We have counted already  1200\n",
            "We have counted already  1400\n",
            "We have counted already  1600\n",
            "We have counted already  1800\n",
            "We have counted already  2000\n"
          ]
        }
      ],
      "source": [
        "total_results = extract_total_results(\"https://www.poetryfoundation.org/ajax/poems?page=1\")\n",
        "dfs = []\n",
        "n_poems = 0\n",
        "count =0\n",
        "\n",
        "for j in range(216,total_results // 20 + 1): # 20 poems per page\n",
        "  \n",
        "\n",
        "    url = \"https://www.poetryfoundation.org/ajax/poems?page={}\".format(j+1)\n",
        "    # Extract DataFrame from each URL and append to the list\n",
        "    dfs.append(extract_poems(url))\n",
        "\n",
        "    n_poems += 20\n",
        "    count += 1\n",
        "    if count == 10:\n",
        "        print(\"We have counted already \", n_poems)\n",
        "        count = 0"
      ]
    },
    {
      "cell_type": "code",
      "execution_count": null,
      "metadata": {},
      "outputs": [
        {
          "name": "stdout",
          "output_type": "stream",
          "text": [
            "2880\n"
          ]
        }
      ],
      "source": [
        "# Concatenate all DataFrames into a single DataFrame\n",
        "df = pd.concat(dfs, ignore_index=True)\n",
        "\n",
        "# Display the final DataFrame\n",
        "print(len(df))\n",
        "df.head()\n",
        "\n",
        "df.to_csv(\"full_poems_data.csv\", index=False, quoting=1)"
      ]
    }
  ],
  "metadata": {
    "colab": {
      "provenance": []
    },
    "kernelspec": {
      "display_name": "Python 3",
      "name": "python3"
    },
    "language_info": {
      "codemirror_mode": {
        "name": "ipython",
        "version": 3
      },
      "file_extension": ".py",
      "mimetype": "text/x-python",
      "name": "python",
      "nbconvert_exporter": "python",
      "pygments_lexer": "ipython3",
      "version": "3.11.7"
    }
  },
  "nbformat": 4,
  "nbformat_minor": 0
}
